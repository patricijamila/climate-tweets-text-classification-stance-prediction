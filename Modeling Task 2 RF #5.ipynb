{
 "cells": [
  {
   "cell_type": "code",
   "execution_count": 7,
   "id": "2a56c71c-aca7-40de-a0a9-708937864812",
   "metadata": {},
   "outputs": [],
   "source": [
    "# import packages\n",
    "\n",
    "import pandas as pd\n",
    "import numpy as np\n",
    "from matplotlib import pyplot as plt\n",
    "import pickle\n",
    "from sklearn.model_selection import train_test_split\n",
    "from sklearn.ensemble import RandomForestClassifier\n",
    "from sklearn.metrics import accuracy_score, confusion_matrix, precision_score, recall_score, roc_auc_score, roc_curve, f1_score\n",
    "from sklearn.preprocessing import OneHotEncoder\n",
    "from sklearn.compose import make_column_transformer\n",
    "from sklearn.pipeline import make_pipeline\n",
    "from sklearn.metrics import classification_report\n",
    "from imblearn.over_sampling import RandomOverSampler\n",
    "from imblearn.under_sampling import RandomUnderSampler\n",
    "from collections import Counter"
   ]
  },
  {
   "cell_type": "code",
   "execution_count": 2,
   "id": "d4209b6c-d1ef-4c6c-bc15-c825f32148ce",
   "metadata": {},
   "outputs": [],
   "source": [
    "# import data\n",
    "\n",
    "df = pd.read_pickle(\"../data/usa_classified_tweets.pkl\")"
   ]
  },
  {
   "cell_type": "code",
   "execution_count": 3,
   "id": "a28f5591-31ec-4b7a-be43-1b2220468dcc",
   "metadata": {},
   "outputs": [
    {
     "name": "stdout",
     "output_type": "stream",
     "text": [
      "<class 'pandas.core.frame.DataFrame'>\n",
      "RangeIndex: 152945 entries, 0 to 152944\n",
      "Data columns (total 16 columns):\n",
      " #   Column               Non-Null Count   Dtype  \n",
      "---  ------               --------------   -----  \n",
      " 0   id                   152945 non-null  int64  \n",
      " 1   text                 152945 non-null  object \n",
      " 2   location             152945 non-null  object \n",
      " 3   total_pop            152945 non-null  float64\n",
      " 4   women                152945 non-null  float64\n",
      " 5   hispanic             152945 non-null  float64\n",
      " 6   white                152945 non-null  float64\n",
      " 7   black                152945 non-null  float64\n",
      " 8   other_ethnicities    152945 non-null  float64\n",
      " 9   income_per_cap       152945 non-null  float64\n",
      " 10  unemployment         152945 non-null  float64\n",
      " 11  poverty              152945 non-null  float64\n",
      " 12  democrats            152945 non-null  float64\n",
      " 13  republicans          152945 non-null  float64\n",
      " 14  voting_age_citizens  152945 non-null  float64\n",
      " 15  believer_denier      152945 non-null  int64  \n",
      "dtypes: float64(12), int64(2), object(2)\n",
      "memory usage: 18.7+ MB\n"
     ]
    }
   ],
   "source": [
    "df.info()"
   ]
  },
  {
   "cell_type": "code",
   "execution_count": 4,
   "id": "ca5dcba1-6b35-41cc-b661-703160e00602",
   "metadata": {},
   "outputs": [],
   "source": [
    "df = df.drop(columns=['id', 'text', 'location', 'total_pop'])"
   ]
  },
  {
   "cell_type": "code",
   "execution_count": 16,
   "id": "57cdb433-52ed-4520-9be8-edda935b590a",
   "metadata": {},
   "outputs": [],
   "source": [
    "X = df.drop('believer_denier', axis=1)\n",
    "\n",
    "y = df['believer_denier']"
   ]
  },
  {
   "cell_type": "markdown",
   "id": "ec13cd3f-a3ab-4e1f-9029-b1c3c6ab69ce",
   "metadata": {
    "jp-MarkdownHeadingCollapsed": true,
    "tags": []
   },
   "source": [
    "## Baseline Model"
   ]
  },
  {
   "cell_type": "code",
   "execution_count": 17,
   "id": "37d3c5a8-919a-47a9-adea-b565ddefdc8f",
   "metadata": {},
   "outputs": [],
   "source": [
    "from sklearn.dummy import DummyClassifier"
   ]
  },
  {
   "cell_type": "code",
   "execution_count": 63,
   "id": "64fdafe3-8d5d-4253-9761-be18ecff8874",
   "metadata": {},
   "outputs": [
    {
     "name": "stdout",
     "output_type": "stream",
     "text": [
      "              precision    recall  f1-score   support\n",
      "\n",
      "           0       0.00      0.00      0.00     10421\n",
      "           1       0.66      1.00      0.79     20168\n",
      "\n",
      "    accuracy                           0.66     30589\n",
      "   macro avg       0.33      0.50      0.40     30589\n",
      "weighted avg       0.43      0.66      0.52     30589\n",
      "\n"
     ]
    }
   ],
   "source": [
    "X_train, X_test, y_train, y_test = train_test_split(X,y,test_size=0.2, random_state = 42)\n",
    "\n",
    "dummy = DummyClassifier(strategy='most_frequent')\n",
    "dummy.fit(X_train,y_train)\n",
    "y_pred = dummy.predict(X_test)\n",
    "print(classification_report(y_test, y_pred))"
   ]
  },
  {
   "cell_type": "code",
   "execution_count": 64,
   "id": "e11a608a-3c25-4720-97a2-dff0db996222",
   "metadata": {},
   "outputs": [],
   "source": [
    "# Save this model\n",
    "\n",
    "pickle.dump(dummy, open('baseline_task2.pkl','wb'))"
   ]
  },
  {
   "cell_type": "markdown",
   "id": "687ec30d-1c10-4030-95b9-5baaa028adda",
   "metadata": {
    "tags": []
   },
   "source": [
    "## RF with Oversampling"
   ]
  },
  {
   "cell_type": "code",
   "execution_count": 26,
   "id": "64b36a9c-020e-4aa9-8387-d88cb20180ad",
   "metadata": {},
   "outputs": [
    {
     "data": {
      "text/plain": [
       "1    100749\n",
       "0     52196\n",
       "Name: believer_denier, dtype: int64"
      ]
     },
     "execution_count": 26,
     "metadata": {},
     "output_type": "execute_result"
    }
   ],
   "source": [
    "y.value_counts()"
   ]
  },
  {
   "cell_type": "code",
   "execution_count": 42,
   "id": "192b040d-4f65-4372-99d6-a847a91eec5f",
   "metadata": {},
   "outputs": [
    {
     "name": "stdout",
     "output_type": "stream",
     "text": [
      "Counter({0: 100749, 1: 100749})\n"
     ]
    }
   ],
   "source": [
    "# instantiating the random over sampler \n",
    "ros = RandomOverSampler()\n",
    "# resampling X, y\n",
    "X_ros, y_ros = ros.fit_resample(X, y)\n",
    "# new class distribution \n",
    "print(Counter(y_ros))"
   ]
  },
  {
   "cell_type": "code",
   "execution_count": 43,
   "id": "2509abaf-4f12-4509-bf57-99d1188d8db4",
   "metadata": {},
   "outputs": [],
   "source": [
    "X_train, X_test, y_train, y_test = train_test_split(X_ros,y_ros,test_size=0.2, random_state = 42)"
   ]
  },
  {
   "cell_type": "code",
   "execution_count": 44,
   "id": "b1187980-d368-4bc9-ad48-7c747e640c79",
   "metadata": {},
   "outputs": [
    {
     "name": "stdout",
     "output_type": "stream",
     "text": [
      "              precision    recall  f1-score   support\n",
      "\n",
      "           0       0.63      0.60      0.61     20278\n",
      "           1       0.61      0.64      0.62     20022\n",
      "\n",
      "    accuracy                           0.62     40300\n",
      "   macro avg       0.62      0.62      0.62     40300\n",
      "weighted avg       0.62      0.62      0.62     40300\n",
      "\n"
     ]
    }
   ],
   "source": [
    "# run model and generate classification report\n",
    "model = RandomForestClassifier()\n",
    "model.fit(X_train, y_train)\n",
    "y_pred = model.predict(X_test)\n",
    "\n",
    "print(classification_report(y_test, y_pred))"
   ]
  },
  {
   "cell_type": "code",
   "execution_count": 45,
   "id": "1ab2a50c-3366-4e64-a558-2d7e7ce67ea5",
   "metadata": {},
   "outputs": [],
   "source": [
    "train_probs = model.predict_proba(X_train)[:,1] \n",
    "probs = model.predict_proba(X_test)[:, 1]\n",
    "train_predictions = model.predict(X_train)"
   ]
  },
  {
   "cell_type": "code",
   "execution_count": 46,
   "id": "492212b6-588e-4023-b224-530b9c41b031",
   "metadata": {},
   "outputs": [
    {
     "name": "stdout",
     "output_type": "stream",
     "text": [
      "Train ROC AUC Score: 0.68\n",
      "Test ROC AUC  Score: 0.67\n"
     ]
    }
   ],
   "source": [
    "# print ROC AUC scores\n",
    "print(f'Train ROC AUC Score: {round(roc_auc_score(y_train, train_probs),2)}')\n",
    "print(f'Test ROC AUC  Score: {round(roc_auc_score(y_test, probs),2)}')"
   ]
  },
  {
   "cell_type": "code",
   "execution_count": 47,
   "id": "79d34fdd-2201-428a-ae28-c9aac114af89",
   "metadata": {},
   "outputs": [
    {
     "name": "stdout",
     "output_type": "stream",
     "text": [
      "Baseline: {1.0} Test: {0.64} Train: {0.64}\n",
      "Baseline: {0.5} Test: {0.61} Train: {0.62}\n",
      "Baseline: {0.5} Test: {0.67} Train: {0.68}\n"
     ]
    },
    {
     "data": {
      "image/png": "[encoded data removed]",
      "text/plain": [
       "<Figure size 576x432 with 1 Axes>"
      ]
     },
     "metadata": {
      "needs_background": "light"
     },
     "output_type": "display_data"
    }
   ],
   "source": [
    "#https://towardsdatascience.com/my-random-forest-classifier-cheat-sheet-in-python-fedb84f8cf4f\n",
    "\n",
    "def evaluate_model(y_pred, probs,train_predictions, train_probs):\n",
    "    baseline = {}\n",
    "    baseline['recall']=recall_score(y_test,\n",
    "                    [1 for _ in range(len(y_test))])\n",
    "    baseline['precision'] = precision_score(y_test,\n",
    "                    [1 for _ in range(len(y_test))])\n",
    "    baseline['roc'] = 0.5\n",
    "    results = {}\n",
    "    results['recall'] = recall_score(y_test, y_pred)\n",
    "    results['precision'] = precision_score(y_test, y_pred)\n",
    "    results['roc'] = roc_auc_score(y_test, probs)\n",
    "    train_results = {}\n",
    "    train_results['recall'] = recall_score(y_train, train_predictions)\n",
    "    train_results['precision'] = precision_score(y_train, train_predictions)\n",
    "    train_results['roc'] = roc_auc_score(y_train, train_probs)\n",
    "    for metric in ['recall', 'precision', 'roc']:  \n",
    "          print('Baseline:', {round(baseline[metric], 2)}, \n",
    "                 'Test:', {round(results[metric], 2)}, \n",
    "                 'Train:', {round(train_results[metric], 2)})\n",
    "     # Calculate false positive rates and true positive rates\n",
    "    base_fpr, base_tpr, _ = roc_curve(y_test, [1 for _ in range(len(y_test))])\n",
    "    model_fpr, model_tpr, _ = roc_curve(y_test, probs)\n",
    "    plt.figure(figsize = (8, 6))\n",
    "    plt.rcParams['font.size'] = 16\n",
    "    # Plot both curves\n",
    "    plt.plot(base_fpr, base_tpr, 'b', label = 'baseline')\n",
    "    plt.plot(model_fpr, model_tpr, 'r', label = 'model')\n",
    "    plt.legend();\n",
    "    plt.xlabel('False Positive Rate');\n",
    "    plt.ylabel('True Positive Rate'); plt.title('ROC Curves');\n",
    "    plt.show();\n",
    "evaluate_model(y_pred,probs,train_predictions,train_probs)"
   ]
  },
  {
   "cell_type": "code",
   "execution_count": 48,
   "id": "c862e541-8ab3-4ded-91ca-9ec88c875847",
   "metadata": {},
   "outputs": [
    {
     "data": {
      "image/png": "[encoded data removed]",
      "text/plain": [
       "<Figure size 720x720 with 2 Axes>"
      ]
     },
     "metadata": {
      "needs_background": "light"
     },
     "output_type": "display_data"
    }
   ],
   "source": [
    "#https://towardsdatascience.com/my-random-forest-classifier-cheat-sheet-in-python-fedb84f8cf4f\n",
    "\n",
    "import itertools\n",
    "def plot_confusion_matrix(cm, classes, normalize = False,\n",
    "                          title='Confusion matrix',\n",
    "                          cmap=plt.cm.Greens): # can change color \n",
    "    plt.figure(figsize = (10, 10))\n",
    "    plt.imshow(cm, interpolation='nearest', cmap=cmap)\n",
    "    plt.title(title, size = 24)\n",
    "    plt.colorbar(aspect=4)\n",
    "    tick_marks = np.arange(len(classes))\n",
    "    plt.xticks(tick_marks, classes, rotation=45, size = 14)\n",
    "    plt.yticks(tick_marks, classes, size = 14)\n",
    "    fmt = '.2f' if normalize else 'd'\n",
    "    thresh = cm.max() / 2.\n",
    "    # Label the plot\n",
    "    for i, j in itertools.product(range(cm.shape[0]),   range(cm.shape[1])):\n",
    "        plt.text(j, i, format(cm[i, j], fmt), \n",
    "                 fontsize = 20,\n",
    "                 horizontalalignment=\"center\",\n",
    "                 color=\"white\" if cm[i, j] > thresh else \"black\")\n",
    "    plt.grid(None)\n",
    "    plt.tight_layout()\n",
    "    plt.ylabel('True label', size = 18)\n",
    "    plt.xlabel('Predicted label', size = 18)\n",
    "\n",
    "# Let's plot it out\n",
    "cm = confusion_matrix(y_test, y_pred)\n",
    "plot_confusion_matrix(cm, classes = ['0 - Denier', '1 - Believer'],\n",
    "                      title = 'Confusion Matrix')"
   ]
  },
  {
   "cell_type": "markdown",
   "id": "1655a091-7514-401e-9912-8085978a4b2a",
   "metadata": {},
   "source": [
    "## Parameter Tuning"
   ]
  },
  {
   "cell_type": "code",
   "execution_count": 49,
   "id": "785a9d3d-1aad-4cfa-bea9-838183c11bd5",
   "metadata": {},
   "outputs": [],
   "source": [
    "# train-test split\n",
    "\n",
    "X_train, X_test, y_train, y_test = train_test_split(X_ros,y_ros,test_size=0.2, random_state = 42)"
   ]
  },
  {
   "cell_type": "code",
   "execution_count": 50,
   "id": "ad971431-6183-4c01-b185-636fde6f597f",
   "metadata": {},
   "outputs": [],
   "source": [
    "#https://towardsdatascience.com/my-random-forest-classifier-cheat-sheet-in-python-fedb84f8cf4f\n",
    "\n",
    "from sklearn.model_selection import RandomizedSearchCV\n",
    "\n",
    "n_estimators = [int(x) for x in np.linspace(start = 100, stop = 700, num = 50)]\n",
    "max_features = ['auto', 'log2']  # Number of features to consider at every split\n",
    "max_depth = [int(x) for x in np.linspace(10, 110, num = 11)]   # Maximum number of levels in tree\n",
    "max_depth.append(None)\n",
    "min_samples_split = [2, 5, 10]  # Minimum number of samples required to split a node\n",
    "min_samples_leaf = [1, 4, 10]    # Minimum number of samples required at each leaf node\n",
    "bootstrap = [True, False]       # Method of selecting samples for training each tree\n",
    "random_grid = {'n_estimators': n_estimators,\n",
    "               'max_features': max_features,\n",
    "               'max_depth': max_depth,\n",
    "               'min_samples_split': min_samples_split,\n",
    "               'min_samples_leaf': min_samples_leaf,\n",
    "               'max_leaf_nodes': [None] + list(np.linspace(10, 50, 500).astype(int)),\n",
    "               'bootstrap': bootstrap}"
   ]
  },
  {
   "cell_type": "code",
   "execution_count": null,
   "id": "756e3105-8e7c-4914-baed-5147ec4b7afd",
   "metadata": {},
   "outputs": [],
   "source": [
    "# Create base model to tune\n",
    "rf = RandomForestClassifier(oob_score=True)\n",
    "# Create random search model and fit the data\n",
    "rf_random = RandomizedSearchCV(\n",
    "                        estimator = rf,\n",
    "                        param_distributions = random_grid,\n",
    "                        n_iter = 100, cv = 3,\n",
    "                        verbose=2, random_state=43, \n",
    "                        scoring='roc_auc')\n",
    "rf_random.fit(X_train, y_train)\n",
    "rf_random.best_params_\n",
    "rf_random.best_params_"
   ]
  },
  {
   "cell_type": "markdown",
   "id": "8f1a5e43-93d8-4a2a-a179-3d0b9fedaa61",
   "metadata": {},
   "source": [
    "## Prediction and Feature Importance"
   ]
  },
  {
   "cell_type": "markdown",
   "id": "260bf0f8-9938-4bd3-878b-cf1866143e06",
   "metadata": {},
   "source": [
    "{'n_estimators': 687,\n",
    " 'min_samples_split': 2,\n",
    " 'min_samples_leaf': 4,\n",
    " 'max_leaf_nodes': 49,\n",
    " 'max_features': 'log2',\n",
    " 'max_depth': 60,\n",
    " 'bootstrap': True}"
   ]
  },
  {
   "cell_type": "code",
   "execution_count": 51,
   "id": "3c500a92-aabf-497b-b7aa-31c081d2813e",
   "metadata": {},
   "outputs": [],
   "source": [
    "best_model = RandomForestClassifier(n_estimators=687,\n",
    "                                       min_samples_split=2,\n",
    "                                       min_samples_leaf=4,\n",
    "                                       max_leaf_nodes=49,\n",
    "                                       max_features='log2',\n",
    "                                       max_depth=60,\n",
    "                                       bootstrap=True)"
   ]
  },
  {
   "cell_type": "code",
   "execution_count": 53,
   "id": "bfde56ff-8453-47db-96fd-b2547afa8900",
   "metadata": {},
   "outputs": [
    {
     "name": "stdout",
     "output_type": "stream",
     "text": [
      "              precision    recall  f1-score   support\n",
      "\n",
      "           0       0.62      0.62      0.62     20278\n",
      "           1       0.61      0.61      0.61     20022\n",
      "\n",
      "    accuracy                           0.62     40300\n",
      "   macro avg       0.62      0.62      0.62     40300\n",
      "weighted avg       0.62      0.62      0.62     40300\n",
      "\n"
     ]
    }
   ],
   "source": [
    "best_model.fit(X_train, y_train)\n",
    "y_pred = best_model.predict(X_test)\n",
    "print(classification_report(y_test, y_pred))"
   ]
  },
  {
   "cell_type": "code",
   "execution_count": 55,
   "id": "9ee7f42c-ee8a-4066-ad0a-93715bc38e82",
   "metadata": {},
   "outputs": [
    {
     "name": "stdout",
     "output_type": "stream",
     "text": [
      "Feature: 0, Score: 0.03401\n",
      "Feature: 1, Score: 0.03192\n",
      "Feature: 2, Score: 0.03867\n",
      "Feature: 3, Score: 0.06589\n",
      "Feature: 4, Score: 0.07877\n",
      "Feature: 5, Score: 0.12666\n",
      "Feature: 6, Score: 0.03235\n",
      "Feature: 7, Score: 0.02352\n",
      "Feature: 8, Score: 0.23665\n",
      "Feature: 9, Score: 0.29311\n",
      "Feature: 10, Score: 0.03844\n"
     ]
    },
    {
     "data": {
      "image/png": "[encoded data removed]",
      "text/plain": [
       "<Figure size 432x288 with 1 Axes>"
      ]
     },
     "metadata": {
      "needs_background": "light"
     },
     "output_type": "display_data"
    }
   ],
   "source": [
    "# Find scores that show how important each feature is\n",
    "\n",
    "importance = best_model.feature_importances_\n",
    "\n",
    "importances_dict = {}\n",
    "\n",
    "for i,v in enumerate(importance):\n",
    "    print('Feature: %0d, Score: %.5f' % (i,v))\n",
    "    importances_dict[i] = v\n",
    "\n",
    "# plot feature importance\n",
    "plt.bar([x for x in range(len(importance))], importance)\n",
    "plt.show()"
   ]
  },
  {
   "cell_type": "code",
   "execution_count": 56,
   "id": "926095a2-2161-4cc9-b54a-0b46b9151736",
   "metadata": {},
   "outputs": [
    {
     "name": "stdout",
     "output_type": "stream",
     "text": [
      "[('republicans', 0.293114664792611),\n",
      " ('democrats', 0.23664925210633758),\n",
      " ('income_per_cap', 0.12666427801977184),\n",
      " ('other_ethnicities', 0.0787658621542777),\n",
      " ('black', 0.06589091444056808),\n",
      " ('white', 0.03867056085677531),\n",
      " ('voting_age_citizens', 0.038438654717806386),\n",
      " ('women', 0.03400594660628936),\n",
      " ('unemployment', 0.03235490258063368),\n",
      " ('hispanic', 0.03192256135201199),\n",
      " ('poverty', 0.023522402372917185)]\n"
     ]
    }
   ],
   "source": [
    "import pprint\n",
    "\n",
    "importance_dic = {}\n",
    "\n",
    "for feat, importance in zip(X.columns, best_model.feature_importances_):\n",
    "    #print('feature:', {feat}, 'importance:', {importance})\n",
    "    importance_dic[feat] = importance\n",
    "    \n",
    "pprint.pprint(sorted(importance_dic.items(), key = lambda x: x[1], reverse = True))"
   ]
  },
  {
   "cell_type": "code",
   "execution_count": null,
   "id": "4de7e283-1166-4fc9-82be-31b7fb2d83c7",
   "metadata": {},
   "outputs": [],
   "source": []
  }
 ],
 "metadata": {
  "kernelspec": {
   "display_name": "Python 3 (ipykernel)",
   "language": "python",
   "name": "python3"
  },
  "language_info": {
   "codemirror_mode": {
    "name": "ipython",
    "version": 3
   },
   "file_extension": ".py",
   "mimetype": "text/x-python",
   "name": "python",
   "nbconvert_exporter": "python",
   "pygments_lexer": "ipython3",
   "version": "3.8.11"
  }
 },
 "nbformat": 4,
 "nbformat_minor": 5
}
