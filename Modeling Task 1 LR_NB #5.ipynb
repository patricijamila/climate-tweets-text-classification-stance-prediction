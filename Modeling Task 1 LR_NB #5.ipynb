{
 "cells": [
  {
   "cell_type": "markdown",
   "id": "00e70b52-182a-4a77-82dd-e89ed14be0b2",
   "metadata": {
    "tags": []
   },
   "source": [
    "## Import Libraries & Data"
   ]
  },
  {
   "cell_type": "code",
   "execution_count": 1,
   "id": "b6329634-0988-4b8d-9c1b-39c1a8054a55",
   "metadata": {
    "colab": {
     "base_uri": "https://localhost:8080/"
    },
    "id": "b6329634-0988-4b8d-9c1b-39c1a8054a55",
    "outputId": "99e1cff0-cb77-458c-b613-489d53c031c0"
   },
   "outputs": [
    {
     "name": "stderr",
     "output_type": "stream",
     "text": [
      "[nltk_data] Downloading package stopwords to /Users/mac/nltk_data...\n",
      "[nltk_data]   Package stopwords is already up-to-date!\n"
     ]
    }
   ],
   "source": [
    "import pandas as pd\n",
    "import numpy as np\n",
    "import pickle\n",
    "import matplotlib.pyplot as plt\n",
    "import plotly.express as px\n",
    "import html\n",
    "import re\n",
    "import string\n",
    "import spacy\n",
    "import math\n",
    "\n",
    "import wordcloud\n",
    "from wordcloud import WordCloud, STOPWORDS, ImageColorGenerator\n",
    "\n",
    "import nltk\n",
    "from nltk import word_tokenize\n",
    "from nltk.tokenize import TweetTokenizer\n",
    "from nltk.corpus import stopwords, wordnet\n",
    "from nltk.stem import WordNetLemmatizer\n",
    "nltk.download('stopwords')\n",
    "\n",
    "from sklearn.dummy import DummyClassifier\n",
    "from sklearn.naive_bayes import MultinomialNB\n",
    "from sklearn.pipeline import Pipeline\n",
    "from sklearn.linear_model import LogisticRegression\n",
    "from sklearn.model_selection import train_test_split, GridSearchCV\n",
    "from sklearn.feature_extraction.text import TfidfVectorizer, CountVectorizer, TfidfTransformer\n",
    "from sklearn.metrics import accuracy_score, f1_score, precision_score, recall_score\n",
    "from sklearn.metrics import confusion_matrix, ConfusionMatrixDisplay\n",
    "from sklearn.metrics import classification_report\n",
    "from yellowbrick.model_selection import learning_curve\n",
    "import os\n",
    "\n",
    "from imblearn.over_sampling import RandomOverSampler\n",
    "from imblearn.under_sampling import RandomUnderSampler\n",
    "from collections import Counter\n",
    "from warnings import filterwarnings\n",
    "filterwarnings('ignore')"
   ]
  },
  {
   "cell_type": "code",
   "execution_count": 2,
   "id": "64e99b75-b67c-4e7b-8d20-77ea79022edb",
   "metadata": {
    "id": "64e99b75-b67c-4e7b-8d20-77ea79022edb"
   },
   "outputs": [
    {
     "data": {
      "text/html": [
       "<div>\n",
       "<style scoped>\n",
       "    .dataframe tbody tr th:only-of-type {\n",
       "        vertical-align: middle;\n",
       "    }\n",
       "\n",
       "    .dataframe tbody tr th {\n",
       "        vertical-align: top;\n",
       "    }\n",
       "\n",
       "    .dataframe thead th {\n",
       "        text-align: right;\n",
       "    }\n",
       "</style>\n",
       "<table border=\"1\" class=\"dataframe\">\n",
       "  <thead>\n",
       "    <tr style=\"text-align: right;\">\n",
       "      <th></th>\n",
       "      <th>hashtags</th>\n",
       "      <th>favorite_count</th>\n",
       "      <th>id</th>\n",
       "      <th>lang</th>\n",
       "      <th>place</th>\n",
       "      <th>retweet_count</th>\n",
       "      <th>text</th>\n",
       "      <th>user_location</th>\n",
       "      <th>tweet_proc_length</th>\n",
       "      <th>target</th>\n",
       "    </tr>\n",
       "  </thead>\n",
       "  <tbody>\n",
       "    <tr>\n",
       "      <th>0</th>\n",
       "      <td>[hack4climate, blockchain, climateaction, clim...</td>\n",
       "      <td>4</td>\n",
       "      <td>928605716159574016</td>\n",
       "      <td>en</td>\n",
       "      <td>NaN</td>\n",
       "      <td>1</td>\n",
       "      <td>day hackclimate look forward exciting event bl...</td>\n",
       "      <td>Zürich, Schweiz</td>\n",
       "      <td>17</td>\n",
       "      <td>1</td>\n",
       "    </tr>\n",
       "    <tr>\n",
       "      <th>1</th>\n",
       "      <td>[climatechange, climateaction]</td>\n",
       "      <td>1</td>\n",
       "      <td>954288658361802752</td>\n",
       "      <td>en</td>\n",
       "      <td>NaN</td>\n",
       "      <td>1</td>\n",
       "      <td>good way predict future create abraham lincoln...</td>\n",
       "      <td>Tampere, Finland</td>\n",
       "      <td>15</td>\n",
       "      <td>1</td>\n",
       "    </tr>\n",
       "    <tr>\n",
       "      <th>2</th>\n",
       "      <td>[protectwhatyoulove, climatechangeisreal, anim...</td>\n",
       "      <td>0</td>\n",
       "      <td>1012691887440814086</td>\n",
       "      <td>en</td>\n",
       "      <td>NaN</td>\n",
       "      <td>0</td>\n",
       "      <td>accept world way power stand change want prote...</td>\n",
       "      <td>NaN</td>\n",
       "      <td>31</td>\n",
       "      <td>1</td>\n",
       "    </tr>\n",
       "    <tr>\n",
       "      <th>3</th>\n",
       "      <td>[climatechange, climateaction]</td>\n",
       "      <td>0</td>\n",
       "      <td>942162022145380352</td>\n",
       "      <td>en</td>\n",
       "      <td>NaN</td>\n",
       "      <td>0</td>\n",
       "      <td>landfill significant source methane emission c...</td>\n",
       "      <td>Globally l Planet Earth</td>\n",
       "      <td>9</td>\n",
       "      <td>1</td>\n",
       "    </tr>\n",
       "    <tr>\n",
       "      <th>4</th>\n",
       "      <td>[climatechange, climateaction]</td>\n",
       "      <td>0</td>\n",
       "      <td>954283347399847936</td>\n",
       "      <td>en</td>\n",
       "      <td>NaN</td>\n",
       "      <td>1</td>\n",
       "      <td>sea level expect rise metre melt ice wwf clima...</td>\n",
       "      <td>Online l Globally l Earth</td>\n",
       "      <td>16</td>\n",
       "      <td>1</td>\n",
       "    </tr>\n",
       "  </tbody>\n",
       "</table>\n",
       "</div>"
      ],
      "text/plain": [
       "                                            hashtags  favorite_count  \\\n",
       "0  [hack4climate, blockchain, climateaction, clim...               4   \n",
       "1                     [climatechange, climateaction]               1   \n",
       "2  [protectwhatyoulove, climatechangeisreal, anim...               0   \n",
       "3                     [climatechange, climateaction]               0   \n",
       "4                     [climatechange, climateaction]               0   \n",
       "\n",
       "                    id lang place  retweet_count  \\\n",
       "0   928605716159574016   en   NaN              1   \n",
       "1   954288658361802752   en   NaN              1   \n",
       "2  1012691887440814086   en   NaN              0   \n",
       "3   942162022145380352   en   NaN              0   \n",
       "4   954283347399847936   en   NaN              1   \n",
       "\n",
       "                                                text  \\\n",
       "0  day hackclimate look forward exciting event bl...   \n",
       "1  good way predict future create abraham lincoln...   \n",
       "2  accept world way power stand change want prote...   \n",
       "3  landfill significant source methane emission c...   \n",
       "4  sea level expect rise metre melt ice wwf clima...   \n",
       "\n",
       "               user_location  tweet_proc_length  target  \n",
       "0            Zürich, Schweiz                 17       1  \n",
       "1           Tampere, Finland                 15       1  \n",
       "2                        NaN                 31       1  \n",
       "3    Globally l Planet Earth                  9       1  \n",
       "4  Online l Globally l Earth                 16       1  "
      ]
     },
     "execution_count": 2,
     "metadata": {},
     "output_type": "execute_result"
    }
   ],
   "source": [
    "# import data\n",
    "df = pd.read_pickle(\"../data/training_data.pkl\")\n",
    "df.head()"
   ]
  },
  {
   "cell_type": "code",
   "execution_count": 3,
   "id": "a2a51aaa-c52a-4a83-9776-5464607b9d4a",
   "metadata": {},
   "outputs": [
    {
     "data": {
      "text/html": [
       "<div>\n",
       "<style scoped>\n",
       "    .dataframe tbody tr th:only-of-type {\n",
       "        vertical-align: middle;\n",
       "    }\n",
       "\n",
       "    .dataframe tbody tr th {\n",
       "        vertical-align: top;\n",
       "    }\n",
       "\n",
       "    .dataframe thead th {\n",
       "        text-align: right;\n",
       "    }\n",
       "</style>\n",
       "<table border=\"1\" class=\"dataframe\">\n",
       "  <thead>\n",
       "    <tr style=\"text-align: right;\">\n",
       "      <th></th>\n",
       "      <th>text</th>\n",
       "      <th>target</th>\n",
       "    </tr>\n",
       "  </thead>\n",
       "  <tbody>\n",
       "    <tr>\n",
       "      <th>0</th>\n",
       "      <td>day hackclimate look forward exciting event bl...</td>\n",
       "      <td>1</td>\n",
       "    </tr>\n",
       "    <tr>\n",
       "      <th>1</th>\n",
       "      <td>good way predict future create abraham lincoln...</td>\n",
       "      <td>1</td>\n",
       "    </tr>\n",
       "    <tr>\n",
       "      <th>2</th>\n",
       "      <td>accept world way power stand change want prote...</td>\n",
       "      <td>1</td>\n",
       "    </tr>\n",
       "    <tr>\n",
       "      <th>3</th>\n",
       "      <td>landfill significant source methane emission c...</td>\n",
       "      <td>1</td>\n",
       "    </tr>\n",
       "    <tr>\n",
       "      <th>4</th>\n",
       "      <td>sea level expect rise metre melt ice wwf clima...</td>\n",
       "      <td>1</td>\n",
       "    </tr>\n",
       "    <tr>\n",
       "      <th>...</th>\n",
       "      <td>...</td>\n",
       "      <td>...</td>\n",
       "    </tr>\n",
       "    <tr>\n",
       "      <th>276407</th>\n",
       "      <td>waronerror episode promote illusive fear sell ...</td>\n",
       "      <td>0</td>\n",
       "    </tr>\n",
       "    <tr>\n",
       "      <th>276408</th>\n",
       "      <td>new study find cosmic ray solar activity great...</td>\n",
       "      <td>0</td>\n",
       "    </tr>\n",
       "    <tr>\n",
       "      <th>276409</th>\n",
       "      <td>global warming expert think melt ice cause sea...</td>\n",
       "      <td>0</td>\n",
       "    </tr>\n",
       "    <tr>\n",
       "      <th>276410</th>\n",
       "      <td>blizzard noreaster oh day al gore democrats gl...</td>\n",
       "      <td>0</td>\n",
       "    </tr>\n",
       "    <tr>\n",
       "      <th>276411</th>\n",
       "      <td>clowd issue bunch fact globalwarmingscam</td>\n",
       "      <td>0</td>\n",
       "    </tr>\n",
       "  </tbody>\n",
       "</table>\n",
       "<p>276412 rows × 2 columns</p>\n",
       "</div>"
      ],
      "text/plain": [
       "                                                     text  target\n",
       "0       day hackclimate look forward exciting event bl...       1\n",
       "1       good way predict future create abraham lincoln...       1\n",
       "2       accept world way power stand change want prote...       1\n",
       "3       landfill significant source methane emission c...       1\n",
       "4       sea level expect rise metre melt ice wwf clima...       1\n",
       "...                                                   ...     ...\n",
       "276407  waronerror episode promote illusive fear sell ...       0\n",
       "276408  new study find cosmic ray solar activity great...       0\n",
       "276409  global warming expert think melt ice cause sea...       0\n",
       "276410  blizzard noreaster oh day al gore democrats gl...       0\n",
       "276411           clowd issue bunch fact globalwarmingscam       0\n",
       "\n",
       "[276412 rows x 2 columns]"
      ]
     },
     "execution_count": 3,
     "metadata": {},
     "output_type": "execute_result"
    }
   ],
   "source": [
    "# keep only text and target columns\n",
    "\n",
    "col_list = ['text','target']\n",
    "df = df.loc[:, col_list]\n",
    "df"
   ]
  },
  {
   "cell_type": "code",
   "execution_count": 4,
   "id": "e5a350dd-5834-4eab-af80-134568412fb4",
   "metadata": {},
   "outputs": [
    {
     "data": {
      "text/plain": [
       "1    201950\n",
       "0     74462\n",
       "Name: target, dtype: int64"
      ]
     },
     "execution_count": 4,
     "metadata": {},
     "output_type": "execute_result"
    }
   ],
   "source": [
    "# check class distribution\n",
    "\n",
    "df['target'].value_counts()"
   ]
  },
  {
   "cell_type": "code",
   "execution_count": 5,
   "id": "228c5e15-60f0-4ba4-b32c-0331a5827c83",
   "metadata": {
    "id": "228c5e15-60f0-4ba4-b32c-0331a5827c83"
   },
   "outputs": [],
   "source": [
    "# split to training and test data\n",
    "\n",
    "X = df['text']\n",
    "y = df['target']\n",
    "\n",
    "X_train, X_test, y_train, y_test = train_test_split(X, y, test_size=0.2, stratify=y, random_state=100)"
   ]
  },
  {
   "cell_type": "code",
   "execution_count": 6,
   "id": "33abd244-d0e4-4156-a5ab-ac57c8457a8f",
   "metadata": {
    "id": "33abd244-d0e4-4156-a5ab-ac57c8457a8f"
   },
   "outputs": [],
   "source": [
    "# make stopwords list (regular english + definitive hashtags)\n",
    "\n",
    "definitive_hashtags = ['climatechangeisreal', 'actonclimate', 'extinctionrebellion', 'climateemergency', \n",
    "                 'climateactionnow', 'capitalism', 'public_health', 'climateaction', 'humanityextinction',\n",
    "                 'activism', 'noplanetb', 'savetheplanet', 'climateaction','climatechangeisfalse', \n",
    "                 'climatechangenotreal', 'climatechangehoax','globalwarminghoax', 'tcot', 'ccot', 'tlot', \n",
    "                 'pjnet', 'rednationrising', 'votered','libtard', 'libtards', 'maga', 'climatedeniers', \n",
    "                 'climatehoax', 'globalcooling','climatechangescam', 'climatehysteria', 'globalwarmingisahoax', \n",
    "                 'globalwarmingscam', 'globalcooling']\n",
    "\n",
    "stop_words = set(stopwords.words(\"english\"))\n",
    "stopwords_all = stop_words.union(definitive_hashtags)"
   ]
  },
  {
   "cell_type": "markdown",
   "id": "10ff7891-5fc4-4b0d-be77-9110afbd72b7",
   "metadata": {
    "id": "10ff7891-5fc4-4b0d-be77-9110afbd72b7",
    "tags": []
   },
   "source": [
    "## Baseline Model (Accuracy: 73%, F1: 42%)"
   ]
  },
  {
   "cell_type": "code",
   "execution_count": 7,
   "id": "6f296f0f-db71-4caf-988c-98c96608d236",
   "metadata": {},
   "outputs": [
    {
     "name": "stdout",
     "output_type": "stream",
     "text": [
      "              precision    recall  f1-score   support\n",
      "\n",
      "           0       0.00      0.00      0.00     14928\n",
      "           1       0.73      1.00      0.84     40355\n",
      "\n",
      "    accuracy                           0.73     55283\n",
      "   macro avg       0.36      0.50      0.42     55283\n",
      "weighted avg       0.53      0.73      0.62     55283\n",
      "\n"
     ]
    }
   ],
   "source": [
    "X_train, X_test, y_train, y_test = train_test_split(X,y,test_size=0.2, random_state = 42)\n",
    "\n",
    "dummy = DummyClassifier(strategy='most_frequent')\n",
    "dummy.fit(X_train,y_train)\n",
    "y_pred = dummy.predict(X_test)\n",
    "print(classification_report(y_test, y_pred))"
   ]
  },
  {
   "cell_type": "code",
   "execution_count": 8,
   "id": "-qP21nZd3jMa",
   "metadata": {
    "colab": {
     "base_uri": "https://localhost:8080/"
    },
    "id": "-qP21nZd3jMa",
    "outputId": "b5a7add5-7aac-4d8d-c8a5-6961f6144a37"
   },
   "outputs": [
    {
     "name": "stdout",
     "output_type": "stream",
     "text": [
      "[[40355     0]\n",
      " [14928     0]]\n"
     ]
    }
   ],
   "source": [
    "# confusion matrix: 40,355 true believers, 14,928 predicted believers\n",
    "\n",
    "print(confusion_matrix(y_test, y_pred, labels = [1,0]))"
   ]
  },
  {
   "cell_type": "code",
   "execution_count": 9,
   "id": "83632a4d-5639-4918-87b4-5aba4464251a",
   "metadata": {
    "id": "83632a4d-5639-4918-87b4-5aba4464251a"
   },
   "outputs": [],
   "source": [
    "# save baseline model\n",
    "\n",
    "filename = 'baseline_task1.pkl'\n",
    "pickle.dump(dummy, open(filename, 'wb'))"
   ]
  },
  {
   "cell_type": "markdown",
   "id": "b2bd9d2b-1fb8-470f-ac90-e284f87ec014",
   "metadata": {
    "jp-MarkdownHeadingCollapsed": true,
    "tags": []
   },
   "source": [
    "# Creating Undersampled and Oversampled Datasets\n",
    "This is to address class imbalance"
   ]
  },
  {
   "cell_type": "code",
   "execution_count": 10,
   "id": "6e1fe70a-2e4a-4d27-984f-60eecc3904d1",
   "metadata": {},
   "outputs": [],
   "source": [
    "# Separating X and y to prepare for resampling\n",
    "\n",
    "X = df.iloc[:,:-1]\n",
    "y = df.iloc[:,-1]"
   ]
  },
  {
   "cell_type": "code",
   "execution_count": 11,
   "id": "47cc5978-2534-4b59-932e-b26f1c7185c5",
   "metadata": {},
   "outputs": [
    {
     "name": "stdout",
     "output_type": "stream",
     "text": [
      "Before undersampling:  Counter({1: 201950, 0: 74462})\n",
      "After undersampling:  Counter({0: 74462, 1: 74462})\n"
     ]
    }
   ],
   "source": [
    "# Random Undersampling\n",
    "\n",
    "print(\"Before undersampling: \", Counter(y))\n",
    "\n",
    "# define undersampling strategy & fit to data\n",
    "rus = RandomUnderSampler()\n",
    "X_rus, y_rus = rus.fit_resample(X, y)\n",
    "X_rus = X_rus['text']\n",
    "\n",
    "print(\"After undersampling: \", Counter(y_rus))"
   ]
  },
  {
   "cell_type": "code",
   "execution_count": 12,
   "id": "2cc9be5e-3459-4acf-9b0c-93f03a8b8b82",
   "metadata": {},
   "outputs": [
    {
     "name": "stdout",
     "output_type": "stream",
     "text": [
      "Before oversampling:  Counter({1: 201950, 0: 74462})\n",
      "After oversampling:  Counter({1: 201950, 0: 201950})\n"
     ]
    }
   ],
   "source": [
    "# Random Oversampling\n",
    "\n",
    "# summarize class distribution\n",
    "print(\"Before oversampling: \", Counter(y))\n",
    "\n",
    "# define undersampling strategy & fit to data\n",
    "ros = RandomOverSampler()\n",
    "X_ros, y_ros = ros.fit_resample(X, y)\n",
    "X_ros = X_ros['text']\n",
    "\n",
    "print(\"After oversampling: \", Counter(y_ros))"
   ]
  },
  {
   "cell_type": "markdown",
   "id": "7a444fea-bd34-4dad-b348-300d5d83fcea",
   "metadata": {
    "tags": []
   },
   "source": [
    "# Naive Bayes Classifier"
   ]
  },
  {
   "cell_type": "markdown",
   "id": "cfc23fac-6058-438e-a2b9-25374dd15193",
   "metadata": {},
   "source": [
    "## NB + TF-IDF"
   ]
  },
  {
   "cell_type": "code",
   "execution_count": 77,
   "id": "3eab66fc-f393-4e41-91cc-8b4d4432e469",
   "metadata": {},
   "outputs": [
    {
     "name": "stdout",
     "output_type": "stream",
     "text": [
      "LR + TF-IDF (n-gram range = 2,3) + Random UnderSampling\n",
      "              precision    recall  f1-score   support\n",
      "\n",
      "           0       0.79      0.85      0.82     14769\n",
      "           1       0.84      0.78      0.81     15016\n",
      "\n",
      "    accuracy                           0.81     29785\n",
      "   macro avg       0.81      0.81      0.81     29785\n",
      "weighted avg       0.81      0.81      0.81     29785\n",
      "\n"
     ]
    }
   ],
   "source": [
    "# TF-IDF ngram range = 2,3 + Random Undersampling (Accuracy/F1 Score 81%)\n",
    "\n",
    "X_train, X_test, y_train, y_test = train_test_split(X_rus,y_rus,test_size=0.2, random_state = 42)\n",
    "\n",
    "vect = TfidfVectorizer(ngram_range=(2,3), max_df = 0.8, min_df = 3, stop_words=stopwords_all)\n",
    "\n",
    "model = MultinomialNB()\n",
    "\n",
    "X_train_vec = vect.fit_transform(X_train)\n",
    "X_test_vec  = vect.transform(X_test)\n",
    "\n",
    "model.fit(X_train_vec, y_train);\n",
    "y_pred = model.predict(X_test_vec)\n",
    "\n",
    "print(\"NB + TF-IDF (n-gram range = 2,3) + Random UnderSampling\")\n",
    "print(classification_report(y_test, y_pred))"
   ]
  },
  {
   "cell_type": "code",
   "execution_count": 78,
   "id": "a7e60898-7800-4e51-bd17-26dd262328a4",
   "metadata": {},
   "outputs": [
    {
     "name": "stdout",
     "output_type": "stream",
     "text": [
      "LR + TF-IDF (n-gram range = 1,3) + Random UnderSampling\n",
      "              precision    recall  f1-score   support\n",
      "\n",
      "           0       0.87      0.89      0.88     14769\n",
      "           1       0.89      0.87      0.88     15016\n",
      "\n",
      "    accuracy                           0.88     29785\n",
      "   macro avg       0.88      0.88      0.88     29785\n",
      "weighted avg       0.88      0.88      0.88     29785\n",
      "\n"
     ]
    }
   ],
   "source": [
    "# TF-IDF ngram range = 1,3 + Random Undersampling (Accuracy/F1 Score 88%)\n",
    "\n",
    "X_train, X_test, y_train, y_test = train_test_split(X_rus,y_rus,test_size=0.2, random_state = 42)\n",
    "\n",
    "vect = TfidfVectorizer(ngram_range=(1,3), max_df = 0.8, min_df = 3, stop_words=stopwords_all)\n",
    "\n",
    "model = MultinomialNB()\n",
    "\n",
    "X_train_vec = vect.fit_transform(X_train)\n",
    "X_test_vec  = vect.transform(X_test)\n",
    "\n",
    "model.fit(X_train_vec, y_train);\n",
    "y_pred = model.predict(X_test_vec)\n",
    "\n",
    "print(\"NB + TF-IDF (n-gram range = 1,3) + Random UnderSampling\")\n",
    "print(classification_report(y_test, y_pred))"
   ]
  },
  {
   "cell_type": "code",
   "execution_count": 79,
   "id": "61d5f183-da9f-461c-8c1a-d3d038ee8fe5",
   "metadata": {},
   "outputs": [
    {
     "name": "stdout",
     "output_type": "stream",
     "text": [
      "LR + TF-IDF (n-gram range = 2,3) + Random OverSampling\n",
      "              precision    recall  f1-score   support\n",
      "\n",
      "           0       0.88      0.86      0.87     40263\n",
      "           1       0.86      0.89      0.88     40517\n",
      "\n",
      "    accuracy                           0.87     80780\n",
      "   macro avg       0.87      0.87      0.87     80780\n",
      "weighted avg       0.87      0.87      0.87     80780\n",
      "\n"
     ]
    }
   ],
   "source": [
    "# TF-IDF ngram range = 2,3 + Random OverSampling (Accuracy/F1 Score 87%)\n",
    "\n",
    "X_train, X_test, y_train, y_test = train_test_split(X_ros,y_ros,test_size=0.2, random_state = 42)\n",
    "\n",
    "vect = TfidfVectorizer(ngram_range=(2,3), max_df = 0.8, min_df = 3, stop_words=stopwords_all)\n",
    "\n",
    "model = MultinomialNB()\n",
    "\n",
    "X_train_vec = vect.fit_transform(X_train)\n",
    "X_test_vec  = vect.transform(X_test)\n",
    "\n",
    "model.fit(X_train_vec, y_train);\n",
    "y_pred = model.predict(X_test_vec)\n",
    "\n",
    "print(\"NB + TF-IDF (n-gram range = 2,3) + Random OverSampling\")\n",
    "print(classification_report(y_test, y_pred))"
   ]
  },
  {
   "cell_type": "code",
   "execution_count": 80,
   "id": "0f561b97-f380-4562-908a-27f747725f0f",
   "metadata": {},
   "outputs": [
    {
     "name": "stdout",
     "output_type": "stream",
     "text": [
      "LR + TF-IDF (n-gram range = 1,3) + Random OverSampling\n",
      "              precision    recall  f1-score   support\n",
      "\n",
      "           0       0.95      0.85      0.90     40263\n",
      "           1       0.87      0.96      0.91     40517\n",
      "\n",
      "    accuracy                           0.90     80780\n",
      "   macro avg       0.91      0.90      0.90     80780\n",
      "weighted avg       0.91      0.90      0.90     80780\n",
      "\n"
     ]
    }
   ],
   "source": [
    "# TF-IDF ngram range = 1,3 + Random OverSampling (Accuracy/F1 Score 90%)\n",
    "\n",
    "X_train, X_test, y_train, y_test = train_test_split(X_ros,y_ros,test_size=0.2, random_state = 42)\n",
    "\n",
    "vect = TfidfVectorizer(ngram_range=(1,3), max_df = 0.8, min_df = 3, stop_words=stopwords_all)\n",
    "\n",
    "model = MultinomialNB()\n",
    "\n",
    "X_train_vec = vect.fit_transform(X_train)\n",
    "X_test_vec  = vect.transform(X_test)\n",
    "\n",
    "model.fit(X_train_vec, y_train);\n",
    "y_pred = model.predict(X_test_vec)\n",
    "\n",
    "print(\"NB + TF-IDF (n-gram range = 1,3) + Random OverSampling\")\n",
    "print(classification_report(y_test, y_pred))"
   ]
  },
  {
   "cell_type": "markdown",
   "id": "aaa041b3-2c60-43eb-8070-4bac7f3759e1",
   "metadata": {
    "tags": []
   },
   "source": [
    "## NB + CountVectorizer"
   ]
  },
  {
   "cell_type": "code",
   "execution_count": 82,
   "id": "ea460358-1ce0-4936-8e49-231e56695167",
   "metadata": {},
   "outputs": [
    {
     "name": "stdout",
     "output_type": "stream",
     "text": [
      "NB + CountVectorizer (n-gram range = 2,3) + Random OverSampling\n",
      "              precision    recall  f1-score   support\n",
      "\n",
      "           0       0.88      0.83      0.85     40263\n",
      "           1       0.84      0.89      0.86     40517\n",
      "\n",
      "    accuracy                           0.86     80780\n",
      "   macro avg       0.86      0.86      0.86     80780\n",
      "weighted avg       0.86      0.86      0.86     80780\n",
      "\n"
     ]
    }
   ],
   "source": [
    "# Count Vectorizer ngram range = 2,3 + Random OverSampling (Accuracy/F1 Score 86%)\n",
    "\n",
    "X_train, X_test, y_train, y_test = train_test_split(X_ros,y_ros,test_size=0.2, random_state = 42)\n",
    "\n",
    "vect = CountVectorizer(ngram_range=(2,3),max_df = 0.8, min_df = 3, stop_words=stopwords_all)\n",
    "\n",
    "model = MultinomialNB()\n",
    "\n",
    "X_train_vec = vect.fit_transform(X_train)\n",
    "X_test_vec  = vect.transform(X_test)\n",
    "\n",
    "model.fit(X_train_vec, y_train);\n",
    "y_pred = model.predict(X_test_vec)\n",
    "\n",
    "print(\"NB + CountVectorizer (n-gram range = 2,3) + Random OverSampling\")\n",
    "print(classification_report(y_test, y_pred))"
   ]
  },
  {
   "cell_type": "code",
   "execution_count": 83,
   "id": "2ca12b9d-176e-4811-80c9-aa28ff4710b4",
   "metadata": {},
   "outputs": [
    {
     "name": "stdout",
     "output_type": "stream",
     "text": [
      "NB + CountVectorizer (n-gram range = 1,3) + Random UnderSampling\n",
      "              precision    recall  f1-score   support\n",
      "\n",
      "           0       0.87      0.88      0.88     14769\n",
      "           1       0.88      0.88      0.88     15016\n",
      "\n",
      "    accuracy                           0.88     29785\n",
      "   macro avg       0.88      0.88      0.88     29785\n",
      "weighted avg       0.88      0.88      0.88     29785\n",
      "\n"
     ]
    }
   ],
   "source": [
    "# Count Vectorizer ngram range = 1,3 + Random UnderSampling (Accuracy/F1 Score 88%)\n",
    "\n",
    "X_train, X_test, y_train, y_test = train_test_split(X_rus,y_rus,test_size=0.2, random_state = 42)\n",
    "\n",
    "vect = CountVectorizer(ngram_range=(1,3),max_df = 0.8, min_df = 3, stop_words=stopwords_all)\n",
    "\n",
    "model = MultinomialNB()\n",
    "\n",
    "X_train_vec = vect.fit_transform(X_train)\n",
    "X_test_vec  = vect.transform(X_test)\n",
    "\n",
    "model.fit(X_train_vec, y_train);\n",
    "y_pred = model.predict(X_test_vec)\n",
    "\n",
    "print(\"NB + CountVectorizer (n-gram range = 1,3) + Random UnderSampling\")\n",
    "print(classification_report(y_test, y_pred))"
   ]
  },
  {
   "cell_type": "code",
   "execution_count": 84,
   "id": "d573c8db-de82-4f54-85e2-84b9f5ecddef",
   "metadata": {},
   "outputs": [
    {
     "name": "stdout",
     "output_type": "stream",
     "text": [
      "NB + CountVectorizer (n-gram range = 2,3) + Random UnderSampling\n",
      "              precision    recall  f1-score   support\n",
      "\n",
      "           0       0.79      0.84      0.81     14769\n",
      "           1       0.83      0.78      0.81     15016\n",
      "\n",
      "    accuracy                           0.81     29785\n",
      "   macro avg       0.81      0.81      0.81     29785\n",
      "weighted avg       0.81      0.81      0.81     29785\n",
      "\n"
     ]
    }
   ],
   "source": [
    "# Count Vectorizer ngram range = 2,3 + Random UnderSampling (Accuracy/F1 Score 81%)\n",
    "\n",
    "X_train, X_test, y_train, y_test = train_test_split(X_rus,y_rus,test_size=0.2, random_state = 42)\n",
    "\n",
    "vect = CountVectorizer(ngram_range=(2,3),max_df = 0.8, min_df = 3, stop_words=stopwords_all)\n",
    "\n",
    "model = MultinomialNB()\n",
    "\n",
    "X_train_vec = vect.fit_transform(X_train)\n",
    "X_test_vec  = vect.transform(X_test)\n",
    "\n",
    "model.fit(X_train_vec, y_train);\n",
    "y_pred = model.predict(X_test_vec)\n",
    "\n",
    "print(\"NB + CountVectorizer (n-gram range = 2,3) + Random UnderSampling\")\n",
    "print(classification_report(y_test, y_pred))"
   ]
  },
  {
   "cell_type": "code",
   "execution_count": 85,
   "id": "db99e0d9-f88b-478a-9951-be7c1f04fcbb",
   "metadata": {},
   "outputs": [
    {
     "name": "stdout",
     "output_type": "stream",
     "text": [
      "NB + CountVectorizer (n-gram range = 1,3) + Random OverSampling\n",
      "              precision    recall  f1-score   support\n",
      "\n",
      "           0       0.95      0.86      0.90     40263\n",
      "           1       0.87      0.95      0.91     40517\n",
      "\n",
      "    accuracy                           0.90     80780\n",
      "   macro avg       0.91      0.90      0.90     80780\n",
      "weighted avg       0.91      0.90      0.90     80780\n",
      "\n"
     ]
    }
   ],
   "source": [
    "# Count Vectorizer ngram range = 1,3 + Random OverSampling (Accuracy/F1 Score 90%)\n",
    "\n",
    "X_train, X_test, y_train, y_test = train_test_split(X_ros,y_ros,test_size=0.2, random_state = 42)\n",
    "\n",
    "vect = CountVectorizer(ngram_range=(1,3),max_df = 0.8, min_df = 3, stop_words=stopwords_all)\n",
    "\n",
    "model = MultinomialNB()\n",
    "\n",
    "X_train_vec = vect.fit_transform(X_train)\n",
    "X_test_vec  = vect.transform(X_test)\n",
    "\n",
    "model.fit(X_train_vec, y_train);\n",
    "y_pred = model.predict(X_test_vec)\n",
    "\n",
    "print(\"NB + CountVectorizer (n-gram range = 1,3) + Random OverSampling\")\n",
    "print(classification_report(y_test, y_pred))"
   ]
  },
  {
   "cell_type": "code",
   "execution_count": 89,
   "id": "cc1d9f55-fbe5-4f6f-8376-1cc943a08b53",
   "metadata": {},
   "outputs": [
    {
     "data": {
      "text/plain": [
       "dict_keys(['alpha', 'class_prior', 'fit_prior'])"
      ]
     },
     "execution_count": 89,
     "metadata": {},
     "output_type": "execute_result"
    }
   ],
   "source": [
    "model = MultinomialNB()\n",
    "model.get_params().keys()"
   ]
  },
  {
   "cell_type": "code",
   "execution_count": 90,
   "id": "0f4755b9-418a-4a8c-8d95-0324ea58930f",
   "metadata": {},
   "outputs": [
    {
     "name": "stdout",
     "output_type": "stream",
     "text": [
      "Best Parameters are: {'alpha': 0, 'fit_prior': False}\n",
      "              precision    recall  f1-score   support\n",
      "\n",
      "           0       0.93      0.91      0.92     40263\n",
      "           1       0.91      0.93      0.92     40517\n",
      "\n",
      "    accuracy                           0.92     80780\n",
      "   macro avg       0.92      0.92      0.92     80780\n",
      "weighted avg       0.92      0.92      0.92     80780\n",
      "\n"
     ]
    }
   ],
   "source": [
    "#Grid Search for best parameters\n",
    "\n",
    "X_train, X_test, y_train, y_test = train_test_split(X_ros,y_ros,test_size=0.2, random_state = 42)\n",
    "\n",
    "# vectorize with the chosen best vectorizer\n",
    "vect = CountVectorizer(ngram_range=(1,3),max_df = 0.8, min_df = 3, stop_words=stopwords_all)\n",
    "\n",
    "X_train_vec = vect.fit_transform(X_train)\n",
    "X_test_vec  = vect.transform(X_test)\n",
    "\n",
    "params = {'alpha': [0,1],\n",
    "          'fit_prior': [True, False]}\n",
    "\n",
    "grid = GridSearchCV(MultinomialNB(), params, cv=3, scoring='f1')\n",
    "grid.fit(X_train_vec, y_train)\n",
    "y_true, y_pred = y_test, grid.predict(X_test_vec)\n",
    "\n",
    "print('Best Parameters are:', grid.best_params_)\n",
    "print(classification_report(y_true, y_pred))"
   ]
  },
  {
   "cell_type": "code",
   "execution_count": 93,
   "id": "23b31f65-f1f2-4120-9e86-c8bfad4090a5",
   "metadata": {},
   "outputs": [
    {
     "name": "stdout",
     "output_type": "stream",
     "text": [
      "NB + CountVectorizer (n-gram range = 1,3) + Random OverSampling\n",
      "              precision    recall  f1-score   support\n",
      "\n",
      "           0       0.93      0.91      0.92     40263\n",
      "           1       0.91      0.93      0.92     40517\n",
      "\n",
      "    accuracy                           0.92     80780\n",
      "   macro avg       0.92      0.92      0.92     80780\n",
      "weighted avg       0.92      0.92      0.92     80780\n",
      "\n"
     ]
    }
   ],
   "source": [
    "# fitting model with best parameters (Accuracy/F1 Score 92%)\n",
    "\n",
    "X_train, X_test, y_train, y_test = train_test_split(X_ros,y_ros,test_size=0.2, random_state = 42)\n",
    "\n",
    "vect = CountVectorizer(ngram_range=(1,3),max_df = 0.8, min_df = 3, stop_words=stopwords_all)\n",
    "\n",
    "model = MultinomialNB(alpha=0,fit_prior=False)\n",
    "\n",
    "X_train_vec = vect.fit_transform(X_train)\n",
    "X_test_vec  = vect.transform(X_test)\n",
    "\n",
    "model.fit(X_train_vec, y_train);\n",
    "y_pred = model.predict(X_test_vec)\n",
    "\n",
    "print(\"NB + CountVectorizer (n-gram range = 1,3) + Random OverSampling\")\n",
    "print(classification_report(y_test, y_pred))"
   ]
  },
  {
   "cell_type": "markdown",
   "id": "5b546894-a6c5-40c9-a570-8c91a25a8442",
   "metadata": {
    "tags": []
   },
   "source": [
    "# Logistic Regression Classifier"
   ]
  },
  {
   "cell_type": "markdown",
   "id": "75d7982f-95aa-4991-9a93-d1c9a8a55ed8",
   "metadata": {
    "id": "75d7982f-95aa-4991-9a93-d1c9a8a55ed8",
    "jp-MarkdownHeadingCollapsed": true,
    "tags": []
   },
   "source": [
    "## LR + TF-IDF"
   ]
  },
  {
   "cell_type": "code",
   "execution_count": 13,
   "id": "25c5f1dd-7257-464d-b05a-11c309877f58",
   "metadata": {
    "id": "25c5f1dd-7257-464d-b05a-11c309877f58"
   },
   "outputs": [
    {
     "name": "stdout",
     "output_type": "stream",
     "text": [
      "LR + TF-IDF (n-gram range = 2,3) + Random UnderSampling\n",
      "              precision    recall  f1-score   support\n",
      "\n",
      "           0       0.78      0.85      0.81     14769\n",
      "           1       0.84      0.76      0.80     15016\n",
      "\n",
      "    accuracy                           0.80     29785\n",
      "   macro avg       0.81      0.81      0.80     29785\n",
      "weighted avg       0.81      0.80      0.80     29785\n",
      "\n"
     ]
    }
   ],
   "source": [
    "# TF-IDF ngram range = 2,3 + Random Undersampling (Accuracy/F1 Score 80%)\n",
    "\n",
    "X_train, X_test, y_train, y_test = train_test_split(X_rus,y_rus,test_size=0.2, random_state = 42)\n",
    "\n",
    "vect = TfidfVectorizer(ngram_range=(2,3), max_df = 0.8, min_df = 3, stop_words=stopwords_all)\n",
    "\n",
    "model = LogisticRegression(max_iter=1000)\n",
    "\n",
    "X_train_vec = vect.fit_transform(X_train)\n",
    "X_test_vec  = vect.transform(X_test)\n",
    "\n",
    "model.fit(X_train_vec, y_train);\n",
    "y_pred = model.predict(X_test_vec)\n",
    "\n",
    "print(\"LR + TF-IDF (n-gram range = 2,3) + Random UnderSampling\")\n",
    "print(classification_report(y_test, y_pred))"
   ]
  },
  {
   "cell_type": "code",
   "execution_count": 14,
   "id": "e6cf1b96-3fff-484c-a39d-eb6a50fa53f9",
   "metadata": {},
   "outputs": [
    {
     "name": "stdout",
     "output_type": "stream",
     "text": [
      "LR + TF-IDF (n-gram range = 2,3) + Random OverSampling\n",
      "              precision    recall  f1-score   support\n",
      "\n",
      "           0       0.85      0.92      0.89     40263\n",
      "           1       0.91      0.84      0.88     40517\n",
      "\n",
      "    accuracy                           0.88     80780\n",
      "   macro avg       0.88      0.88      0.88     80780\n",
      "weighted avg       0.88      0.88      0.88     80780\n",
      "\n"
     ]
    }
   ],
   "source": [
    "# TF-IDF ngram range = 2,3 + Random OverSampling (Accuracy/F1 Score 88%)\n",
    "\n",
    "X_train, X_test, y_train, y_test = train_test_split(X_ros,y_ros,test_size=0.2, random_state = 42)\n",
    "\n",
    "vect = TfidfVectorizer(ngram_range=(2,3), max_df = 0.8, min_df = 3, stop_words=stopwords_all)\n",
    "\n",
    "model = LogisticRegression(max_iter=1000)\n",
    "\n",
    "X_train_vec = vect.fit_transform(X_train)\n",
    "X_test_vec  = vect.transform(X_test)\n",
    "\n",
    "model.fit(X_train_vec, y_train);\n",
    "y_pred = model.predict(X_test_vec)\n",
    "\n",
    "print(\"LR + TF-IDF (n-gram range = 2,3) + Random OverSampling\")\n",
    "print(classification_report(y_test, y_pred))"
   ]
  },
  {
   "cell_type": "code",
   "execution_count": 15,
   "id": "b781284a-b449-41e6-a86e-b5c4ced0f803",
   "metadata": {},
   "outputs": [
    {
     "name": "stdout",
     "output_type": "stream",
     "text": [
      "LR + TF-IDF (n-gram range = 1,3) + Random UnderSampling\n",
      "              precision    recall  f1-score   support\n",
      "\n",
      "           0       0.89      0.88      0.88     14769\n",
      "           1       0.88      0.89      0.88     15016\n",
      "\n",
      "    accuracy                           0.88     29785\n",
      "   macro avg       0.88      0.88      0.88     29785\n",
      "weighted avg       0.88      0.88      0.88     29785\n",
      "\n"
     ]
    }
   ],
   "source": [
    "# TF-IDF n-gram range = 1,3 + Random UnderSampling (Accuracy/F1 Score 88%)\n",
    "\n",
    "X_train, X_test, y_train, y_test = train_test_split(X_rus,y_rus,test_size=0.2, random_state = 42)\n",
    "\n",
    "vect = TfidfVectorizer(ngram_range=(1,3), max_df = 0.8, min_df = 3, stop_words=stopwords_all)\n",
    "\n",
    "model = LogisticRegression(max_iter=1000)\n",
    "\n",
    "X_train_vec = vect.fit_transform(X_train)\n",
    "X_test_vec  = vect.transform(X_test)\n",
    "\n",
    "model.fit(X_train_vec, y_train)\n",
    "y_pred = model.predict(X_test_vec)\n",
    "\n",
    "print(\"LR + TF-IDF (n-gram range = 1,3) + Random UnderSampling\")\n",
    "print(classification_report(y_test, y_pred))"
   ]
  },
  {
   "cell_type": "code",
   "execution_count": 16,
   "id": "3a461aa5-ee85-467e-9ed4-a9f4b70893ae",
   "metadata": {},
   "outputs": [
    {
     "name": "stdout",
     "output_type": "stream",
     "text": [
      "LR + TF-IDF (n-gram range = 1,3) + Random OverSampling\n",
      "              precision    recall  f1-score   support\n",
      "\n",
      "           0       0.92      0.92      0.92     40263\n",
      "           1       0.92      0.92      0.92     40517\n",
      "\n",
      "    accuracy                           0.92     80780\n",
      "   macro avg       0.92      0.92      0.92     80780\n",
      "weighted avg       0.92      0.92      0.92     80780\n",
      "\n"
     ]
    }
   ],
   "source": [
    "# TF-IDF ngram range = 1,3 + Random OverSampling (Accuracy/F1 Score 92%)\n",
    "\n",
    "X_train, X_test, y_train, y_test = train_test_split(X_ros,y_ros,test_size=0.2, random_state = 42)\n",
    "\n",
    "vect = TfidfVectorizer(ngram_range=(1,3), max_df = 0.8, min_df = 3, stop_words=stopwords_all)\n",
    "\n",
    "model = LogisticRegression(max_iter=1000)\n",
    "\n",
    "X_train_vec = vect.fit_transform(X_train)\n",
    "X_test_vec  = vect.transform(X_test)\n",
    "\n",
    "model.fit(X_train_vec, y_train);\n",
    "y_pred = model.predict(X_test_vec)\n",
    "\n",
    "print(\"LR + TF-IDF (n-gram range = 1,3) + Random OverSampling\")\n",
    "print(classification_report(y_test, y_pred))"
   ]
  },
  {
   "cell_type": "markdown",
   "id": "982b51c9-c908-410e-b263-5b88b1926a6e",
   "metadata": {
    "id": "982b51c9-c908-410e-b263-5b88b1926a6e",
    "jp-MarkdownHeadingCollapsed": true,
    "tags": []
   },
   "source": [
    "## Logistic Regression + CountVectorizer"
   ]
  },
  {
   "cell_type": "code",
   "execution_count": 17,
   "id": "40bd621f-0bc9-4107-beaa-16751b141943",
   "metadata": {
    "id": "40bd621f-0bc9-4107-beaa-16751b141943"
   },
   "outputs": [
    {
     "name": "stdout",
     "output_type": "stream",
     "text": [
      "LR + CountVectorizer (n-gram range = 2,3) + Random UnderSampling\n",
      "              precision    recall  f1-score   support\n",
      "\n",
      "           0       0.77      0.85      0.81     14769\n",
      "           1       0.84      0.75      0.79     15016\n",
      "\n",
      "    accuracy                           0.80     29785\n",
      "   macro avg       0.80      0.80      0.80     29785\n",
      "weighted avg       0.80      0.80      0.80     29785\n",
      "\n"
     ]
    }
   ],
   "source": [
    "# Count Vectorizer ngram range = 2,3 + Random UnderSampling (Accuracy/F1 Score 80%)\n",
    "\n",
    "X_train, X_test, y_train, y_test = train_test_split(X_rus,y_rus,test_size=0.2, random_state = 42)\n",
    "\n",
    "vect = CountVectorizer(ngram_range=(2,3),max_df = 0.8, min_df = 3, stop_words=stopwords_all)\n",
    "\n",
    "model = LogisticRegression(max_iter=1000)\n",
    "\n",
    "X_train_vec = vect.fit_transform(X_train)\n",
    "X_test_vec  = vect.transform(X_test)\n",
    "\n",
    "model.fit(X_train_vec, y_train);\n",
    "y_pred = model.predict(X_test_vec)\n",
    "\n",
    "print(\"LR + CountVectorizer (n-gram range = 2,3) + Random UnderSampling\")\n",
    "print(classification_report(y_test, y_pred))"
   ]
  },
  {
   "cell_type": "code",
   "execution_count": 18,
   "id": "686e6607-3608-4fbb-afb4-9bc3de693d1c",
   "metadata": {},
   "outputs": [
    {
     "name": "stdout",
     "output_type": "stream",
     "text": [
      "LR + CountVectorizer (n-gram range = 2,3) + Random OverSampling\n",
      "              precision    recall  f1-score   support\n",
      "\n",
      "           0       0.94      0.87      0.90     40263\n",
      "           1       0.88      0.94      0.91     40517\n",
      "\n",
      "    accuracy                           0.91     80780\n",
      "   macro avg       0.91      0.91      0.91     80780\n",
      "weighted avg       0.91      0.91      0.91     80780\n",
      "\n"
     ]
    }
   ],
   "source": [
    "# Count Vectorizer ngram range = 2,3 + Random OverSampling (Accuracy/F1 Score 91%)\n",
    "\n",
    "X_train, X_test, y_train, y_test = train_test_split(X_ros,y_ros,test_size=0.2, random_state = 42)\n",
    "\n",
    "vect = CountVectorizer(ngram_range=(2,3),max_df = 0.8, min_df = 3, stop_words=stopwords_all)\n",
    "\n",
    "model = LogisticRegression(max_iter=1000)\n",
    "\n",
    "X_train_vec = vect.fit_transform(X_train)\n",
    "X_test_vec  = vect.transform(X_test)\n",
    "\n",
    "model.fit(X_train_vec, y_train);\n",
    "y_pred = model.predict(X_test_vec)\n",
    "\n",
    "print(\"LR + CountVectorizer (n-gram range = 2,3) + Random OverSampling\")\n",
    "print(classification_report(y_test, y_pred))"
   ]
  },
  {
   "cell_type": "code",
   "execution_count": 19,
   "id": "82cab08f-8df1-4dc3-ab33-039d8e5db7d3",
   "metadata": {},
   "outputs": [
    {
     "name": "stdout",
     "output_type": "stream",
     "text": [
      "LR + CountVectorizer (n-gram range = 1,3) + Random UnderSampling\n",
      "              precision    recall  f1-score   support\n",
      "\n",
      "           0       0.88      0.88      0.88     14769\n",
      "           1       0.88      0.88      0.88     15016\n",
      "\n",
      "    accuracy                           0.88     29785\n",
      "   macro avg       0.88      0.88      0.88     29785\n",
      "weighted avg       0.88      0.88      0.88     29785\n",
      "\n"
     ]
    }
   ],
   "source": [
    "# Count Vectorizer ngram range = 1,3 + Random UnderSampling (Accuracy/F1 Score 88%)\n",
    "\n",
    "X_train, X_test, y_train, y_test = train_test_split(X_rus,y_rus,test_size=0.2, random_state = 42)\n",
    "\n",
    "vect = CountVectorizer(ngram_range=(1,3),max_df = 0.8, min_df = 3, stop_words=stopwords_all)\n",
    "\n",
    "model = LogisticRegression(max_iter=1000)\n",
    "\n",
    "X_train_vec = vect.fit_transform(X_train)\n",
    "X_test_vec  = vect.transform(X_test)\n",
    "\n",
    "model.fit(X_train_vec, y_train);\n",
    "y_pred = model.predict(X_test_vec)\n",
    "\n",
    "print(\"LR + CountVectorizer (n-gram range = 1,3) + Random UnderSampling\")\n",
    "print(classification_report(y_test, y_pred))"
   ]
  },
  {
   "cell_type": "code",
   "execution_count": 20,
   "id": "1cf0ea7c-8ade-41c2-a7ae-f3fbb286a95e",
   "metadata": {
    "id": "1cf0ea7c-8ade-41c2-a7ae-f3fbb286a95e"
   },
   "outputs": [
    {
     "name": "stdout",
     "output_type": "stream",
     "text": [
      "LR + CountVectorizer (n-gram range = 1,3) + Random OverSampling\n",
      "              precision    recall  f1-score   support\n",
      "\n",
      "           0       0.95      0.95      0.95     40263\n",
      "           1       0.95      0.94      0.95     40517\n",
      "\n",
      "    accuracy                           0.95     80780\n",
      "   macro avg       0.95      0.95      0.95     80780\n",
      "weighted avg       0.95      0.95      0.95     80780\n",
      "\n"
     ]
    }
   ],
   "source": [
    "# Count Vectorizer ngram range = 1,3 (Accuracy/F1 Score 94%, BEST)\n",
    "\n",
    "X_train, X_test, y_train, y_test = train_test_split(X_ros,y_ros,test_size=0.2, random_state = 42)\n",
    "\n",
    "vect = CountVectorizer(ngram_range=(1,3),max_df = 0.8, min_df = 3, stop_words=stopwords_all)\n",
    "\n",
    "model = LogisticRegression(max_iter=1000)\n",
    "\n",
    "X_train_vec = vect.fit_transform(X_train)\n",
    "X_test_vec  = vect.transform(X_test)\n",
    "\n",
    "model.fit(X_train_vec, y_train);\n",
    "y_pred = model.predict(X_test_vec)\n",
    "\n",
    "print(\"LR + CountVectorizer (n-gram range = 1,3) + Random OverSampling\")\n",
    "print(classification_report(y_test, y_pred))"
   ]
  },
  {
   "cell_type": "code",
   "execution_count": 21,
   "id": "9233c9cb-9c80-43c2-b225-f757b52d4afa",
   "metadata": {},
   "outputs": [
    {
     "data": {
      "text/plain": [
       "array([[38288,  2229],\n",
       "       [ 1933, 38330]])"
      ]
     },
     "execution_count": 21,
     "metadata": {},
     "output_type": "execute_result"
    }
   ],
   "source": [
    "confusion_matrix(y_test,y_pred,labels=[1,0])"
   ]
  },
  {
   "cell_type": "code",
   "execution_count": 22,
   "id": "02931249-36db-4f99-bebd-6aa2c7585d15",
   "metadata": {},
   "outputs": [],
   "source": [
    "filename = 'LR_95%'\n",
    "pickle.dump(model, open(filename, 'wb'))"
   ]
  },
  {
   "cell_type": "markdown",
   "id": "aa41209a-b3f4-40a7-95a9-4dbe31e1470f",
   "metadata": {},
   "source": [
    "# Model Results"
   ]
  },
  {
   "cell_type": "markdown",
   "id": "0b198dbd-37fa-484f-a24a-fa4851d8efe2",
   "metadata": {},
   "source": [
    "**Baseline Dummy Model:**\n",
    "- Accuracy: 73%, F1: 42%\n",
    "\n",
    "**Naive Bayes Results:**\n",
    "- TF-IDF ngram range = 2,3 + Random Undersampling (Accuracy/F1 Score 81%)\n",
    "- TF-IDF ngram range = 1,3 + Random Undersampling (Accuracy/F1 Score 88%)\n",
    "- TF-IDF ngram range = 2,3 + Random OverSampling (Accuracy/F1 Score 87%)\n",
    "- TF-IDF ngram range = 1,3 + Random OverSampling (Accuracy/F1 Score 90%)\n",
    "- Count Vectorizer ngram range = 1,3 + Random OverSampling (Accuracy/F1 Score 90%)\n",
    "- Count Vectorizer ngram range = 2,3 + Random OverSampling (Accuracy/F1 Score 86%)\n",
    "- Count Vectorizer ngram range = 1,3 + Random UnderSampling (Accuracy/F1 Score 88%)\n",
    "- Count Vectorizer ngram range = 2,3 + Random UnderSampling (Accuracy/F1 Score 81%)\n",
    "\n",
    "**Logistic Regression Results**\n",
    "- TF-IDF ngram range = 2,3 + Random UnderSampling (Accuracy/F1 Score 80%)\n",
    "- TF-IDF ngram range = 2,3 + Random OverSampling (Accuracy/F1 Score 88%)\n",
    "- TF-IDF ngram range = 1,3 + Random UnderSampling (Accuracy/F1 Score 88%)\n",
    "- TF-IDF ngram range = 1,3 + Random OverSampling (Accuracy/F1 Score 92%)\n",
    "- Count Vectorizer ngram range = 2,3 + Random UnderSampling (Accuracy/F1 Score 80%)\n",
    "- Count Vectorizer ngram range = 2,3 + Random OverSampling (Accuracy/F1 Score 91%)\n",
    "- Count Vectorizer ngram range = 1,3 + Random UnderSampling (Accuracy/F1 Score 88%)\n",
    "- Count Vectorizer ngram range = 1,3 (Accuracy/F1 Score 95%)\n",
    "\n",
    "**BEST PERFORMING MODEL: LR Count Vectorizer ngram range = 1,3 (Accuracy/F1 Score 95%)**"
   ]
  },
  {
   "cell_type": "markdown",
   "id": "d3053f29-f392-4119-9974-b6093735d055",
   "metadata": {
    "tags": []
   },
   "source": [
    "## Logistic Regression Grid Search"
   ]
  },
  {
   "cell_type": "code",
   "execution_count": 23,
   "id": "87a18cb8-eab4-4d2d-87ad-214798b68161",
   "metadata": {},
   "outputs": [
    {
     "name": "stdout",
     "output_type": "stream",
     "text": [
      "Best Parameters are: {'C': 10, 'penalty': 'l2', 'solver': 'liblinear'}\n",
      "              precision    recall  f1-score   support\n",
      "\n",
      "           0       0.95      0.97      0.96     40263\n",
      "           1       0.97      0.94      0.96     40517\n",
      "\n",
      "    accuracy                           0.96     80780\n",
      "   macro avg       0.96      0.96      0.96     80780\n",
      "weighted avg       0.96      0.96      0.96     80780\n",
      "\n"
     ]
    }
   ],
   "source": [
    "# GridSearch for best parameters\n",
    "\n",
    "# train/test split with oversampled dataset\n",
    "X_train, X_test, y_train, y_test = train_test_split(X_ros,y_ros,test_size=0.2, random_state = 42)\n",
    "\n",
    "# vectorize with the chosen best vectorizer\n",
    "vect = CountVectorizer(ngram_range=(1,3),max_df = 0.8, min_df = 3, stop_words=stopwords_all)\n",
    "\n",
    "X_train_vec = vect.fit_transform(X_train)\n",
    "X_test_vec  = vect.transform(X_test)\n",
    "\n",
    "params = {'penalty': ['none', 'l2'], 'solver': ['liblinear'], 'C': [0.00001,0.0001,0.001,0.01,0.1,1,10,100,1000]}\n",
    "\n",
    "grid = GridSearchCV(LogisticRegression(), params, cv=3, scoring='f1')\n",
    "grid.fit(X_train_vec, y_train)\n",
    "y_true, y_pred = y_test, grid.predict(X_test_vec)\n",
    "\n",
    "print('Best Parameters are:', grid.best_params_)\n",
    "print(classification_report(y_true, y_pred))"
   ]
  },
  {
   "cell_type": "code",
   "execution_count": 56,
   "id": "990ef2b4-7ebc-4917-b4d8-63963480c9d1",
   "metadata": {},
   "outputs": [
    {
     "name": "stdout",
     "output_type": "stream",
     "text": [
      "              precision    recall  f1-score   support\n",
      "\n",
      "           0       0.94      0.97      0.96     40263\n",
      "           1       0.97      0.94      0.96     40517\n",
      "\n",
      "    accuracy                           0.96     80780\n",
      "   macro avg       0.96      0.96      0.96     80780\n",
      "weighted avg       0.96      0.96      0.96     80780\n",
      "\n"
     ]
    }
   ],
   "source": [
    "# train model with optimal parameters\n",
    "\n",
    "X_train, X_test, y_train, y_test = train_test_split(X_ros,y_ros,test_size=0.2, random_state = 42)\n",
    "\n",
    "vect = CountVectorizer(ngram_range=(1,3),max_df = 0.8, min_df = 3, stop_words=stopwords_all)\n",
    "\n",
    "model = LogisticRegression(max_iter=1000, solver='liblinear', penalty='l2', C=10)\n",
    "\n",
    "X_train_vec = vect.fit_transform(X_train)\n",
    "X_test_vec  = vect.transform(X_test)\n",
    "\n",
    "model.fit(X_train_vec, y_train)\n",
    "y_pred = model.predict(X_test_vec)\n",
    "\n",
    "print(classification_report(y_test, y_pred))"
   ]
  },
  {
   "cell_type": "code",
   "execution_count": 27,
   "id": "572f9248-90d2-44bd-95b3-1e398e81257e",
   "metadata": {},
   "outputs": [
    {
     "name": "stdout",
     "output_type": "stream",
     "text": [
      "Train ROC AUC Score: 1.0\n",
      "Test ROC AUC  Score: 0.99\n"
     ]
    }
   ],
   "source": [
    "# get ROC AUC scores\n",
    "\n",
    "from sklearn.metrics import roc_auc_score, roc_curve\n",
    "\n",
    "train_probs = model.predict_proba(X_train_vec)[:,1] \n",
    "probs = model.predict_proba(X_test_vec)[:, 1]\n",
    "train_predictions = model.predict(X_train_vec)\n",
    "\n",
    "print(f'Train ROC AUC Score: {round(roc_auc_score(y_train, train_probs),2)}')\n",
    "print(f'Test ROC AUC  Score: {round(roc_auc_score(y_test, probs),2)}')"
   ]
  },
  {
   "cell_type": "code",
   "execution_count": 29,
   "id": "a1ae7820-d80a-4aae-a5bc-1361d0c42d25",
   "metadata": {},
   "outputs": [
    {
     "name": "stdout",
     "output_type": "stream",
     "text": [
      "Baseline: {1.0} Test: {0.94} Train: {0.99}\n",
      "Baseline: {0.5} Test: {0.97} Train: {1.0}\n",
      "Baseline: {0.5} Test: {0.99} Train: {1.0}\n"
     ]
    },
    {
     "data": {
      "image/png": "[encoded data removed]",
      "text/plain": [
       "<Figure size 576x432 with 1 Axes>"
      ]
     },
     "metadata": {
      "needs_background": "light"
     },
     "output_type": "display_data"
    }
   ],
   "source": [
    "#https://towardsdatascience.com/my-random-forest-classifier-cheat-sheet-in-python-fedb84f8cf4f\n",
    "\n",
    "def evaluate_model(y_pred, probs,train_predictions, train_probs):\n",
    "    baseline = {}\n",
    "    baseline['recall']=recall_score(y_test,\n",
    "                    [1 for _ in range(len(y_test))])\n",
    "    baseline['precision'] = precision_score(y_test,\n",
    "                    [1 for _ in range(len(y_test))])\n",
    "    baseline['roc'] = 0.5\n",
    "    results = {}\n",
    "    results['recall'] = recall_score(y_test, y_pred)\n",
    "    results['precision'] = precision_score(y_test, y_pred)\n",
    "    results['roc'] = roc_auc_score(y_test, probs)\n",
    "    train_results = {}\n",
    "    train_results['recall'] = recall_score(y_train, train_predictions)\n",
    "    train_results['precision'] = precision_score(y_train, train_predictions)\n",
    "    train_results['roc'] = roc_auc_score(y_train, train_probs)\n",
    "    for metric in ['recall', 'precision', 'roc']:  \n",
    "          print('Baseline:', {round(baseline[metric], 2)}, \n",
    "                 'Test:', {round(results[metric], 2)}, \n",
    "                 'Train:', {round(train_results[metric], 2)})\n",
    "     # Calculate false positive rates and true positive rates\n",
    "    base_fpr, base_tpr, _ = roc_curve(y_test, [1 for _ in range(len(y_test))])\n",
    "    model_fpr, model_tpr, _ = roc_curve(y_test, probs)\n",
    "    plt.figure(figsize = (8, 6))\n",
    "    plt.rcParams['font.size'] = 16\n",
    "    # Plot both curves\n",
    "    plt.plot(base_fpr, base_tpr, 'b', label = 'baseline')\n",
    "    plt.plot(model_fpr, model_tpr, 'r', label = 'model')\n",
    "    plt.legend();\n",
    "    plt.xlabel('False Positive Rate');\n",
    "    plt.ylabel('True Positive Rate'); plt.title('ROC Curves');\n",
    "    plt.show();\n",
    "\n",
    "evaluate_model(y_pred,probs,train_predictions,train_probs)"
   ]
  },
  {
   "cell_type": "code",
   "execution_count": 38,
   "id": "b7914526-072c-4872-9e4c-8a79b7380d79",
   "metadata": {},
   "outputs": [
    {
     "data": {
      "image/png": "[encoded data removed]",
      "text/plain": [
       "<Figure size 576x396 with 1 Axes>"
      ]
     },
     "metadata": {},
     "output_type": "display_data"
    },
    {
     "name": "stdout",
     "output_type": "stream",
     "text": [
      "LearningCurve(ax=<AxesSubplot:title={'center':'Learning Curve for LogisticRegression'}, xlabel='Training Instances', ylabel='Score'>,\n",
      "              cv=5,\n",
      "              estimator=LogisticRegression(C=10, max_iter=1000,\n",
      "                                           solver='liblinear'),\n",
      "              scoring='accuracy')\n"
     ]
    }
   ],
   "source": [
    "# Checking learning curve\n",
    "\n",
    "X_train = vect.fit_transform(X_ros)\n",
    "print(learning_curve(model, X_train, y_ros, cv=5, scoring='accuracy'))"
   ]
  },
  {
   "cell_type": "markdown",
   "id": "1e77503f-62c7-4e49-9e8c-cb5cc80f12cf",
   "metadata": {
    "tags": []
   },
   "source": [
    "## Finding the Optimal Threshold\n",
    "https://towardsdatascience.com/optimal-threshold-for-imbalanced-classification-5884e870c293"
   ]
  },
  {
   "cell_type": "code",
   "execution_count": 40,
   "id": "8cdbcea7-6807-4343-a36a-a61c4a599a40",
   "metadata": {},
   "outputs": [],
   "source": [
    "# Predict the probabilities\n",
    "y_pred = model.predict_proba(X_test_vec)\n",
    "\n",
    "# Get the probabilities for positive class\n",
    "y_pred = y_pred[:, 1]"
   ]
  },
  {
   "cell_type": "code",
   "execution_count": 41,
   "id": "55fe1da8-d021-41e9-ad96-2114709f2797",
   "metadata": {},
   "outputs": [],
   "source": [
    "# Create the ROC curve\n",
    "fpr, tpr, thresholds = roc_curve(y_test, y_pred)"
   ]
  },
  {
   "cell_type": "code",
   "execution_count": 42,
   "id": "fe700de3-c32e-4f53-bcdc-d8c2df847e5a",
   "metadata": {},
   "outputs": [
    {
     "data": {
      "text/html": [
       "<div>\n",
       "<style scoped>\n",
       "    .dataframe tbody tr th:only-of-type {\n",
       "        vertical-align: middle;\n",
       "    }\n",
       "\n",
       "    .dataframe tbody tr th {\n",
       "        vertical-align: top;\n",
       "    }\n",
       "\n",
       "    .dataframe thead th {\n",
       "        text-align: right;\n",
       "    }\n",
       "</style>\n",
       "<table border=\"1\" class=\"dataframe\">\n",
       "  <thead>\n",
       "    <tr style=\"text-align: right;\">\n",
       "      <th></th>\n",
       "      <th>FPR</th>\n",
       "      <th>TPR</th>\n",
       "      <th>Threshold</th>\n",
       "    </tr>\n",
       "  </thead>\n",
       "  <tbody>\n",
       "    <tr>\n",
       "      <th>0</th>\n",
       "      <td>0.0</td>\n",
       "      <td>0.000000</td>\n",
       "      <td>2.0</td>\n",
       "    </tr>\n",
       "    <tr>\n",
       "      <th>1</th>\n",
       "      <td>0.0</td>\n",
       "      <td>0.000469</td>\n",
       "      <td>1.0</td>\n",
       "    </tr>\n",
       "    <tr>\n",
       "      <th>2</th>\n",
       "      <td>0.0</td>\n",
       "      <td>0.000642</td>\n",
       "      <td>1.0</td>\n",
       "    </tr>\n",
       "    <tr>\n",
       "      <th>3</th>\n",
       "      <td>0.0</td>\n",
       "      <td>0.000716</td>\n",
       "      <td>1.0</td>\n",
       "    </tr>\n",
       "    <tr>\n",
       "      <th>4</th>\n",
       "      <td>0.0</td>\n",
       "      <td>0.000814</td>\n",
       "      <td>1.0</td>\n",
       "    </tr>\n",
       "  </tbody>\n",
       "</table>\n",
       "</div>"
      ],
      "text/plain": [
       "   FPR       TPR  Threshold\n",
       "0  0.0  0.000000        2.0\n",
       "1  0.0  0.000469        1.0\n",
       "2  0.0  0.000642        1.0\n",
       "3  0.0  0.000716        1.0\n",
       "4  0.0  0.000814        1.0"
      ]
     },
     "execution_count": 42,
     "metadata": {},
     "output_type": "execute_result"
    }
   ],
   "source": [
    "# Plot the ROC curve\n",
    "df_fpr_tpr = pd.DataFrame({'FPR':fpr, 'TPR':tpr, 'Threshold':thresholds})\n",
    "df_fpr_tpr.head()"
   ]
  },
  {
   "cell_type": "code",
   "execution_count": 46,
   "id": "1a18156c-43c7-43a7-8f24-0277e43a9650",
   "metadata": {},
   "outputs": [],
   "source": [
    "from plotnine import *\n",
    "import plotnine"
   ]
  },
  {
   "cell_type": "code",
   "execution_count": 49,
   "id": "154bcfab-648b-4c51-830a-bed22f8bf6ac",
   "metadata": {},
   "outputs": [
    {
     "name": "stdout",
     "output_type": "stream",
     "text": [
      "Best Threshold: 0.3883 with G-Mean: 0.9574\n",
      "FPR: 0.0436, TPR: 0.9583\n"
     ]
    }
   ],
   "source": [
    "# Calculate the G-mean\n",
    "gmean = np.sqrt(tpr * (1 - fpr))\n",
    "\n",
    "# Find the optimal threshold\n",
    "index = np.argmax(gmean)\n",
    "thresholdOpt = round(thresholds[index], ndigits = 4)\n",
    "gmeanOpt = round(gmean[index], ndigits = 4)\n",
    "fprOpt = round(fpr[index], ndigits = 4)\n",
    "tprOpt = round(tpr[index], ndigits = 4)\n",
    "print('Best Threshold: {} with G-Mean: {}'.format(thresholdOpt, gmeanOpt))\n",
    "print('FPR: {}, TPR: {}'.format(fprOpt, tprOpt))"
   ]
  },
  {
   "cell_type": "code",
   "execution_count": 51,
   "id": "31056bbf-6d49-4995-82be-9521a0528f15",
   "metadata": {},
   "outputs": [
    {
     "data": {
      "image/png": "[encoded data removed]",
      "text/plain": [
       "<Figure size 800x480 with 1 Axes>"
      ]
     },
     "metadata": {
      "needs_background": "light"
     },
     "output_type": "display_data"
    },
    {
     "data": {
      "text/plain": [
       "<ggplot: (8786226723581)>"
      ]
     },
     "execution_count": 51,
     "metadata": {},
     "output_type": "execute_result"
    }
   ],
   "source": [
    "plotnine.options.figure_size = (8, 4.8)\n",
    "(\n",
    "    ggplot(data = df_fpr_tpr)+\n",
    "    geom_point(aes(x = 'FPR',\n",
    "                   y = 'TPR'),\n",
    "               size = 0.4)+\n",
    "    # Best threshold\n",
    "    geom_point(aes(x = fprOpt,\n",
    "                   y = tprOpt),\n",
    "               color = '#981220',\n",
    "               size = 4)+\n",
    "    geom_line(aes(x = 'FPR',\n",
    "                  y = 'TPR'))+\n",
    "    geom_text(aes(x = fprOpt,\n",
    "                  y = tprOpt),\n",
    "              label = 'Optimal threshold \\n for class: {}'.format(thresholdOpt),\n",
    "              nudge_x = 0.14,\n",
    "              nudge_y = -0.10,\n",
    "              size = 10,\n",
    "              fontstyle = 'italic')+\n",
    "    labs(title = 'ROC Curve')+\n",
    "    xlab('False Positive Rate (FPR)')+\n",
    "    ylab('True Positive Rate (TPR)')+\n",
    "    theme_minimal()\n",
    ")"
   ]
  },
  {
   "cell_type": "markdown",
   "id": "8919c507-64d5-4b8b-b218-eefe141a27ae",
   "metadata": {
    "tags": []
   },
   "source": [
    "## Classifying USA Dataset"
   ]
  },
  {
   "cell_type": "code",
   "execution_count": 57,
   "id": "25620131-3ec6-4aaa-8d79-46a8bae2c97f",
   "metadata": {},
   "outputs": [],
   "source": [
    "# load unseen dataset & assign to X\n",
    "\n",
    "usa = pd.read_pickle(\"../data/usa_tweets_demo.pkl\")\n",
    "X = usa['text']"
   ]
  },
  {
   "cell_type": "code",
   "execution_count": 58,
   "id": "f7b8d0a2-0128-43a3-8125-5cf83678a3d2",
   "metadata": {},
   "outputs": [],
   "source": [
    "# vectorize X\n",
    "\n",
    "X_vec_pred = vect.transform(X)"
   ]
  },
  {
   "cell_type": "code",
   "execution_count": 59,
   "id": "ba8c9931-bc35-49db-b70f-9e8eb367b19a",
   "metadata": {},
   "outputs": [],
   "source": [
    "# predict probabilities for the new data\n",
    "\n",
    "y_pred = model.predict_proba(X_vec_pred)"
   ]
  },
  {
   "cell_type": "code",
   "execution_count": 60,
   "id": "7412992e-b337-4667-8dfa-e00743892842",
   "metadata": {},
   "outputs": [],
   "source": [
    "# classify data based on 0.5 threshold\n",
    "\n",
    "believer_denier_preds = []\n",
    "\n",
    "for i in y_pred:\n",
    "    if i[1] < 0.3883:\n",
    "        believer_denier_preds.append(0)\n",
    "    else:\n",
    "        believer_denier_preds.append(1)"
   ]
  },
  {
   "cell_type": "code",
   "execution_count": 61,
   "id": "e90fe179-f084-4079-9761-c8f0bc207103",
   "metadata": {},
   "outputs": [
    {
     "data": {
      "text/plain": [
       "1    114667\n",
       "0     36131\n",
       "Name: believer_denier, dtype: int64"
      ]
     },
     "execution_count": 61,
     "metadata": {},
     "output_type": "execute_result"
    }
   ],
   "source": [
    "# add classifications to the dataset\n",
    "\n",
    "usa['believer_denier'] = believer_denier_preds\n",
    "usa['believer_denier'].value_counts()"
   ]
  },
  {
   "cell_type": "code",
   "execution_count": 62,
   "id": "a6154e83-f2ca-4c0c-b02a-f08f425cc573",
   "metadata": {},
   "outputs": [
    {
     "data": {
      "text/plain": [
       "1    114667\n",
       "0     36131\n",
       "Name: believer_denier, dtype: int64"
      ]
     },
     "execution_count": 62,
     "metadata": {},
     "output_type": "execute_result"
    }
   ],
   "source": [
    "# add classifications to the dataset\n",
    "\n",
    "usa['believer_denier'] = believer_denier_preds\n",
    "usa['believer_denier'].value_counts()"
   ]
  },
  {
   "cell_type": "code",
   "execution_count": 63,
   "id": "d04e50d7-34bc-4d69-9543-0bf5566b3b1a",
   "metadata": {},
   "outputs": [
    {
     "data": {
      "text/html": [
       "<div>\n",
       "<style scoped>\n",
       "    .dataframe tbody tr th:only-of-type {\n",
       "        vertical-align: middle;\n",
       "    }\n",
       "\n",
       "    .dataframe tbody tr th {\n",
       "        vertical-align: top;\n",
       "    }\n",
       "\n",
       "    .dataframe thead th {\n",
       "        text-align: right;\n",
       "    }\n",
       "</style>\n",
       "<table border=\"1\" class=\"dataframe\">\n",
       "  <thead>\n",
       "    <tr style=\"text-align: right;\">\n",
       "      <th></th>\n",
       "      <th>text</th>\n",
       "      <th>believer_denier</th>\n",
       "    </tr>\n",
       "  </thead>\n",
       "  <tbody>\n",
       "    <tr>\n",
       "      <th>0</th>\n",
       "      <td>ll juice left carrot tonight fresh juice morni...</td>\n",
       "      <td>1</td>\n",
       "    </tr>\n",
       "    <tr>\n",
       "      <th>1</th>\n",
       "      <td>climate fact course warm year concern learn cl...</td>\n",
       "      <td>1</td>\n",
       "    </tr>\n",
       "    <tr>\n",
       "      <th>2</th>\n",
       "      <td>planet great winner world move ahead actonclim...</td>\n",
       "      <td>1</td>\n",
       "    </tr>\n",
       "    <tr>\n",
       "      <th>3</th>\n",
       "      <td>teen activist meet staff ve lose faith humanit...</td>\n",
       "      <td>1</td>\n",
       "    </tr>\n",
       "    <tr>\n",
       "      <th>4</th>\n",
       "      <td>rescue refugee land sea fleeing conflict need ...</td>\n",
       "      <td>1</td>\n",
       "    </tr>\n",
       "    <tr>\n",
       "      <th>...</th>\n",
       "      <td>...</td>\n",
       "      <td>...</td>\n",
       "    </tr>\n",
       "    <tr>\n",
       "      <th>150793</th>\n",
       "      <td>savage energy partner record break fiscal quar...</td>\n",
       "      <td>1</td>\n",
       "    </tr>\n",
       "    <tr>\n",
       "      <th>150794</th>\n",
       "      <td>hard tell snakeoil chemtrail globalwarmingisah...</td>\n",
       "      <td>0</td>\n",
       "    </tr>\n",
       "    <tr>\n",
       "      <th>150795</th>\n",
       "      <td>standard winter hurricane warn part florida yi...</td>\n",
       "      <td>1</td>\n",
       "    </tr>\n",
       "    <tr>\n",
       "      <th>150796</th>\n",
       "      <td>happy new yeaя fan globalwarmingisahoax hoax f...</td>\n",
       "      <td>1</td>\n",
       "    </tr>\n",
       "    <tr>\n",
       "      <th>150797</th>\n",
       "      <td>september buffalo globalwarmingisahoax</td>\n",
       "      <td>1</td>\n",
       "    </tr>\n",
       "  </tbody>\n",
       "</table>\n",
       "<p>150798 rows × 2 columns</p>\n",
       "</div>"
      ],
      "text/plain": [
       "                                                     text  believer_denier\n",
       "0       ll juice left carrot tonight fresh juice morni...                1\n",
       "1       climate fact course warm year concern learn cl...                1\n",
       "2       planet great winner world move ahead actonclim...                1\n",
       "3       teen activist meet staff ve lose faith humanit...                1\n",
       "4       rescue refugee land sea fleeing conflict need ...                1\n",
       "...                                                   ...              ...\n",
       "150793  savage energy partner record break fiscal quar...                1\n",
       "150794  hard tell snakeoil chemtrail globalwarmingisah...                0\n",
       "150795  standard winter hurricane warn part florida yi...                1\n",
       "150796  happy new yeaя fan globalwarmingisahoax hoax f...                1\n",
       "150797             september buffalo globalwarmingisahoax                1\n",
       "\n",
       "[150798 rows x 2 columns]"
      ]
     },
     "execution_count": 63,
     "metadata": {},
     "output_type": "execute_result"
    }
   ],
   "source": [
    "usa[['text','believer_denier']]"
   ]
  },
  {
   "cell_type": "code",
   "execution_count": 64,
   "id": "6e29128a-43f2-4c66-88ce-9990d53bf424",
   "metadata": {},
   "outputs": [],
   "source": [
    "# sanity check classifications\n",
    "\n",
    "believers = usa.loc[usa['believer_denier'] == 1]\n",
    "believers = believers.reset_index(drop=True)\n",
    "\n",
    "deniers = usa.loc[usa['believer_denier'] == 0]\n",
    "deniers = deniers.reset_index(drop=True)"
   ]
  },
  {
   "cell_type": "code",
   "execution_count": 65,
   "id": "9e10447f-999a-4947-9cd0-502315934ca0",
   "metadata": {},
   "outputs": [
    {
     "data": {
      "text/plain": [
       "'suggest read thread climatechangeisreal ignore'"
      ]
     },
     "execution_count": 65,
     "metadata": {},
     "output_type": "execute_result"
    }
   ],
   "source": [
    "believers['text'][5]"
   ]
  },
  {
   "cell_type": "code",
   "execution_count": 66,
   "id": "745760df-5473-4997-ad80-9618cab56954",
   "metadata": {},
   "outputs": [
    {
     "data": {
      "text/plain": [
       "'way realestate developer stay ahead climate change smartcitie climateaction'"
      ]
     },
     "execution_count": 66,
     "metadata": {},
     "output_type": "execute_result"
    }
   ],
   "source": [
    "believers['text'][50]"
   ]
  },
  {
   "cell_type": "code",
   "execution_count": 67,
   "id": "d416a681-3733-4701-bd55-0163dcf610a8",
   "metadata": {},
   "outputs": [
    {
     "data": {
      "text/plain": [
       "'globalwarminghoax believer repent link video climatebarbie head south'"
      ]
     },
     "execution_count": 67,
     "metadata": {},
     "output_type": "execute_result"
    }
   ],
   "source": [
    "deniers['text'][3]"
   ]
  },
  {
   "cell_type": "code",
   "execution_count": 69,
   "id": "e2ebdce3-af5f-4b6a-9264-6d81f085311a",
   "metadata": {},
   "outputs": [
    {
     "data": {
      "text/plain": [
       "'president trump drop climate change list national security threat maga draintheswamp'"
      ]
     },
     "execution_count": 69,
     "metadata": {},
     "output_type": "execute_result"
    }
   ],
   "source": [
    "deniers['text'][100]"
   ]
  },
  {
   "cell_type": "code",
   "execution_count": 70,
   "id": "ca5c3d23-2de5-4fad-9d50-cf1d6ae2e33c",
   "metadata": {},
   "outputs": [],
   "source": [
    "# save classified dataset\n",
    "\n",
    "usa.to_pickle(\"../data/usa_classified_tweets.pkl\")"
   ]
  }
 ],
 "metadata": {
  "accelerator": "GPU",
  "colab": {
   "collapsed_sections": [],
   "name": "Preprocessing + LR.ipynb",
   "provenance": []
  },
  "kernelspec": {
   "display_name": "Python 3 (ipykernel)",
   "language": "python",
   "name": "python3"
  },
  "language_info": {
   "codemirror_mode": {
    "name": "ipython",
    "version": 3
   },
   "file_extension": ".py",
   "mimetype": "text/x-python",
   "name": "python",
   "nbconvert_exporter": "python",
   "pygments_lexer": "ipython3",
   "version": "3.8.11"
  }
 },
 "nbformat": 4,
 "nbformat_minor": 5
}
