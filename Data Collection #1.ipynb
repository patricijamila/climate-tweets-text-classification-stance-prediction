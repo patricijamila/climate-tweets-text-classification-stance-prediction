{
 "cells": [
  {
   "cell_type": "code",
   "execution_count": 1,
   "id": "a84cd513-bf99-42cc-87ab-63aed544785b",
   "metadata": {},
   "outputs": [],
   "source": [
    "# import libraries\n",
    "\n",
    "import os\n",
    "import pandas as pd\n",
    "from datetime import date\n",
    "import pickle"
   ]
  },
  {
   "cell_type": "markdown",
   "id": "8a97daa7-d16d-401d-b0e9-aecdb59c4741",
   "metadata": {
    "jp-MarkdownHeadingCollapsed": true,
    "tags": []
   },
   "source": [
    "## Using sunscrape to supplement denier tweets ##\n",
    "- Since 2019-06-01: 'climatechangeisfalse', 'climatechangenotreal', 'climatechangehoax', 'globalwarminghoax' (around 30,000, before hydrating), climatedeniers (6,000), climatehoax (68,000)\n",
    "- Since 2017-09-21 (missing hashtags): climatechangescam(1484), climatehysteria(11,000), globalwarmingisahoax (774), globalwarmingscam(600), globalcooling(10,000)\n",
    "- https://firstdraftnews.org/articles/climate-change-misinformation-conspiracy-memes/\n",
    "- https://awario.com/blog/climate-change-denial/\n"
   ]
  },
  {
   "cell_type": "code",
   "execution_count": 5,
   "id": "af76ec71-34c6-4f0f-a8c9-54ea4489da6b",
   "metadata": {},
   "outputs": [],
   "source": [
    "today = date.today()\n",
    "end_date = today"
   ]
  },
  {
   "cell_type": "code",
   "execution_count": 45,
   "id": "51fee33f-d368-442d-ae20-7f085f0f678e",
   "metadata": {},
   "outputs": [],
   "source": [
    "search_term = 'globalcooling'\n",
    "from_date = '2017-09-21'"
   ]
  },
  {
   "cell_type": "code",
   "execution_count": 46,
   "id": "f928ff2b-7be6-472a-960f-8ac7da779b37",
   "metadata": {},
   "outputs": [
    {
     "name": "stdout",
     "output_type": "stream",
     "text": [
      "Number Of Tweets : 10306\n"
     ]
    }
   ],
   "source": [
    "os.system(f\"snscrape --since {from_date} twitter-search '{search_term} until:{end_date}' > result-tweets.txt\")\n",
    "\n",
    "if os.stat(\"result-tweets.txt\").st_size == 0:\n",
    "    counter = 0\n",
    "else:\n",
    "    df = pd.read_csv('result-tweets.txt', names=['link'])\n",
    "    counter = df.size\n",
    "\n",
    "print('Number Of Tweets : '+ str(counter))"
   ]
  },
  {
   "cell_type": "code",
   "execution_count": 8,
   "id": "e11fdc18-5f5c-4609-b0d2-a393deb9e414",
   "metadata": {},
   "outputs": [],
   "source": [
    "climate_hoax = pd.read_csv('result-tweets.txt')"
   ]
  },
  {
   "cell_type": "code",
   "execution_count": 12,
   "id": "9eeed600-304d-407b-8659-9f962f1162b2",
   "metadata": {},
   "outputs": [],
   "source": [
    "climate_hoax.to_csv('climate_hoax.csv')"
   ]
  },
  {
   "cell_type": "code",
   "execution_count": 48,
   "id": "9f832d87-9e6e-4d24-b6d6-581180d190a1",
   "metadata": {},
   "outputs": [],
   "source": [
    "filenames = ['climate_false.txt', 'climate_not_real.txt', 'climatechangehoax.txt',\n",
    "            'climatechangescam.txt', 'climatedeniers.txt', 'climatehoax.txt',\n",
    "            'climatehysteria.txt', 'globalcooling.txt','globalwarminghoax.txt',\n",
    "            'globalwarmingisahoax.txt', 'globalwarmingscam.txt']\n",
    "\n",
    "with open('denier_supplements.txt', 'w') as outfile:\n",
    "    for fname in filenames:\n",
    "        with open(fname) as infile:\n",
    "            for line in infile:\n",
    "                outfile.write(line)"
   ]
  },
  {
   "cell_type": "code",
   "execution_count": 61,
   "id": "ef9fa5ff-7538-4754-bcbb-765848de1404",
   "metadata": {},
   "outputs": [
    {
     "data": {
      "text/html": [
       "<div>\n",
       "<style scoped>\n",
       "    .dataframe tbody tr th:only-of-type {\n",
       "        vertical-align: middle;\n",
       "    }\n",
       "\n",
       "    .dataframe tbody tr th {\n",
       "        vertical-align: top;\n",
       "    }\n",
       "\n",
       "    .dataframe thead th {\n",
       "        text-align: right;\n",
       "    }\n",
       "</style>\n",
       "<table border=\"1\" class=\"dataframe\">\n",
       "  <thead>\n",
       "    <tr style=\"text-align: right;\">\n",
       "      <th></th>\n",
       "      <th>0</th>\n",
       "    </tr>\n",
       "  </thead>\n",
       "  <tbody>\n",
       "    <tr>\n",
       "      <th>0</th>\n",
       "      <td>https://twitter.com/RClarkofNC/status/13315671...</td>\n",
       "    </tr>\n",
       "    <tr>\n",
       "      <th>1</th>\n",
       "      <td>https://twitter.com/baeareavibez/status/132707...</td>\n",
       "    </tr>\n",
       "    <tr>\n",
       "      <th>2</th>\n",
       "      <td>https://twitter.com/blessedpolish/status/13065...</td>\n",
       "    </tr>\n",
       "    <tr>\n",
       "      <th>3</th>\n",
       "      <td>https://twitter.com/Kringdom1/status/117585894...</td>\n",
       "    </tr>\n",
       "    <tr>\n",
       "      <th>4</th>\n",
       "      <td>https://twitter.com/20Fireblade13/status/11581...</td>\n",
       "    </tr>\n",
       "    <tr>\n",
       "      <th>...</th>\n",
       "      <td>...</td>\n",
       "    </tr>\n",
       "    <tr>\n",
       "      <th>127799</th>\n",
       "      <td>https://twitter.com/TeamTrumpUSA/status/918519...</td>\n",
       "    </tr>\n",
       "    <tr>\n",
       "      <th>127800</th>\n",
       "      <td>https://twitter.com/100monkeys/status/91811357...</td>\n",
       "    </tr>\n",
       "    <tr>\n",
       "      <th>127801</th>\n",
       "      <td>https://twitter.com/JohnInLongmont/status/9174...</td>\n",
       "    </tr>\n",
       "    <tr>\n",
       "      <th>127802</th>\n",
       "      <td>https://twitter.com/howardbrown7/status/917017...</td>\n",
       "    </tr>\n",
       "    <tr>\n",
       "      <th>127803</th>\n",
       "      <td>https://twitter.com/ChrisBr21634919/status/914...</td>\n",
       "    </tr>\n",
       "  </tbody>\n",
       "</table>\n",
       "<p>127804 rows × 1 columns</p>\n",
       "</div>"
      ],
      "text/plain": [
       "                                                        0\n",
       "0       https://twitter.com/RClarkofNC/status/13315671...\n",
       "1       https://twitter.com/baeareavibez/status/132707...\n",
       "2       https://twitter.com/blessedpolish/status/13065...\n",
       "3       https://twitter.com/Kringdom1/status/117585894...\n",
       "4       https://twitter.com/20Fireblade13/status/11581...\n",
       "...                                                   ...\n",
       "127799  https://twitter.com/TeamTrumpUSA/status/918519...\n",
       "127800  https://twitter.com/100monkeys/status/91811357...\n",
       "127801  https://twitter.com/JohnInLongmont/status/9174...\n",
       "127802  https://twitter.com/howardbrown7/status/917017...\n",
       "127803  https://twitter.com/ChrisBr21634919/status/914...\n",
       "\n",
       "[127804 rows x 1 columns]"
      ]
     },
     "execution_count": 61,
     "metadata": {},
     "output_type": "execute_result"
    }
   ],
   "source": [
    "data = pd.read_csv('denier_supplements.txt', header=None)\n",
    "data"
   ]
  },
  {
   "cell_type": "code",
   "execution_count": 62,
   "id": "66d8c1cb-dd2e-4f75-bbb6-990e464a7ef8",
   "metadata": {},
   "outputs": [
    {
     "data": {
      "text/html": [
       "<div>\n",
       "<style scoped>\n",
       "    .dataframe tbody tr th:only-of-type {\n",
       "        vertical-align: middle;\n",
       "    }\n",
       "\n",
       "    .dataframe tbody tr th {\n",
       "        vertical-align: top;\n",
       "    }\n",
       "\n",
       "    .dataframe thead th {\n",
       "        text-align: right;\n",
       "    }\n",
       "</style>\n",
       "<table border=\"1\" class=\"dataframe\">\n",
       "  <thead>\n",
       "    <tr style=\"text-align: right;\">\n",
       "      <th></th>\n",
       "      <th>url</th>\n",
       "    </tr>\n",
       "  </thead>\n",
       "  <tbody>\n",
       "    <tr>\n",
       "      <th>0</th>\n",
       "      <td>https://twitter.com/RClarkofNC/status/13315671...</td>\n",
       "    </tr>\n",
       "    <tr>\n",
       "      <th>1</th>\n",
       "      <td>https://twitter.com/baeareavibez/status/132707...</td>\n",
       "    </tr>\n",
       "    <tr>\n",
       "      <th>2</th>\n",
       "      <td>https://twitter.com/blessedpolish/status/13065...</td>\n",
       "    </tr>\n",
       "    <tr>\n",
       "      <th>3</th>\n",
       "      <td>https://twitter.com/Kringdom1/status/117585894...</td>\n",
       "    </tr>\n",
       "    <tr>\n",
       "      <th>4</th>\n",
       "      <td>https://twitter.com/20Fireblade13/status/11581...</td>\n",
       "    </tr>\n",
       "    <tr>\n",
       "      <th>...</th>\n",
       "      <td>...</td>\n",
       "    </tr>\n",
       "    <tr>\n",
       "      <th>127799</th>\n",
       "      <td>https://twitter.com/TeamTrumpUSA/status/918519...</td>\n",
       "    </tr>\n",
       "    <tr>\n",
       "      <th>127800</th>\n",
       "      <td>https://twitter.com/100monkeys/status/91811357...</td>\n",
       "    </tr>\n",
       "    <tr>\n",
       "      <th>127801</th>\n",
       "      <td>https://twitter.com/JohnInLongmont/status/9174...</td>\n",
       "    </tr>\n",
       "    <tr>\n",
       "      <th>127802</th>\n",
       "      <td>https://twitter.com/howardbrown7/status/917017...</td>\n",
       "    </tr>\n",
       "    <tr>\n",
       "      <th>127803</th>\n",
       "      <td>https://twitter.com/ChrisBr21634919/status/914...</td>\n",
       "    </tr>\n",
       "  </tbody>\n",
       "</table>\n",
       "<p>127804 rows × 1 columns</p>\n",
       "</div>"
      ],
      "text/plain": [
       "                                                      url\n",
       "0       https://twitter.com/RClarkofNC/status/13315671...\n",
       "1       https://twitter.com/baeareavibez/status/132707...\n",
       "2       https://twitter.com/blessedpolish/status/13065...\n",
       "3       https://twitter.com/Kringdom1/status/117585894...\n",
       "4       https://twitter.com/20Fireblade13/status/11581...\n",
       "...                                                   ...\n",
       "127799  https://twitter.com/TeamTrumpUSA/status/918519...\n",
       "127800  https://twitter.com/100monkeys/status/91811357...\n",
       "127801  https://twitter.com/JohnInLongmont/status/9174...\n",
       "127802  https://twitter.com/howardbrown7/status/917017...\n",
       "127803  https://twitter.com/ChrisBr21634919/status/914...\n",
       "\n",
       "[127804 rows x 1 columns]"
      ]
     },
     "execution_count": 62,
     "metadata": {},
     "output_type": "execute_result"
    }
   ],
   "source": [
    "data1 = data\n",
    "data1.columns = ['url']\n",
    "data1"
   ]
  },
  {
   "cell_type": "code",
   "execution_count": null,
   "id": "d9d249f1-a636-4304-8b9e-451731ebe4e1",
   "metadata": {},
   "outputs": [],
   "source": [
    ".iloc[:,[0,1]]"
   ]
  },
  {
   "cell_type": "code",
   "execution_count": 65,
   "id": "51f18279-a94f-43de-abd7-0c819cd9ac4d",
   "metadata": {},
   "outputs": [],
   "source": [
    "separated = data1['url'].str.split('/', expand = True)"
   ]
  },
  {
   "cell_type": "code",
   "execution_count": 67,
   "id": "d4ac54ca-6b49-4763-b963-3f434e97fb96",
   "metadata": {},
   "outputs": [],
   "source": [
    "separated.columns = ['one', 'two','three','four','five','six']"
   ]
  },
  {
   "cell_type": "code",
   "execution_count": 71,
   "id": "e64b4d70-efe1-4a50-8702-63b96ff6c440",
   "metadata": {},
   "outputs": [],
   "source": [
    "ids = separated['six']"
   ]
  },
  {
   "cell_type": "code",
   "execution_count": 74,
   "id": "6233b2dc-66c9-4e36-875d-fdc4052a42a4",
   "metadata": {},
   "outputs": [],
   "source": [
    "ids = ids.drop_duplicates()"
   ]
  },
  {
   "cell_type": "code",
   "execution_count": 75,
   "id": "f0583e46-04fd-4b3f-a271-5db38fdc3e18",
   "metadata": {},
   "outputs": [
    {
     "data": {
      "text/plain": [
       "0         1331567111735533569\n",
       "1         1327071840209051648\n",
       "2         1306503581709807616\n",
       "3         1175858943668740098\n",
       "4         1158157717439209475\n",
       "                 ...         \n",
       "127799     918519356253986817\n",
       "127800     918113571095089153\n",
       "127801     917409761494274048\n",
       "127802     917017030330671104\n",
       "127803     914918334080020480\n",
       "Name: six, Length: 124753, dtype: object"
      ]
     },
     "execution_count": 75,
     "metadata": {},
     "output_type": "execute_result"
    }
   ],
   "source": [
    "ids"
   ]
  },
  {
   "cell_type": "code",
   "execution_count": 76,
   "id": "8e3171d8-8186-47f5-a901-1225569d7419",
   "metadata": {},
   "outputs": [],
   "source": [
    "ids.to_csv('denier_ids.txt', header=False, index=False, sep='\\t')"
   ]
  },
  {
   "cell_type": "markdown",
   "id": "6966832d-2603-48ce-ac6c-d313370091e4",
   "metadata": {},
   "source": [
    "## Building training and prediction datasets"
   ]
  },
  {
   "cell_type": "code",
   "execution_count": 2,
   "id": "cfe3e8f7-b792-40ac-ba1f-ac6e80b6bca1",
   "metadata": {},
   "outputs": [],
   "source": [
    "pd.options.mode.chained_assignment = None\n",
    "pd.set_option('display.max_columns', None)"
   ]
  },
  {
   "cell_type": "code",
   "execution_count": 4,
   "id": "5739b2ce-b8d9-4e78-8cb2-ff08c451a32b",
   "metadata": {},
   "outputs": [
    {
     "name": "stdout",
     "output_type": "stream",
     "text": [
      "hashtags shape: (587817, 35)\n",
      "geotags shape: (321316, 35)\n",
      "denier_supp shape: (124740, 35)\n"
     ]
    }
   ],
   "source": [
    "# Import 2017-2019 dataset with climate believer/denier hashtags\n",
    "\n",
    "hashtags = pd.read_csv('../datasets/tweets_hashtags.csv', low_memory=False)\n",
    "print('hashtags shape:',hashtags.shape)\n",
    "\n",
    "# Import 2017-2019 dataset with geotags\n",
    "\n",
    "geotags = pd.read_csv('../datasets/climate_tweet_ids.csv',low_memory=False)\n",
    "print('geotags shape:',geotags.shape)\n",
    "\n",
    "# Import denier supplement dataset\n",
    "\n",
    "denier_supp = pd.read_csv('../datasets/denier_supp.csv',low_memory=False)\n",
    "print('denier_supp shape:',denier_supp.shape)"
   ]
  },
  {
   "cell_type": "code",
   "execution_count": 5,
   "id": "b7368b5b-3140-461e-bd1b-e3e5a3e74943",
   "metadata": {},
   "outputs": [
    {
     "name": "stdout",
     "output_type": "stream",
     "text": [
      "All have the same columns\n"
     ]
    }
   ],
   "source": [
    "dfs = [hashtags, geotags, denier_supp]\n",
    "\n",
    "if all([set(dfs[0].columns) == set(df.columns) for df in dfs]):\n",
    "    print('All have the same columns')\n",
    "else:\n",
    "    print('Some have different columns')"
   ]
  },
  {
   "cell_type": "code",
   "execution_count": 6,
   "id": "be812b68-93c3-4bd5-a1c0-07d441ae5fca",
   "metadata": {},
   "outputs": [
    {
     "data": {
      "text/plain": [
       "(1033560, 35)"
      ]
     },
     "execution_count": 6,
     "metadata": {},
     "output_type": "execute_result"
    }
   ],
   "source": [
    "# Concatenate the three datasets\n",
    "\n",
    "dfs = [hashtags, geotags, denier_supp]\n",
    "df = pd.concat(dfs, axis = 0).drop_duplicates().reset_index(drop=True)\n",
    "df.shape"
   ]
  },
  {
   "cell_type": "code",
   "execution_count": 7,
   "id": "dd8357e0-01f3-4cee-90d6-f9af76308d35",
   "metadata": {},
   "outputs": [],
   "source": [
    "cols = [0,1,3,4,7,8,9,12,13,15,16,17]\n",
    "df.drop(df.columns[cols], axis=1, inplace=True)\n",
    "\n",
    "\n",
    "df = df.drop(df.loc[:,'tweet_url':'user_listed_count'].columns, axis = 1)\n",
    "df = df.drop(df.loc[:, 'user_name':'user_verified'].columns, axis = 1)"
   ]
  },
  {
   "cell_type": "code",
   "execution_count": 8,
   "id": "b2fb7404-86f6-4780-98f0-69c39e354e8e",
   "metadata": {},
   "outputs": [
    {
     "name": "stdout",
     "output_type": "stream",
     "text": [
      "<class 'pandas.core.frame.DataFrame'>\n",
      "RangeIndex: 1033560 entries, 0 to 1033559\n",
      "Data columns (total 8 columns):\n",
      " #   Column          Non-Null Count    Dtype \n",
      "---  ------          --------------    ----- \n",
      " 0   hashtags        801703 non-null   object\n",
      " 1   favorite_count  1033560 non-null  int64 \n",
      " 2   id              1033560 non-null  int64 \n",
      " 3   lang            1033560 non-null  object\n",
      " 4   place           332208 non-null   object\n",
      " 5   retweet_count   1033560 non-null  int64 \n",
      " 6   text            1033560 non-null  object\n",
      " 7   user_location   896589 non-null   object\n",
      "dtypes: int64(3), object(5)\n",
      "memory usage: 63.1+ MB\n"
     ]
    }
   ],
   "source": [
    "df.info()"
   ]
  },
  {
   "cell_type": "code",
   "execution_count": 10,
   "id": "4ae75054-4cc3-4d86-ab68-95a8af66e88b",
   "metadata": {},
   "outputs": [
    {
     "data": {
      "text/html": [
       "<div>\n",
       "<style scoped>\n",
       "    .dataframe tbody tr th:only-of-type {\n",
       "        vertical-align: middle;\n",
       "    }\n",
       "\n",
       "    .dataframe tbody tr th {\n",
       "        vertical-align: top;\n",
       "    }\n",
       "\n",
       "    .dataframe thead th {\n",
       "        text-align: right;\n",
       "    }\n",
       "</style>\n",
       "<table border=\"1\" class=\"dataframe\">\n",
       "  <thead>\n",
       "    <tr style=\"text-align: right;\">\n",
       "      <th></th>\n",
       "      <th>hashtags</th>\n",
       "      <th>favorite_count</th>\n",
       "      <th>id</th>\n",
       "      <th>lang</th>\n",
       "      <th>place</th>\n",
       "      <th>retweet_count</th>\n",
       "      <th>text</th>\n",
       "      <th>user_location</th>\n",
       "    </tr>\n",
       "  </thead>\n",
       "  <tbody>\n",
       "    <tr>\n",
       "      <th>0</th>\n",
       "      <td>climatechange climateaction sustainability fb</td>\n",
       "      <td>0</td>\n",
       "      <td>930123883520413697</td>\n",
       "      <td>en</td>\n",
       "      <td>NaN</td>\n",
       "      <td>0</td>\n",
       "      <td>We are not going to get too many more warnings...</td>\n",
       "      <td>Holmdel, NJ</td>\n",
       "    </tr>\n",
       "    <tr>\n",
       "      <th>1</th>\n",
       "      <td>juice reuse reduce actonclimate</td>\n",
       "      <td>1</td>\n",
       "      <td>965587085993365505</td>\n",
       "      <td>en</td>\n",
       "      <td>NaN</td>\n",
       "      <td>1</td>\n",
       "      <td>I'll be juicing my left over carrots tonight t...</td>\n",
       "      <td>Miami, FL</td>\n",
       "    </tr>\n",
       "    <tr>\n",
       "      <th>2</th>\n",
       "      <td>Hack4Climate Blockchain ClimateAction ClimateC...</td>\n",
       "      <td>4</td>\n",
       "      <td>928605716159574016</td>\n",
       "      <td>en</td>\n",
       "      <td>NaN</td>\n",
       "      <td>1</td>\n",
       "      <td>In less than 3 days we will #Hack4Climate at @...</td>\n",
       "      <td>Zürich, Schweiz</td>\n",
       "    </tr>\n",
       "    <tr>\n",
       "      <th>3</th>\n",
       "      <td>climatechange climateaction</td>\n",
       "      <td>1</td>\n",
       "      <td>954288658361802752</td>\n",
       "      <td>en</td>\n",
       "      <td>NaN</td>\n",
       "      <td>1</td>\n",
       "      <td>\"The best way to predict the future is to crea...</td>\n",
       "      <td>Tampere, Finland</td>\n",
       "    </tr>\n",
       "    <tr>\n",
       "      <th>4</th>\n",
       "      <td>protectwhatyoulove climatechangeisreal AnimalR...</td>\n",
       "      <td>0</td>\n",
       "      <td>1012691887440814086</td>\n",
       "      <td>en</td>\n",
       "      <td>NaN</td>\n",
       "      <td>0</td>\n",
       "      <td>Accepting the world for the way it is just mig...</td>\n",
       "      <td>NaN</td>\n",
       "    </tr>\n",
       "  </tbody>\n",
       "</table>\n",
       "</div>"
      ],
      "text/plain": [
       "                                            hashtags  favorite_count  \\\n",
       "0      climatechange climateaction sustainability fb               0   \n",
       "1                    juice reuse reduce actonclimate               1   \n",
       "2  Hack4Climate Blockchain ClimateAction ClimateC...               4   \n",
       "3                        climatechange climateaction               1   \n",
       "4  protectwhatyoulove climatechangeisreal AnimalR...               0   \n",
       "\n",
       "                    id lang place  retweet_count  \\\n",
       "0   930123883520413697   en   NaN              0   \n",
       "1   965587085993365505   en   NaN              1   \n",
       "2   928605716159574016   en   NaN              1   \n",
       "3   954288658361802752   en   NaN              1   \n",
       "4  1012691887440814086   en   NaN              0   \n",
       "\n",
       "                                                text     user_location  \n",
       "0  We are not going to get too many more warnings...       Holmdel, NJ  \n",
       "1  I'll be juicing my left over carrots tonight t...         Miami, FL  \n",
       "2  In less than 3 days we will #Hack4Climate at @...   Zürich, Schweiz  \n",
       "3  \"The best way to predict the future is to crea...  Tampere, Finland  \n",
       "4  Accepting the world for the way it is just mig...               NaN  "
      ]
     },
     "execution_count": 10,
     "metadata": {},
     "output_type": "execute_result"
    }
   ],
   "source": [
    "df.head()"
   ]
  },
  {
   "cell_type": "code",
   "execution_count": 11,
   "id": "0fa05d30-3bc6-46e1-84ba-d49b501895d5",
   "metadata": {},
   "outputs": [
    {
     "data": {
      "text/plain": [
       "(927487, 8)"
      ]
     },
     "execution_count": 11,
     "metadata": {},
     "output_type": "execute_result"
    }
   ],
   "source": [
    "# Drop non-English tweets\n",
    "\n",
    "indexes = df[ df['lang'] != 'en' ].index\n",
    "df.drop(indexes, inplace = True)\n",
    "  \n",
    "df.shape"
   ]
  },
  {
   "cell_type": "code",
   "execution_count": 12,
   "id": "9a4d9792-2ee3-4ce4-833d-81b737dac84d",
   "metadata": {},
   "outputs": [],
   "source": [
    "# save full dataset\n",
    "\n",
    "df.to_pickle(\"../data/full_data.pkl\")"
   ]
  },
  {
   "cell_type": "code",
   "execution_count": 72,
   "id": "61e4f298-c020-4c01-b902-98244dc6a1cb",
   "metadata": {},
   "outputs": [
    {
     "data": {
      "text/plain": [
       "Globally l Planet Earth          72662\n",
       "Tampere, Finland                 58831\n",
       "Globally l Online l Earth        39759\n",
       "Online l Globally l Earth        39524\n",
       "United States                    13881\n",
       "                                 ...  \n",
       "Bondi Beach and virtual space        1\n",
       "West Orlando,Florida                 1\n",
       "Earth !                              1\n",
       "central ohio                         1\n",
       "Infidellia                           1\n",
       "Name: user_location, Length: 62872, dtype: int64"
      ]
     },
     "execution_count": 72,
     "metadata": {},
     "output_type": "execute_result"
    }
   ],
   "source": [
    "df['user_location'].value_counts()"
   ]
  },
  {
   "cell_type": "code",
   "execution_count": 73,
   "id": "32c2d84f-a220-4176-b4d1-99f27399fef6",
   "metadata": {},
   "outputs": [
    {
     "data": {
      "text/html": [
       "<div>\n",
       "<style scoped>\n",
       "    .dataframe tbody tr th:only-of-type {\n",
       "        vertical-align: middle;\n",
       "    }\n",
       "\n",
       "    .dataframe tbody tr th {\n",
       "        vertical-align: top;\n",
       "    }\n",
       "\n",
       "    .dataframe thead th {\n",
       "        text-align: right;\n",
       "    }\n",
       "</style>\n",
       "<table border=\"1\" class=\"dataframe\">\n",
       "  <thead>\n",
       "    <tr style=\"text-align: right;\">\n",
       "      <th></th>\n",
       "      <th>city</th>\n",
       "      <th>state</th>\n",
       "    </tr>\n",
       "  </thead>\n",
       "  <tbody>\n",
       "    <tr>\n",
       "      <th>0</th>\n",
       "      <td>Holmdel</td>\n",
       "      <td>NJ</td>\n",
       "    </tr>\n",
       "    <tr>\n",
       "      <th>1</th>\n",
       "      <td>Miami</td>\n",
       "      <td>FL</td>\n",
       "    </tr>\n",
       "    <tr>\n",
       "      <th>2</th>\n",
       "      <td>Zürich</td>\n",
       "      <td>Schweiz</td>\n",
       "    </tr>\n",
       "    <tr>\n",
       "      <th>3</th>\n",
       "      <td>Tampere</td>\n",
       "      <td>Finland</td>\n",
       "    </tr>\n",
       "    <tr>\n",
       "      <th>11</th>\n",
       "      <td>Cairns</td>\n",
       "      <td>Queensland</td>\n",
       "    </tr>\n",
       "    <tr>\n",
       "      <th>...</th>\n",
       "      <td>...</td>\n",
       "      <td>...</td>\n",
       "    </tr>\n",
       "    <tr>\n",
       "      <th>1033548</th>\n",
       "      <td>Overland Park</td>\n",
       "      <td>KS</td>\n",
       "    </tr>\n",
       "    <tr>\n",
       "      <th>1033551</th>\n",
       "      <td>Longmont</td>\n",
       "      <td>CO</td>\n",
       "    </tr>\n",
       "    <tr>\n",
       "      <th>1033552</th>\n",
       "      <td>Texas</td>\n",
       "      <td>U.S.A.</td>\n",
       "    </tr>\n",
       "    <tr>\n",
       "      <th>1033554</th>\n",
       "      <td>Longmont</td>\n",
       "      <td>CO</td>\n",
       "    </tr>\n",
       "    <tr>\n",
       "      <th>1033555</th>\n",
       "      <td>Acapulco</td>\n",
       "      <td>Mexico</td>\n",
       "    </tr>\n",
       "  </tbody>\n",
       "</table>\n",
       "<p>380062 rows × 2 columns</p>\n",
       "</div>"
      ],
      "text/plain": [
       "                  city        state\n",
       "0              Holmdel           NJ\n",
       "1                Miami           FL\n",
       "2               Zürich      Schweiz\n",
       "3              Tampere      Finland\n",
       "11              Cairns   Queensland\n",
       "...                ...          ...\n",
       "1033548  Overland Park           KS\n",
       "1033551       Longmont           CO\n",
       "1033552          Texas       U.S.A.\n",
       "1033554       Longmont           CO\n",
       "1033555       Acapulco       Mexico\n",
       "\n",
       "[380062 rows x 2 columns]"
      ]
     },
     "execution_count": 73,
     "metadata": {},
     "output_type": "execute_result"
    }
   ],
   "source": [
    "# Process 'user_location' variable to separate it into city and state\n",
    "\n",
    "data1 = df.dropna(how='any', subset=['user_location'])\n",
    "data1 = data1[data1[\"user_location\"].str.contains(\",\")]\n",
    "location = data1['user_location'].str.split(',', expand = True).iloc[:,[0,1]]\n",
    "location.columns = ['city','state']\n",
    "location"
   ]
  },
  {
   "cell_type": "code",
   "execution_count": 74,
   "id": "28730399-1990-48c5-bbe5-c61b9f91feda",
   "metadata": {},
   "outputs": [],
   "source": [
    "# Add the two new columns back into the dataframe\n",
    "\n",
    "data1 = pd.concat([data1, location],axis = 1, join = 'outer', \n",
    "                 ignore_index=False, sort=False)\n",
    "\n",
    "# Strip the new columns of any spaces\n",
    "\n",
    "data1.state = data1.state.str.strip()\n",
    "data1.city = data1.city.str.strip()"
   ]
  },
  {
   "cell_type": "code",
   "execution_count": 75,
   "id": "400cce76-a820-41b7-aa6e-17d7c781131e",
   "metadata": {},
   "outputs": [
    {
     "data": {
      "text/plain": [
       "(133082, 10)"
      ]
     },
     "execution_count": 75,
     "metadata": {},
     "output_type": "execute_result"
    }
   ],
   "source": [
    "# Filter dataframe to only rows that have a US state abbreviation\n",
    "\n",
    "states = [\"AL\", \"AK\", \"AZ\", \"AR\", \"CA\", \"CO\", \"CT\", \"DC\", \"DE\", \"FL\", \"GA\", \n",
    "          \"HI\", \"ID\", \"IL\", \"IN\", \"IA\", \"KS\", \"KY\", \"LA\", \"ME\", \"MD\", \n",
    "          \"MA\", \"MI\", \"MN\", \"MS\", \"MO\", \"MT\", \"NE\", \"NV\", \"NH\", \"NJ\", \n",
    "          \"NM\", \"NY\", \"NC\", \"ND\", \"OH\", \"OK\", \"OR\", \"PA\", \"RI\", \"SC\", \n",
    "          \"SD\", \"TN\", \"TX\", \"UT\", \"VT\", \"VA\", \"WA\", \"WV\", \"WI\", \"WY\", \n",
    "          \"Alabama\",\"Alaska\",\"Arizona\",\"Arkansas\",\"California\",\"Colorado\",\n",
    "          \"Connecticut\",\"Delaware\",\"Florida\",\"Georgia\",\"Hawaii\",\"Idaho\",\"Illinois\",\n",
    "          \"Indiana\",\"Iowa\",\"Kansas\",\"Kentucky\",\"Louisiana\",\"Maine\",\"Maryland\",\n",
    "          \"Massachusetts\",\"Michigan\",\"Minnesota\",\"Mississippi\",\"Missouri\",\"Montana\",\n",
    "          \"Nebraska\",\"Nevada\",\"New Hampshire\",\"New Jersey\",\"New Mexico\",\"New York\",\n",
    "          \"North Carolina\",\"North Dakota\",\"Ohio\",\"Oklahoma\",\"Oregon\",\"Pennsylvania\",\n",
    "          \"Rhode Island\",\"South Carolina\",\"South Dakota\",\"Tennessee\",\"Texas\",\"Utah\",\n",
    "          \"Vermont\",\"Virginia\",\"Washington\",\"West Virginia\",\"Wisconsin\",\"Wyoming\"]\n",
    "\n",
    "data1 = data1[data1['state'].isin(states)]\n",
    "\n",
    "data1.shape"
   ]
  },
  {
   "cell_type": "code",
   "execution_count": 76,
   "id": "9db57f73-d9b0-4643-b9f5-b7a907b4d78b",
   "metadata": {},
   "outputs": [
    {
     "data": {
      "text/html": [
       "<div>\n",
       "<style scoped>\n",
       "    .dataframe tbody tr th:only-of-type {\n",
       "        vertical-align: middle;\n",
       "    }\n",
       "\n",
       "    .dataframe tbody tr th {\n",
       "        vertical-align: top;\n",
       "    }\n",
       "\n",
       "    .dataframe thead th {\n",
       "        text-align: right;\n",
       "    }\n",
       "</style>\n",
       "<table border=\"1\" class=\"dataframe\">\n",
       "  <thead>\n",
       "    <tr style=\"text-align: right;\">\n",
       "      <th></th>\n",
       "      <th>user_location</th>\n",
       "      <th>city</th>\n",
       "      <th>state</th>\n",
       "    </tr>\n",
       "  </thead>\n",
       "  <tbody>\n",
       "    <tr>\n",
       "      <th>0</th>\n",
       "      <td>Holmdel, NJ</td>\n",
       "      <td>Holmdel</td>\n",
       "      <td>NJ</td>\n",
       "    </tr>\n",
       "    <tr>\n",
       "      <th>1</th>\n",
       "      <td>Miami, FL</td>\n",
       "      <td>Miami</td>\n",
       "      <td>FL</td>\n",
       "    </tr>\n",
       "    <tr>\n",
       "      <th>13</th>\n",
       "      <td>Monterey County, CA, USA</td>\n",
       "      <td>Monterey County</td>\n",
       "      <td>CA</td>\n",
       "    </tr>\n",
       "    <tr>\n",
       "      <th>29</th>\n",
       "      <td>Spokane Valley, WA</td>\n",
       "      <td>Spokane Valley</td>\n",
       "      <td>WA</td>\n",
       "    </tr>\n",
       "    <tr>\n",
       "      <th>45</th>\n",
       "      <td>Miami, FL</td>\n",
       "      <td>Miami</td>\n",
       "      <td>FL</td>\n",
       "    </tr>\n",
       "    <tr>\n",
       "      <th>...</th>\n",
       "      <td>...</td>\n",
       "      <td>...</td>\n",
       "      <td>...</td>\n",
       "    </tr>\n",
       "    <tr>\n",
       "      <th>1033537</th>\n",
       "      <td>Longmont, CO</td>\n",
       "      <td>Longmont</td>\n",
       "      <td>CO</td>\n",
       "    </tr>\n",
       "    <tr>\n",
       "      <th>1033544</th>\n",
       "      <td>Longmont, CO</td>\n",
       "      <td>Longmont</td>\n",
       "      <td>CO</td>\n",
       "    </tr>\n",
       "    <tr>\n",
       "      <th>1033548</th>\n",
       "      <td>Overland Park, KS</td>\n",
       "      <td>Overland Park</td>\n",
       "      <td>KS</td>\n",
       "    </tr>\n",
       "    <tr>\n",
       "      <th>1033551</th>\n",
       "      <td>Longmont, CO</td>\n",
       "      <td>Longmont</td>\n",
       "      <td>CO</td>\n",
       "    </tr>\n",
       "    <tr>\n",
       "      <th>1033554</th>\n",
       "      <td>Longmont, CO</td>\n",
       "      <td>Longmont</td>\n",
       "      <td>CO</td>\n",
       "    </tr>\n",
       "  </tbody>\n",
       "</table>\n",
       "<p>133082 rows × 3 columns</p>\n",
       "</div>"
      ],
      "text/plain": [
       "                    user_location             city state\n",
       "0                     Holmdel, NJ          Holmdel    NJ\n",
       "1                       Miami, FL            Miami    FL\n",
       "13       Monterey County, CA, USA  Monterey County    CA\n",
       "29             Spokane Valley, WA   Spokane Valley    WA\n",
       "45                      Miami, FL            Miami    FL\n",
       "...                           ...              ...   ...\n",
       "1033537              Longmont, CO         Longmont    CO\n",
       "1033544              Longmont, CO         Longmont    CO\n",
       "1033548         Overland Park, KS    Overland Park    KS\n",
       "1033551              Longmont, CO         Longmont    CO\n",
       "1033554              Longmont, CO         Longmont    CO\n",
       "\n",
       "[133082 rows x 3 columns]"
      ]
     },
     "execution_count": 76,
     "metadata": {},
     "output_type": "execute_result"
    }
   ],
   "source": [
    "data1[['user_location', 'city', 'state']]"
   ]
  },
  {
   "cell_type": "code",
   "execution_count": 77,
   "id": "888901de-4a02-4022-be47-e5cfd7761044",
   "metadata": {},
   "outputs": [
    {
     "data": {
      "text/html": [
       "<div>\n",
       "<style scoped>\n",
       "    .dataframe tbody tr th:only-of-type {\n",
       "        vertical-align: middle;\n",
       "    }\n",
       "\n",
       "    .dataframe tbody tr th {\n",
       "        vertical-align: top;\n",
       "    }\n",
       "\n",
       "    .dataframe thead th {\n",
       "        text-align: right;\n",
       "    }\n",
       "</style>\n",
       "<table border=\"1\" class=\"dataframe\">\n",
       "  <thead>\n",
       "    <tr style=\"text-align: right;\">\n",
       "      <th></th>\n",
       "      <th>city</th>\n",
       "      <th>state</th>\n",
       "    </tr>\n",
       "  </thead>\n",
       "  <tbody>\n",
       "    <tr>\n",
       "      <th>112</th>\n",
       "      <td>Morogoro</td>\n",
       "      <td>Tanzania</td>\n",
       "    </tr>\n",
       "    <tr>\n",
       "      <th>179</th>\n",
       "      <td>Twentynine Palms</td>\n",
       "      <td>CA</td>\n",
       "    </tr>\n",
       "    <tr>\n",
       "      <th>231</th>\n",
       "      <td>Aiton</td>\n",
       "      <td>France</td>\n",
       "    </tr>\n",
       "    <tr>\n",
       "      <th>241</th>\n",
       "      <td>Salt Lake City</td>\n",
       "      <td>UT</td>\n",
       "    </tr>\n",
       "    <tr>\n",
       "      <th>311</th>\n",
       "      <td>New Orleans</td>\n",
       "      <td>LA</td>\n",
       "    </tr>\n",
       "    <tr>\n",
       "      <th>...</th>\n",
       "      <td>...</td>\n",
       "      <td>...</td>\n",
       "    </tr>\n",
       "    <tr>\n",
       "      <th>1033267</th>\n",
       "      <td>Lehigh Acres</td>\n",
       "      <td>FL</td>\n",
       "    </tr>\n",
       "    <tr>\n",
       "      <th>1033308</th>\n",
       "      <td>Winnipeg</td>\n",
       "      <td>Manitoba</td>\n",
       "    </tr>\n",
       "    <tr>\n",
       "      <th>1033359</th>\n",
       "      <td>Charlotte</td>\n",
       "      <td>NC</td>\n",
       "    </tr>\n",
       "    <tr>\n",
       "      <th>1033510</th>\n",
       "      <td>Los Angeles</td>\n",
       "      <td>CA</td>\n",
       "    </tr>\n",
       "    <tr>\n",
       "      <th>1033515</th>\n",
       "      <td>Pennsylvania</td>\n",
       "      <td>USA</td>\n",
       "    </tr>\n",
       "  </tbody>\n",
       "</table>\n",
       "<p>283970 rows × 2 columns</p>\n",
       "</div>"
      ],
      "text/plain": [
       "                     city      state\n",
       "112              Morogoro   Tanzania\n",
       "179      Twentynine Palms         CA\n",
       "231                 Aiton     France\n",
       "241        Salt Lake City         UT\n",
       "311           New Orleans         LA\n",
       "...                   ...        ...\n",
       "1033267      Lehigh Acres         FL\n",
       "1033308          Winnipeg   Manitoba\n",
       "1033359         Charlotte         NC\n",
       "1033510       Los Angeles         CA\n",
       "1033515      Pennsylvania        USA\n",
       "\n",
       "[283970 rows x 2 columns]"
      ]
     },
     "execution_count": 77,
     "metadata": {},
     "output_type": "execute_result"
    }
   ],
   "source": [
    "# Process 'place' variable to separate it into city and state\n",
    "\n",
    "data2 = df.dropna(how='any', subset=['place'])\n",
    "data2 = data2[data2[\"place\"].str.contains(\",\")]\n",
    "place = data2['place'].str.split(',', expand = True).iloc[:,[0,1]]\n",
    "place.columns = ['city','state']\n",
    "place"
   ]
  },
  {
   "cell_type": "code",
   "execution_count": 78,
   "id": "c470715b-201e-4352-a907-9c0bd621daa6",
   "metadata": {},
   "outputs": [],
   "source": [
    "# Add the two new columns back into the dataframe\n",
    "\n",
    "data2 = pd.concat([data2, place],axis = 1, join = 'outer', \n",
    "                 ignore_index=False, sort=False)\n",
    "\n",
    "# Strip the new columns of any spaces\n",
    "\n",
    "data2.state = data2.state.str.strip()\n",
    "data2.city = data2.city.str.strip()"
   ]
  },
  {
   "cell_type": "code",
   "execution_count": 79,
   "id": "fb17a3ad-5df8-4474-bb3c-4f23c13c60ce",
   "metadata": {},
   "outputs": [
    {
     "data": {
      "text/plain": [
       "(129754, 10)"
      ]
     },
     "execution_count": 79,
     "metadata": {},
     "output_type": "execute_result"
    }
   ],
   "source": [
    "# Filter dataframe to only rows that have a US state abbreviation\n",
    "\n",
    "data2 = data2[data2['state'].isin(states)]\n",
    "\n",
    "data2.shape"
   ]
  },
  {
   "cell_type": "code",
   "execution_count": 81,
   "id": "a2c4cd75-b7bd-46dc-83b0-3822cef1e750",
   "metadata": {},
   "outputs": [
    {
     "data": {
      "text/plain": [
       "(229795, 10)"
      ]
     },
     "execution_count": 81,
     "metadata": {},
     "output_type": "execute_result"
    }
   ],
   "source": [
    "# Concatenate the three datasets\n",
    "\n",
    "datas = [data1, data2]\n",
    "data_final = pd.concat(datas).drop_duplicates().reset_index(drop=True)\n",
    "data_final.shape"
   ]
  },
  {
   "cell_type": "code",
   "execution_count": 82,
   "id": "93c3a368-cadf-4743-8348-9185a0659170",
   "metadata": {},
   "outputs": [],
   "source": [
    "# USA State abbreviations to make everything in state variable 2-letter\n",
    "\n",
    "us_state_to_abbrev = {\n",
    "    \"Alabama\": \"AL\",\n",
    "    \"Alaska\": \"AK\",\n",
    "    \"Arizona\": \"AZ\",\n",
    "    \"Arkansas\": \"AR\",\n",
    "    \"California\": \"CA\",\n",
    "    \"Colorado\": \"CO\",\n",
    "    \"Connecticut\": \"CT\",\n",
    "    \"Delaware\": \"DE\",\n",
    "    \"Florida\": \"FL\",\n",
    "    \"Georgia\": \"GA\",\n",
    "    \"Hawaii\": \"HI\",\n",
    "    \"Idaho\": \"ID\",\n",
    "    \"Illinois\": \"IL\",\n",
    "    \"Indiana\": \"IN\",\n",
    "    \"Iowa\": \"IA\",\n",
    "    \"Kansas\": \"KS\",\n",
    "    \"Kentucky\": \"KY\",\n",
    "    \"Louisiana\": \"LA\",\n",
    "    \"Maine\": \"ME\",\n",
    "    \"Maryland\": \"MD\",\n",
    "    \"Massachusetts\": \"MA\",\n",
    "    \"Michigan\": \"MI\",\n",
    "    \"Minnesota\": \"MN\",\n",
    "    \"Mississippi\": \"MS\",\n",
    "    \"Missouri\": \"MO\",\n",
    "    \"Montana\": \"MT\",\n",
    "    \"Nebraska\": \"NE\",\n",
    "    \"Nevada\": \"NV\",\n",
    "    \"New Hampshire\": \"NH\",\n",
    "    \"New Jersey\": \"NJ\",\n",
    "    \"New Mexico\": \"NM\",\n",
    "    \"New York\": \"NY\",\n",
    "    \"North Carolina\": \"NC\",\n",
    "    \"North Dakota\": \"ND\",\n",
    "    \"Ohio\": \"OH\",\n",
    "    \"Oklahoma\": \"OK\",\n",
    "    \"Oregon\": \"OR\",\n",
    "    \"Pennsylvania\": \"PA\",\n",
    "    \"Rhode Island\": \"RI\",\n",
    "    \"South Carolina\": \"SC\",\n",
    "    \"South Dakota\": \"SD\",\n",
    "    \"Tennessee\": \"TN\",\n",
    "    \"Texas\": \"TX\",\n",
    "    \"Utah\": \"UT\",\n",
    "    \"Vermont\": \"VT\",\n",
    "    \"Virginia\": \"VA\",\n",
    "    \"Washington\": \"WA\",\n",
    "    \"West Virginia\": \"WV\",\n",
    "    \"Wisconsin\": \"WI\",\n",
    "    \"Wyoming\": \"WY\",\n",
    "    \"District of Columbia\": \"DC\",\n",
    "    \"American Samoa\": \"AS\",\n",
    "    \"Guam\": \"GU\",\n",
    "    \"Northern Mariana Islands\": \"MP\",\n",
    "    \"Puerto Rico\": \"PR\",\n",
    "    \"United States Minor Outlying Islands\": \"UM\",\n",
    "    \"U.S. Virgin Islands\": \"VI\",\n",
    "}\n",
    "\n",
    "# invert the dictionary\n",
    "# abbrev_to_us_state = dict(map(reversed, us_state_to_abbrev.items()))"
   ]
  },
  {
   "cell_type": "code",
   "execution_count": 83,
   "id": "caaa48d3-56e0-4c7a-bdfb-07b2ca42d527",
   "metadata": {},
   "outputs": [
    {
     "data": {
      "text/plain": [
       "(229795, 10)"
      ]
     },
     "execution_count": 83,
     "metadata": {},
     "output_type": "execute_result"
    }
   ],
   "source": [
    "#Map a dictionary of abbreviations to the dataframe\n",
    "data_final['state'] = data_final['state'].map(us_state_to_abbrev).fillna(data_final['state'])\n",
    "data_final.shape"
   ]
  },
  {
   "cell_type": "code",
   "execution_count": 84,
   "id": "2647956a-5371-4df3-a82e-bed6768d6907",
   "metadata": {},
   "outputs": [
    {
     "name": "stdout",
     "output_type": "stream",
     "text": [
      "<class 'pandas.core.frame.DataFrame'>\n",
      "RangeIndex: 229795 entries, 0 to 229794\n",
      "Data columns (total 10 columns):\n",
      " #   Column          Non-Null Count   Dtype \n",
      "---  ------          --------------   ----- \n",
      " 0   hashtags        112176 non-null  object\n",
      " 1   favorite_count  229795 non-null  int64 \n",
      " 2   id              229795 non-null  int64 \n",
      " 3   lang            229795 non-null  object\n",
      " 4   place           165768 non-null  object\n",
      " 5   retweet_count   229795 non-null  int64 \n",
      " 6   text            229795 non-null  object\n",
      " 7   user_location   214065 non-null  object\n",
      " 8   city            229795 non-null  object\n",
      " 9   state           229795 non-null  object\n",
      "dtypes: int64(3), object(7)\n",
      "memory usage: 17.5+ MB\n"
     ]
    }
   ],
   "source": [
    "data_final.info()"
   ]
  },
  {
   "cell_type": "code",
   "execution_count": 85,
   "id": "fda70f90-61a2-40e6-89c9-9fe83afdb552",
   "metadata": {},
   "outputs": [],
   "source": [
    "data_final.to_pickle(\"usa_tweets.pkl\")"
   ]
  },
  {
   "cell_type": "markdown",
   "id": "f106e4fb-8d2c-43c2-94b6-3425ef819a16",
   "metadata": {
    "jp-MarkdownHeadingCollapsed": true,
    "tags": []
   },
   "source": [
    "## Creating Training/Test Dataset"
   ]
  },
  {
   "cell_type": "code",
   "execution_count": 86,
   "id": "007a7356-a546-4755-b522-57113793db30",
   "metadata": {},
   "outputs": [
    {
     "data": {
      "text/plain": [
       "(716046, 8)"
      ]
     },
     "execution_count": 86,
     "metadata": {},
     "output_type": "execute_result"
    }
   ],
   "source": [
    "# Drop NA's in hashtags column\n",
    "\n",
    "df = df.dropna(how='any', subset=['hashtags'])\n",
    "df.shape"
   ]
  },
  {
   "cell_type": "code",
   "execution_count": 87,
   "id": "004df9f8-8cca-4a79-a0aa-da32b1cc8e88",
   "metadata": {},
   "outputs": [
    {
     "name": "stdout",
     "output_type": "stream",
     "text": [
      "<class 'pandas.core.frame.DataFrame'>\n",
      "Int64Index: 607346 entries, 2 to 1033559\n",
      "Data columns (total 8 columns):\n",
      " #   Column          Non-Null Count   Dtype \n",
      "---  ------          --------------   ----- \n",
      " 0   hashtags        607346 non-null  object\n",
      " 1   favorite_count  607346 non-null  int64 \n",
      " 2   id              607346 non-null  int64 \n",
      " 3   lang            607346 non-null  object\n",
      " 4   place           69763 non-null   object\n",
      " 5   retweet_count   607346 non-null  int64 \n",
      " 6   text            607346 non-null  object\n",
      " 7   user_location   529331 non-null  object\n",
      "dtypes: int64(3), object(5)\n",
      "memory usage: 41.7+ MB\n"
     ]
    }
   ],
   "source": [
    "# Drop any tweets that appear in USA tweets dataframe\n",
    "\n",
    "condition = df['id'].isin(data_final['id'])\n",
    "df.drop(df[condition].index, inplace = True)\n",
    "df.info()"
   ]
  },
  {
   "cell_type": "code",
   "execution_count": 88,
   "id": "5af72910-0f20-4b0f-b6b0-1efd7db3da18",
   "metadata": {},
   "outputs": [],
   "source": [
    "# Turn hashtags into lists with all lowercase\n",
    "\n",
    "df['hashtags'] = df['hashtags'].str.lower()\n",
    "df['hashtags'] = df.apply(lambda row:  row['hashtags'].replace(' ', ',').split(','), axis=1)"
   ]
  },
  {
   "cell_type": "code",
   "execution_count": 89,
   "id": "a55fbbd5-8a83-4948-9e9b-af14abed6b59",
   "metadata": {},
   "outputs": [
    {
     "name": "stdout",
     "output_type": "stream",
     "text": [
      "['climatechange', 'climateaction', 'environment', 'energy', 'actonclimate']\n"
     ]
    }
   ],
   "source": [
    "# Create a list of all hashtags\n",
    "\n",
    "hashtags_all = []\n",
    "for row in df['hashtags']:\n",
    "    for item in row:\n",
    "        hashtags_all.append(item.lower())\n",
    "        \n",
    "# see hashtag count and sort by frequency\n",
    "unique_hashtags = list(pd.Series(hashtags_all).value_counts().index)\n",
    "# view top 5 for reference\n",
    "print(unique_hashtags[:5])"
   ]
  },
  {
   "cell_type": "code",
   "execution_count": 90,
   "id": "e1139de7-951f-4e3c-b5bf-864c6c369f5b",
   "metadata": {},
   "outputs": [],
   "source": [
    "# Believer Hashtags\n",
    "believer_tags = ['climatechangeisreal', 'actonclimate', 'extinctionrebellion', 'climateemergency', \n",
    "                 'climateactionnow', 'capitalism', 'public_health', 'climateaction', 'humanityextinction',\n",
    "                 'activism', 'noplanetb', 'savetheplanet', 'climateaction']\n",
    "\n",
    "# Denier Hashtags\n",
    "denier_tags = ['climatechangeisfalse', 'climatechangenotreal', 'climatechangehoax', \n",
    "               'globalwarminghoax', 'tcot', 'ccot', 'tlot', 'pjnet', 'rednationrising', 'votered', \n",
    "               'libtard', 'libtards', 'maga', 'climatedeniers', 'climatehoax', 'globalcooling',\n",
    "              'climatechangescam', 'climatehysteria', 'globalwarmingisahoax', 'globalwarmingscam', 'globalcooling']"
   ]
  },
  {
   "cell_type": "code",
   "execution_count": 91,
   "id": "5488f3f5-43fc-46de-a73f-13a4b8710097",
   "metadata": {},
   "outputs": [],
   "source": [
    "# assign believer status to each row in the dataset\n",
    "believe_series = []\n",
    "\n",
    "for idx, row in df['hashtags'].iteritems():\n",
    "    # set a count for matching tags in row\n",
    "    believe = 0\n",
    "    deny = 0 \n",
    "    for tag in row:\n",
    "        if tag.lower() in denier_tags:\n",
    "            deny += 1\n",
    "        elif tag.lower() in believer_tags:\n",
    "            believe += 1\n",
    "    \n",
    "    # check that only one type of tag appears\n",
    "    if (believe > 0) and (deny == 0):\n",
    "        believe_series.append(1)\n",
    "    elif (believe == 0) and (deny > 0):\n",
    "        believe_series.append(0)\n",
    "    else: # <-- if no matching tag OR if both appear, label as unknown using nonetype \n",
    "        believe_series.append(None)"
   ]
  },
  {
   "cell_type": "code",
   "execution_count": 92,
   "id": "826b9bc3-ed73-498d-9a48-9fb0d57c9ee5",
   "metadata": {},
   "outputs": [
    {
     "data": {
      "text/plain": [
       "1.0    459406\n",
       "0.0     82438\n",
       "Name: believer, dtype: int64"
      ]
     },
     "execution_count": 92,
     "metadata": {},
     "output_type": "execute_result"
    }
   ],
   "source": [
    "# create column in dataframe for the believer_series\n",
    "\n",
    "df = df.assign(believer = believe_series)\n",
    "\n",
    "# Remove NA's\n",
    "\n",
    "df_believer_status = df.dropna(subset=['believer'])\n",
    "\n",
    "# subset dataframe to only include positive and negative cases\n",
    "\n",
    "df = df.dropna(subset = ['believer'])\n",
    "\n",
    "df['believer'].value_counts()"
   ]
  },
  {
   "cell_type": "code",
   "execution_count": null,
   "id": "56821744-dc73-4497-bd83-79b5338fb255",
   "metadata": {},
   "outputs": [],
   "source": [
    "# Turn believer column into target labels of 0 and 1\n",
    "\n",
    "df['believer'] = df['believer'].astype(int)\n",
    "df = df.rename(columns = {'believer':'target'})"
   ]
  },
  {
   "cell_type": "code",
   "execution_count": 94,
   "id": "b3b204e5-e05c-4da3-8ad1-37fc67dcf71b",
   "metadata": {},
   "outputs": [
    {
     "data": {
      "text/plain": [
       "1    459406\n",
       "0     82438\n",
       "Name: target, dtype: int64"
      ]
     },
     "execution_count": 94,
     "metadata": {},
     "output_type": "execute_result"
    }
   ],
   "source": [
    "df['target'].value_counts()"
   ]
  },
  {
   "cell_type": "code",
   "execution_count": 95,
   "id": "39175076-fc48-4b87-a8c9-bbf90d9593e9",
   "metadata": {},
   "outputs": [],
   "source": [
    "# Save file\n",
    "\n",
    "df.to_pickle(\"training_dataset.pkl\")"
   ]
  },
  {
   "cell_type": "code",
   "execution_count": null,
   "id": "308a6d5a-7b0d-453e-a22a-a460343e5ced",
   "metadata": {},
   "outputs": [],
   "source": []
  }
 ],
 "metadata": {
  "kernelspec": {
   "display_name": "Python 3 (ipykernel)",
   "language": "python",
   "name": "python3"
  },
  "language_info": {
   "codemirror_mode": {
    "name": "ipython",
    "version": 3
   },
   "file_extension": ".py",
   "mimetype": "text/x-python",
   "name": "python",
   "nbconvert_exporter": "python",
   "pygments_lexer": "ipython3",
   "version": "3.8.11"
  }
 },
 "nbformat": 4,
 "nbformat_minor": 5
}
