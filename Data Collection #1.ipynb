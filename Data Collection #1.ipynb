{
 "cells": [
  {
   "cell_type": "code",
   "execution_count": 1,
   "id": "a84cd513-bf99-42cc-87ab-63aed544785b",
   "metadata": {},
   "outputs": [],
   "source": [
    "# import libraries\n",
    "\n",
    "import os\n",
    "import pandas as pd\n",
    "from datetime import date\n",
    "import pickle"
   ]
  },
  {
   "cell_type": "markdown",
   "id": "8a97daa7-d16d-401d-b0e9-aecdb59c4741",
   "metadata": {
    "jp-MarkdownHeadingCollapsed": true,
    "tags": []
   },
   "source": [
    "## Using sunscrape to supplement denier tweets ##\n",
    "- Since 2019-06-01: 'climatechangeisfalse', 'climatechangenotreal', 'climatechangehoax', 'globalwarminghoax' (around 30,000, before hydrating), climatedeniers (6,000), climatehoax (68,000)\n",
    "- Since 2017-09-21 (missing hashtags): climatechangescam(1484), climatehysteria(11,000), globalwarmingisahoax (774), globalwarmingscam(600), globalcooling(10,000)\n",
    "- https://firstdraftnews.org/articles/climate-change-misinformation-conspiracy-memes/\n",
    "- https://awario.com/blog/climate-change-denial/\n"
   ]
  },
  {
   "cell_type": "code",
   "execution_count": 5,
   "id": "af76ec71-34c6-4f0f-a8c9-54ea4489da6b",
   "metadata": {},
   "outputs": [],
   "source": [
    "today = date.today()\n",
    "end_date = today"
   ]
  },
  {
   "cell_type": "code",
   "execution_count": 45,
   "id": "51fee33f-d368-442d-ae20-7f085f0f678e",
   "metadata": {},
   "outputs": [],
   "source": [
    "search_term = 'globalcooling'\n",
    "from_date = '2017-09-21'"
   ]
  },
  {
   "cell_type": "code",
   "execution_count": 46,
   "id": "f928ff2b-7be6-472a-960f-8ac7da779b37",
   "metadata": {},
   "outputs": [
    {
     "name": "stdout",
     "output_type": "stream",
     "text": [
      "Number Of Tweets : 10306\n"
     ]
    }
   ],
   "source": [
    "os.system(f\"snscrape --since {from_date} twitter-search '{search_term} until:{end_date}' > result-tweets.txt\")\n",
    "\n",
    "if os.stat(\"result-tweets.txt\").st_size == 0:\n",
    "    counter = 0\n",
    "else:\n",
    "    df = pd.read_csv('result-tweets.txt', names=['link'])\n",
    "    counter = df.size\n",
    "\n",
    "print('Number Of Tweets : '+ str(counter))"
   ]
  },
  {
   "cell_type": "code",
   "execution_count": 8,
   "id": "e11fdc18-5f5c-4609-b0d2-a393deb9e414",
   "metadata": {},
   "outputs": [],
   "source": [
    "climate_hoax = pd.read_csv('result-tweets.txt')"
   ]
  },
  {
   "cell_type": "code",
   "execution_count": 12,
   "id": "9eeed600-304d-407b-8659-9f962f1162b2",
   "metadata": {},
   "outputs": [],
   "source": [
    "climate_hoax.to_csv('climate_hoax.csv')"
   ]
  },
  {
   "cell_type": "code",
   "execution_count": 48,
   "id": "9f832d87-9e6e-4d24-b6d6-581180d190a1",
   "metadata": {},
   "outputs": [],
   "source": [
    "filenames = ['climate_false.txt', 'climate_not_real.txt', 'climatechangehoax.txt',\n",
    "            'climatechangescam.txt', 'climatedeniers.txt', 'climatehoax.txt',\n",
    "            'climatehysteria.txt', 'globalcooling.txt','globalwarminghoax.txt',\n",
    "            'globalwarmingisahoax.txt', 'globalwarmingscam.txt']\n",
    "\n",
    "with open('denier_supplements.txt', 'w') as outfile:\n",
    "    for fname in filenames:\n",
    "        with open(fname) as infile:\n",
    "            for line in infile:\n",
    "                outfile.write(line)"
   ]
  },
  {
   "cell_type": "code",
   "execution_count": 61,
   "id": "ef9fa5ff-7538-4754-bcbb-765848de1404",
   "metadata": {},
   "outputs": [
    {
     "data": {
      "text/html": [
       "<div>\n",
       "<style scoped>\n",
       "    .dataframe tbody tr th:only-of-type {\n",
       "        vertical-align: middle;\n",
       "    }\n",
       "\n",
       "    .dataframe tbody tr th {\n",
       "        vertical-align: top;\n",
       "    }\n",
       "\n",
       "    .dataframe thead th {\n",
       "        text-align: right;\n",
       "    }\n",
       "</style>\n",
       "<table border=\"1\" class=\"dataframe\">\n",
       "  <thead>\n",
       "    <tr style=\"text-align: right;\">\n",
       "      <th></th>\n",
       "      <th>0</th>\n",
       "    </tr>\n",
       "  </thead>\n",
       "  <tbody>\n",
       "    <tr>\n",
       "      <th>0</th>\n",
       "      <td>https://twitter.com/RClarkofNC/status/13315671...</td>\n",
       "    </tr>\n",
       "    <tr>\n",
       "      <th>1</th>\n",
       "      <td>https://twitter.com/baeareavibez/status/132707...</td>\n",
       "    </tr>\n",
       "    <tr>\n",
       "      <th>2</th>\n",
       "      <td>https://twitter.com/blessedpolish/status/13065...</td>\n",
       "    </tr>\n",
       "    <tr>\n",
       "      <th>3</th>\n",
       "      <td>https://twitter.com/Kringdom1/status/117585894...</td>\n",
       "    </tr>\n",
       "    <tr>\n",
       "      <th>4</th>\n",
       "      <td>https://twitter.com/20Fireblade13/status/11581...</td>\n",
       "    </tr>\n",
       "    <tr>\n",
       "      <th>...</th>\n",
       "      <td>...</td>\n",
       "    </tr>\n",
       "    <tr>\n",
       "      <th>127799</th>\n",
       "      <td>https://twitter.com/TeamTrumpUSA/status/918519...</td>\n",
       "    </tr>\n",
       "    <tr>\n",
       "      <th>127800</th>\n",
       "      <td>https://twitter.com/100monkeys/status/91811357...</td>\n",
       "    </tr>\n",
       "    <tr>\n",
       "      <th>127801</th>\n",
       "      <td>https://twitter.com/JohnInLongmont/status/9174...</td>\n",
       "    </tr>\n",
       "    <tr>\n",
       "      <th>127802</th>\n",
       "      <td>https://twitter.com/howardbrown7/status/917017...</td>\n",
       "    </tr>\n",
       "    <tr>\n",
       "      <th>127803</th>\n",
       "      <td>https://twitter.com/ChrisBr21634919/status/914...</td>\n",
       "    </tr>\n",
       "  </tbody>\n",
       "</table>\n",
       "<p>127804 rows × 1 columns</p>\n",
       "</div>"
      ],
      "text/plain": [
       "                                                        0\n",
       "0       https://twitter.com/RClarkofNC/status/13315671...\n",
       "1       https://twitter.com/baeareavibez/status/132707...\n",
       "2       https://twitter.com/blessedpolish/status/13065...\n",
       "3       https://twitter.com/Kringdom1/status/117585894...\n",
       "4       https://twitter.com/20Fireblade13/status/11581...\n",
       "...                                                   ...\n",
       "127799  https://twitter.com/TeamTrumpUSA/status/918519...\n",
       "127800  https://twitter.com/100monkeys/status/91811357...\n",
       "127801  https://twitter.com/JohnInLongmont/status/9174...\n",
       "127802  https://twitter.com/howardbrown7/status/917017...\n",
       "127803  https://twitter.com/ChrisBr21634919/status/914...\n",
       "\n",
       "[127804 rows x 1 columns]"
      ]
     },
     "execution_count": 61,
     "metadata": {},
     "output_type": "execute_result"
    }
   ],
   "source": [
    "data = pd.read_csv('denier_supplements.txt', header=None)\n",
    "data"
   ]
  },
  {
   "cell_type": "code",
   "execution_count": 62,
   "id": "66d8c1cb-dd2e-4f75-bbb6-990e464a7ef8",
   "metadata": {},
   "outputs": [
    {
     "data": {
      "text/html": [
       "<div>\n",
       "<style scoped>\n",
       "    .dataframe tbody tr th:only-of-type {\n",
       "        vertical-align: middle;\n",
       "    }\n",
       "\n",
       "    .dataframe tbody tr th {\n",
       "        vertical-align: top;\n",
       "    }\n",
       "\n",
       "    .dataframe thead th {\n",
       "        text-align: right;\n",
       "    }\n",
       "</style>\n",
       "<table border=\"1\" class=\"dataframe\">\n",
       "  <thead>\n",
       "    <tr style=\"text-align: right;\">\n",
       "      <th></th>\n",
       "      <th>url</th>\n",
       "    </tr>\n",
       "  </thead>\n",
       "  <tbody>\n",
       "    <tr>\n",
       "      <th>0</th>\n",
       "      <td>https://twitter.com/RClarkofNC/status/13315671...</td>\n",
       "    </tr>\n",
       "    <tr>\n",
       "      <th>1</th>\n",
       "      <td>https://twitter.com/baeareavibez/status/132707...</td>\n",
       "    </tr>\n",
       "    <tr>\n",
       "      <th>2</th>\n",
       "      <td>https://twitter.com/blessedpolish/status/13065...</td>\n",
       "    </tr>\n",
       "    <tr>\n",
       "      <th>3</th>\n",
       "      <td>https://twitter.com/Kringdom1/status/117585894...</td>\n",
       "    </tr>\n",
       "    <tr>\n",
       "      <th>4</th>\n",
       "      <td>https://twitter.com/20Fireblade13/status/11581...</td>\n",
       "    </tr>\n",
       "    <tr>\n",
       "      <th>...</th>\n",
       "      <td>...</td>\n",
       "    </tr>\n",
       "    <tr>\n",
       "      <th>127799</th>\n",
       "      <td>https://twitter.com/TeamTrumpUSA/status/918519...</td>\n",
       "    </tr>\n",
       "    <tr>\n",
       "      <th>127800</th>\n",
       "      <td>https://twitter.com/100monkeys/status/91811357...</td>\n",
       "    </tr>\n",
       "    <tr>\n",
       "      <th>127801</th>\n",
       "      <td>https://twitter.com/JohnInLongmont/status/9174...</td>\n",
       "    </tr>\n",
       "    <tr>\n",
       "      <th>127802</th>\n",
       "      <td>https://twitter.com/howardbrown7/status/917017...</td>\n",
       "    </tr>\n",
       "    <tr>\n",
       "      <th>127803</th>\n",
       "      <td>https://twitter.com/ChrisBr21634919/status/914...</td>\n",
       "    </tr>\n",
       "  </tbody>\n",
       "</table>\n",
       "<p>127804 rows × 1 columns</p>\n",
       "</div>"
      ],
      "text/plain": [
       "                                                      url\n",
       "0       https://twitter.com/RClarkofNC/status/13315671...\n",
       "1       https://twitter.com/baeareavibez/status/132707...\n",
       "2       https://twitter.com/blessedpolish/status/13065...\n",
       "3       https://twitter.com/Kringdom1/status/117585894...\n",
       "4       https://twitter.com/20Fireblade13/status/11581...\n",
       "...                                                   ...\n",
       "127799  https://twitter.com/TeamTrumpUSA/status/918519...\n",
       "127800  https://twitter.com/100monkeys/status/91811357...\n",
       "127801  https://twitter.com/JohnInLongmont/status/9174...\n",
       "127802  https://twitter.com/howardbrown7/status/917017...\n",
       "127803  https://twitter.com/ChrisBr21634919/status/914...\n",
       "\n",
       "[127804 rows x 1 columns]"
      ]
     },
     "execution_count": 62,
     "metadata": {},
     "output_type": "execute_result"
    }
   ],
   "source": [
    "data1 = data\n",
    "data1.columns = ['url']\n",
    "data1"
   ]
  },
  {
   "cell_type": "code",
   "execution_count": null,
   "id": "d9d249f1-a636-4304-8b9e-451731ebe4e1",
   "metadata": {},
   "outputs": [],
   "source": [
    ".iloc[:,[0,1]]"
   ]
  },
  {
   "cell_type": "code",
   "execution_count": 65,
   "id": "51f18279-a94f-43de-abd7-0c819cd9ac4d",
   "metadata": {},
   "outputs": [],
   "source": [
    "separated = data1['url'].str.split('/', expand = True)"
   ]
  },
  {
   "cell_type": "code",
   "execution_count": 67,
   "id": "d4ac54ca-6b49-4763-b963-3f434e97fb96",
   "metadata": {},
   "outputs": [],
   "source": [
    "separated.columns = ['one', 'two','three','four','five','six']"
   ]
  },
  {
   "cell_type": "code",
   "execution_count": 71,
   "id": "e64b4d70-efe1-4a50-8702-63b96ff6c440",
   "metadata": {},
   "outputs": [],
   "source": [
    "ids = separated['six']"
   ]
  },
  {
   "cell_type": "code",
   "execution_count": 74,
   "id": "6233b2dc-66c9-4e36-875d-fdc4052a42a4",
   "metadata": {},
   "outputs": [],
   "source": [
    "ids = ids.drop_duplicates()"
   ]
  },
  {
   "cell_type": "code",
   "execution_count": 75,
   "id": "f0583e46-04fd-4b3f-a271-5db38fdc3e18",
   "metadata": {},
   "outputs": [
    {
     "data": {
      "text/plain": [
       "0         1331567111735533569\n",
       "1         1327071840209051648\n",
       "2         1306503581709807616\n",
       "3         1175858943668740098\n",
       "4         1158157717439209475\n",
       "                 ...         \n",
       "127799     918519356253986817\n",
       "127800     918113571095089153\n",
       "127801     917409761494274048\n",
       "127802     917017030330671104\n",
       "127803     914918334080020480\n",
       "Name: six, Length: 124753, dtype: object"
      ]
     },
     "execution_count": 75,
     "metadata": {},
     "output_type": "execute_result"
    }
   ],
   "source": [
    "ids"
   ]
  },
  {
   "cell_type": "code",
   "execution_count": 76,
   "id": "8e3171d8-8186-47f5-a901-1225569d7419",
   "metadata": {},
   "outputs": [],
   "source": [
    "ids.to_csv('denier_ids.txt', header=False, index=False, sep='\\t')"
   ]
  },
  {
   "cell_type": "markdown",
   "id": "6966832d-2603-48ce-ac6c-d313370091e4",
   "metadata": {},
   "source": [
    "## Building training and prediction datasets"
   ]
  },
  {
   "cell_type": "code",
   "execution_count": 2,
   "id": "cfe3e8f7-b792-40ac-ba1f-ac6e80b6bca1",
   "metadata": {},
   "outputs": [],
   "source": [
    "pd.options.mode.chained_assignment = None\n",
    "pd.set_option('display.max_columns', None)"
   ]
  },
  {
   "cell_type": "code",
   "execution_count": 4,
   "id": "5739b2ce-b8d9-4e78-8cb2-ff08c451a32b",
   "metadata": {},
   "outputs": [
    {
     "name": "stdout",
     "output_type": "stream",
     "text": [
      "hashtags shape: (587817, 35)\n",
      "geotags shape: (321316, 35)\n",
      "denier_supp shape: (124740, 35)\n"
     ]
    }
   ],
   "source": [
    "# Import 2017-2019 dataset with climate believer/denier hashtags\n",
    "\n",
    "hashtags = pd.read_csv('../datasets/tweets_hashtags.csv', low_memory=False)\n",
    "print('hashtags shape:',hashtags.shape)\n",
    "\n",
    "# Import 2017-2019 dataset with geotags\n",
    "\n",
    "geotags = pd.read_csv('../datasets/climate_tweet_ids.csv',low_memory=False)\n",
    "print('geotags shape:',geotags.shape)\n",
    "\n",
    "# Import denier supplement dataset\n",
    "\n",
    "denier_supp = pd.read_csv('../datasets/denier_supp.csv',low_memory=False)\n",
    "print('denier_supp shape:',denier_supp.shape)"
   ]
  },
  {
   "cell_type": "code",
   "execution_count": 5,
   "id": "b7368b5b-3140-461e-bd1b-e3e5a3e74943",
   "metadata": {},
   "outputs": [
    {
     "name": "stdout",
     "output_type": "stream",
     "text": [
      "All have the same columns\n"
     ]
    }
   ],
   "source": [
    "dfs = [hashtags, geotags, denier_supp]\n",
    "\n",
    "if all([set(dfs[0].columns) == set(df.columns) for df in dfs]):\n",
    "    print('All have the same columns')\n",
    "else:\n",
    "    print('Some have different columns')"
   ]
  },
  {
   "cell_type": "code",
   "execution_count": 6,
   "id": "be812b68-93c3-4bd5-a1c0-07d441ae5fca",
   "metadata": {},
   "outputs": [
    {
     "data": {
      "text/plain": [
       "(1033560, 35)"
      ]
     },
     "execution_count": 6,
     "metadata": {},
     "output_type": "execute_result"
    }
   ],
   "source": [
    "# Concatenate the three datasets\n",
    "\n",
    "dfs = [hashtags, geotags, denier_supp]\n",
    "df = pd.concat(dfs, axis = 0).drop_duplicates().reset_index(drop=True)\n",
    "df.shape"
   ]
  },
  {
   "cell_type": "code",
   "execution_count": 7,
   "id": "dd8357e0-01f3-4cee-90d6-f9af76308d35",
   "metadata": {},
   "outputs": [],
   "source": [
    "cols = [0,1,3,4,7,8,9,12,13,15,16,17]\n",
    "df.drop(df.columns[cols], axis=1, inplace=True)\n",
    "\n",
    "\n",
    "df = df.drop(df.loc[:,'tweet_url':'user_listed_count'].columns, axis = 1)\n",
    "df = df.drop(df.loc[:, 'user_name':'user_verified'].columns, axis = 1)"
   ]
  },
  {
   "cell_type": "code",
   "execution_count": 8,
   "id": "b2fb7404-86f6-4780-98f0-69c39e354e8e",
   "metadata": {},
   "outputs": [
    {
     "name": "stdout",
     "output_type": "stream",
     "text": [
      "<class 'pandas.core.frame.DataFrame'>\n",
      "RangeIndex: 1033560 entries, 0 to 1033559\n",
      "Data columns (total 8 columns):\n",
      " #   Column          Non-Null Count    Dtype \n",
      "---  ------          --------------    ----- \n",
      " 0   hashtags        801703 non-null   object\n",
      " 1   favorite_count  1033560 non-null  int64 \n",
      " 2   id              1033560 non-null  int64 \n",
      " 3   lang            1033560 non-null  object\n",
      " 4   place           332208 non-null   object\n",
      " 5   retweet_count   1033560 non-null  int64 \n",
      " 6   text            1033560 non-null  object\n",
      " 7   user_location   896589 non-null   object\n",
      "dtypes: int64(3), object(5)\n",
      "memory usage: 63.1+ MB\n"
     ]
    }
   ],
   "source": [
    "df.info()"
   ]
  },
  {
   "cell_type": "code",
   "execution_count": 10,
   "id": "4ae75054-4cc3-4d86-ab68-95a8af66e88b",
   "metadata": {},
   "outputs": [
    {
     "data": {
      "text/html": [
       "<div>\n",
       "<style scoped>\n",
       "    .dataframe tbody tr th:only-of-type {\n",
       "        vertical-align: middle;\n",
       "    }\n",
       "\n",
       "    .dataframe tbody tr th {\n",
       "        vertical-align: top;\n",
       "    }\n",
       "\n",
       "    .dataframe thead th {\n",
       "        text-align: right;\n",
       "    }\n",
       "</style>\n",
       "<table border=\"1\" class=\"dataframe\">\n",
       "  <thead>\n",
       "    <tr style=\"text-align: right;\">\n",
       "      <th></th>\n",
       "      <th>hashtags</th>\n",
       "      <th>favorite_count</th>\n",
       "      <th>id</th>\n",
       "      <th>lang</th>\n",
       "      <th>place</th>\n",
       "      <th>retweet_count</th>\n",
       "      <th>text</th>\n",
       "      <th>user_location</th>\n",
       "    </tr>\n",
       "  </thead>\n",
       "  <tbody>\n",
       "    <tr>\n",
       "      <th>0</th>\n",
       "      <td>climatechange climateaction sustainability fb</td>\n",
       "      <td>0</td>\n",
       "      <td>930123883520413697</td>\n",
       "      <td>en</td>\n",
       "      <td>NaN</td>\n",
       "      <td>0</td>\n",
       "      <td>We are not going to get too many more warnings...</td>\n",
       "      <td>Holmdel, NJ</td>\n",
       "    </tr>\n",
       "    <tr>\n",
       "      <th>1</th>\n",
       "      <td>juice reuse reduce actonclimate</td>\n",
       "      <td>1</td>\n",
       "      <td>965587085993365505</td>\n",
       "      <td>en</td>\n",
       "      <td>NaN</td>\n",
       "      <td>1</td>\n",
       "      <td>I'll be juicing my left over carrots tonight t...</td>\n",
       "      <td>Miami, FL</td>\n",
       "    </tr>\n",
       "    <tr>\n",
       "      <th>2</th>\n",
       "      <td>Hack4Climate Blockchain ClimateAction ClimateC...</td>\n",
       "      <td>4</td>\n",
       "      <td>928605716159574016</td>\n",
       "      <td>en</td>\n",
       "      <td>NaN</td>\n",
       "      <td>1</td>\n",
       "      <td>In less than 3 days we will #Hack4Climate at @...</td>\n",
       "      <td>Zürich, Schweiz</td>\n",
       "    </tr>\n",
       "    <tr>\n",
       "      <th>3</th>\n",
       "      <td>climatechange climateaction</td>\n",
       "      <td>1</td>\n",
       "      <td>954288658361802752</td>\n",
       "      <td>en</td>\n",
       "      <td>NaN</td>\n",
       "      <td>1</td>\n",
       "      <td>\"The best way to predict the future is to crea...</td>\n",
       "      <td>Tampere, Finland</td>\n",
       "    </tr>\n",
       "    <tr>\n",
       "      <th>4</th>\n",
       "      <td>protectwhatyoulove climatechangeisreal AnimalR...</td>\n",
       "      <td>0</td>\n",
       "      <td>1012691887440814086</td>\n",
       "      <td>en</td>\n",
       "      <td>NaN</td>\n",
       "      <td>0</td>\n",
       "      <td>Accepting the world for the way it is just mig...</td>\n",
       "      <td>NaN</td>\n",
       "    </tr>\n",
       "  </tbody>\n",
       "</table>\n",
       "</div>"
      ],
      "text/plain": [
       "                                            hashtags  favorite_count  \\\n",
       "0      climatechange climateaction sustainability fb               0   \n",
       "1                    juice reuse reduce actonclimate               1   \n",
       "2  Hack4Climate Blockchain ClimateAction ClimateC...               4   \n",
       "3                        climatechange climateaction               1   \n",
       "4  protectwhatyoulove climatechangeisreal AnimalR...               0   \n",
       "\n",
       "                    id lang place  retweet_count  \\\n",
       "0   930123883520413697   en   NaN              0   \n",
       "1   965587085993365505   en   NaN              1   \n",
       "2   928605716159574016   en   NaN              1   \n",
       "3   954288658361802752   en   NaN              1   \n",
       "4  1012691887440814086   en   NaN              0   \n",
       "\n",
       "                                                text     user_location  \n",
       "0  We are not going to get too many more warnings...       Holmdel, NJ  \n",
       "1  I'll be juicing my left over carrots tonight t...         Miami, FL  \n",
       "2  In less than 3 days we will #Hack4Climate at @...   Zürich, Schweiz  \n",
       "3  \"The best way to predict the future is to crea...  Tampere, Finland  \n",
       "4  Accepting the world for the way it is just mig...               NaN  "
      ]
     },
     "execution_count": 10,
     "metadata": {},
     "output_type": "execute_result"
    }
   ],
   "source": [
    "df.head()"
   ]
  },
  {
   "cell_type": "code",
   "execution_count": 11,
   "id": "0fa05d30-3bc6-46e1-84ba-d49b501895d5",
   "metadata": {},
   "outputs": [
    {
     "data": {
      "text/plain": [
       "(927487, 8)"
      ]
     },
     "execution_count": 11,
     "metadata": {},
     "output_type": "execute_result"
    }
   ],
   "source": [
    "# Drop non-English tweets\n",
    "\n",
    "indexes = df[ df['lang'] != 'en' ].index\n",
    "df.drop(indexes, inplace = True)\n",
    "  \n",
    "df.shape"
   ]
  },
  {
   "cell_type": "code",
   "execution_count": 12,
   "id": "9a4d9792-2ee3-4ce4-833d-81b737dac84d",
   "metadata": {},
   "outputs": [],
   "source": [
    "# save full dataset\n",
    "\n",
    "df.to_pickle(\"../data/full_data.pkl\")"
   ]
  }
 ],
 "metadata": {
  "kernelspec": {
   "display_name": "Python 3 (ipykernel)",
   "language": "python",
   "name": "python3"
  },
  "language_info": {
   "codemirror_mode": {
    "name": "ipython",
    "version": 3
   },
   "file_extension": ".py",
   "mimetype": "text/x-python",
   "name": "python",
   "nbconvert_exporter": "python",
   "pygments_lexer": "ipython3",
   "version": "3.8.11"
  }
 },
 "nbformat": 4,
 "nbformat_minor": 5
}
