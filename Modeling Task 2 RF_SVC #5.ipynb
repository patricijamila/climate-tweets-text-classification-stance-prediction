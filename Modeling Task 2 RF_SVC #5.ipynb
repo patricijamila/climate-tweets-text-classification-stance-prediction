{
 "cells": [
  {
   "cell_type": "markdown",
   "id": "515c524f-805a-4108-b0ee-26d8140df745",
   "metadata": {},
   "source": [
    "## Importing Libraries & Data"
   ]
  },
  {
   "cell_type": "code",
   "execution_count": 1,
   "id": "a7118b5b-725f-430c-accf-1fe70bb721b1",
   "metadata": {},
   "outputs": [],
   "source": [
    "# import packages\n",
    "\n",
    "import pandas as pd\n",
    "import numpy as np\n",
    "from matplotlib import pyplot as plt\n",
    "import pickle\n",
    "from sklearn.model_selection import train_test_split\n",
    "from sklearn.ensemble import RandomForestClassifier\n",
    "from sklearn.metrics import accuracy_score, confusion_matrix, precision_score, recall_score, roc_auc_score, roc_curve, f1_score\n",
    "from sklearn.compose import make_column_transformer\n",
    "from sklearn.pipeline import make_pipeline\n",
    "from sklearn.metrics import classification_report\n",
    "from imblearn.over_sampling import RandomOverSampler\n",
    "from imblearn.under_sampling import RandomUnderSampler\n",
    "from collections import Counter\n",
    "from sklearn.svm import SVC  \n",
    "from sklearn.model_selection import GridSearchCV\n",
    "from sklearn import preprocessing\n",
    "import warnings\n",
    "warnings.simplefilter(action='ignore', category=FutureWarning)\n",
    "import matplotlib.pyplot as plt\n",
    "%matplotlib inline"
   ]
  },
  {
   "cell_type": "code",
   "execution_count": 2,
   "id": "d4209b6c-d1ef-4c6c-bc15-c825f32148ce",
   "metadata": {},
   "outputs": [],
   "source": [
    "# import data\n",
    "\n",
    "df = pd.read_pickle(\"../data/usa_classified_tweets.pkl\")"
   ]
  },
  {
   "cell_type": "code",
   "execution_count": 3,
   "id": "a28f5591-31ec-4b7a-be43-1b2220468dcc",
   "metadata": {},
   "outputs": [
    {
     "name": "stdout",
     "output_type": "stream",
     "text": [
      "<class 'pandas.core.frame.DataFrame'>\n",
      "RangeIndex: 150798 entries, 0 to 150797\n",
      "Data columns (total 18 columns):\n",
      " #   Column               Non-Null Count   Dtype  \n",
      "---  ------               --------------   -----  \n",
      " 0   id                   150798 non-null  int64  \n",
      " 1   text                 150798 non-null  object \n",
      " 2   location             150798 non-null  object \n",
      " 3   total_pop            150798 non-null  float64\n",
      " 4   women                150798 non-null  float64\n",
      " 5   hispanic             150798 non-null  float64\n",
      " 6   white                150798 non-null  float64\n",
      " 7   black                150798 non-null  float64\n",
      " 8   native               150798 non-null  float64\n",
      " 9   asian                150798 non-null  float64\n",
      " 10  pacific              150798 non-null  float64\n",
      " 11  income_per_cap       150798 non-null  float64\n",
      " 12  poverty              150798 non-null  float64\n",
      " 13  unemployment         150798 non-null  float64\n",
      " 14  democrats            150798 non-null  float64\n",
      " 15  republicans          150798 non-null  float64\n",
      " 16  voting_age_citizens  150798 non-null  float64\n",
      " 17  believer_denier      150798 non-null  int64  \n",
      "dtypes: float64(14), int64(2), object(2)\n",
      "memory usage: 20.7+ MB\n"
     ]
    }
   ],
   "source": [
    "df.info()"
   ]
  },
  {
   "cell_type": "code",
   "execution_count": 4,
   "id": "ca5dcba1-6b35-41cc-b661-703160e00602",
   "metadata": {},
   "outputs": [],
   "source": [
    "# drop unnecessary variables\n",
    "\n",
    "df = df.drop(columns=['id', 'text', 'location', 'total_pop', 'republicans'])"
   ]
  },
  {
   "cell_type": "code",
   "execution_count": 5,
   "id": "a07c7f9a-0f96-4728-8f35-0949aae26261",
   "metadata": {},
   "outputs": [
    {
     "name": "stdout",
     "output_type": "stream",
     "text": [
      "<class 'pandas.core.frame.DataFrame'>\n",
      "RangeIndex: 150798 entries, 0 to 150797\n",
      "Data columns (total 13 columns):\n",
      " #   Column               Non-Null Count   Dtype  \n",
      "---  ------               --------------   -----  \n",
      " 0   women                150798 non-null  float64\n",
      " 1   hispanic             150798 non-null  float64\n",
      " 2   white                150798 non-null  float64\n",
      " 3   black                150798 non-null  float64\n",
      " 4   native               150798 non-null  float64\n",
      " 5   asian                150798 non-null  float64\n",
      " 6   pacific              150798 non-null  float64\n",
      " 7   income_per_cap       150798 non-null  float64\n",
      " 8   poverty              150798 non-null  float64\n",
      " 9   unemployment         150798 non-null  float64\n",
      " 10  democrats            150798 non-null  float64\n",
      " 11  voting_age_citizens  150798 non-null  float64\n",
      " 12  believer_denier      150798 non-null  int64  \n",
      "dtypes: float64(12), int64(1)\n",
      "memory usage: 15.0 MB\n"
     ]
    }
   ],
   "source": [
    "df.info()"
   ]
  },
  {
   "cell_type": "code",
   "execution_count": 6,
   "id": "57cdb433-52ed-4520-9be8-edda935b590a",
   "metadata": {},
   "outputs": [],
   "source": [
    "X = df.drop('believer_denier', axis=1)\n",
    "\n",
    "y = df['believer_denier']"
   ]
  },
  {
   "cell_type": "code",
   "execution_count": 7,
   "id": "64b36a9c-020e-4aa9-8387-d88cb20180ad",
   "metadata": {},
   "outputs": [
    {
     "data": {
      "text/plain": [
       "1    114667\n",
       "0     36131\n",
       "Name: believer_denier, dtype: int64"
      ]
     },
     "execution_count": 7,
     "metadata": {},
     "output_type": "execute_result"
    }
   ],
   "source": [
    "y.value_counts()"
   ]
  },
  {
   "cell_type": "markdown",
   "id": "ec13cd3f-a3ab-4e1f-9029-b1c3c6ab69ce",
   "metadata": {
    "tags": []
   },
   "source": [
    "## Baseline Model (Accuracy: 76%, F1: 43%)"
   ]
  },
  {
   "cell_type": "code",
   "execution_count": 8,
   "id": "37d3c5a8-919a-47a9-adea-b565ddefdc8f",
   "metadata": {},
   "outputs": [],
   "source": [
    "from sklearn.dummy import DummyClassifier"
   ]
  },
  {
   "cell_type": "code",
   "execution_count": 9,
   "id": "64fdafe3-8d5d-4253-9761-be18ecff8874",
   "metadata": {},
   "outputs": [
    {
     "name": "stdout",
     "output_type": "stream",
     "text": [
      "              precision    recall  f1-score   support\n",
      "\n",
      "           0       0.00      0.00      0.00      7171\n",
      "           1       0.76      1.00      0.87     22989\n",
      "\n",
      "    accuracy                           0.76     30160\n",
      "   macro avg       0.38      0.50      0.43     30160\n",
      "weighted avg       0.58      0.76      0.66     30160\n",
      "\n"
     ]
    },
    {
     "name": "stderr",
     "output_type": "stream",
     "text": [
      "/opt/anaconda3/envs/python/lib/python3.8/site-packages/sklearn/metrics/_classification.py:1221: UndefinedMetricWarning: Precision and F-score are ill-defined and being set to 0.0 in labels with no predicted samples. Use `zero_division` parameter to control this behavior.\n",
      "  _warn_prf(average, modifier, msg_start, len(result))\n"
     ]
    }
   ],
   "source": [
    "X_train, X_test, y_train, y_test = train_test_split(X,y,test_size=0.2, random_state = 42)\n",
    "\n",
    "dummy = DummyClassifier(strategy='most_frequent')\n",
    "dummy.fit(X_train,y_train)\n",
    "y_pred = dummy.predict(X_test)\n",
    "print(classification_report(y_test, y_pred))"
   ]
  },
  {
   "cell_type": "code",
   "execution_count": 10,
   "id": "e11a608a-3c25-4720-97a2-dff0db996222",
   "metadata": {},
   "outputs": [],
   "source": [
    "# Save this model\n",
    "\n",
    "pickle.dump(dummy, open('baseline_task2.pkl','wb'))"
   ]
  },
  {
   "cell_type": "markdown",
   "id": "8fcd87db-36ea-4688-9e14-d4381417fe2f",
   "metadata": {
    "tags": []
   },
   "source": [
    "## Random Forest Classifier (RFC)"
   ]
  },
  {
   "cell_type": "code",
   "execution_count": 11,
   "id": "a78801c5-2ab3-4a90-ad7a-545846e27076",
   "metadata": {},
   "outputs": [
    {
     "name": "stdout",
     "output_type": "stream",
     "text": [
      "              precision    recall  f1-score   support\n",
      "\n",
      "           0       0.54      0.07      0.13      7171\n",
      "           1       0.77      0.98      0.86     22989\n",
      "\n",
      "    accuracy                           0.76     30160\n",
      "   macro avg       0.66      0.53      0.50     30160\n",
      "weighted avg       0.72      0.76      0.69     30160\n",
      "\n"
     ]
    }
   ],
   "source": [
    "# run model and generate classification report\n",
    "\n",
    "X_train, X_test, y_train, y_test = train_test_split(X,y,test_size=0.2, random_state = 42)\n",
    "\n",
    "model = RandomForestClassifier()\n",
    "model.fit(X_train, y_train)\n",
    "y_pred = model.predict(X_test)\n",
    "\n",
    "print(classification_report(y_test, y_pred))"
   ]
  },
  {
   "cell_type": "markdown",
   "id": "890579d8-bcff-4a80-9530-cad70c30eb3e",
   "metadata": {
    "tags": []
   },
   "source": [
    "## RFC + Undersampling"
   ]
  },
  {
   "cell_type": "code",
   "execution_count": 12,
   "id": "8a5ef9ea-ce1d-46e8-b763-d2854fa759ae",
   "metadata": {},
   "outputs": [
    {
     "name": "stdout",
     "output_type": "stream",
     "text": [
      "Counter({0: 36131, 1: 36131})\n"
     ]
    }
   ],
   "source": [
    "# Random Undersampling\n",
    "\n",
    "# define undersampling strategy\n",
    "rus = RandomUnderSampler()\n",
    "\n",
    "# fit and apply the transform\n",
    "X_rus, y_rus = rus.fit_resample(X, y)\n",
    "\n",
    "# summarize class distribution\n",
    "print(Counter(y_rus))"
   ]
  },
  {
   "cell_type": "code",
   "execution_count": 13,
   "id": "b66d5cc2-5671-4875-865f-9d6dc8239d98",
   "metadata": {},
   "outputs": [
    {
     "name": "stdout",
     "output_type": "stream",
     "text": [
      "              precision    recall  f1-score   support\n",
      "\n",
      "           0       0.61      0.57      0.59      7201\n",
      "           1       0.60      0.64      0.62      7252\n",
      "\n",
      "    accuracy                           0.61     14453\n",
      "   macro avg       0.61      0.61      0.61     14453\n",
      "weighted avg       0.61      0.61      0.61     14453\n",
      "\n"
     ]
    }
   ],
   "source": [
    "# run model and generate classification report\n",
    "\n",
    "X_train, X_test, y_train, y_test = train_test_split(X_rus,y_rus,test_size=0.2, random_state = 42)\n",
    "\n",
    "model = RandomForestClassifier()\n",
    "model.fit(X_train, y_train)\n",
    "y_pred = model.predict(X_test)\n",
    "\n",
    "print(classification_report(y_test, y_pred))"
   ]
  },
  {
   "cell_type": "markdown",
   "id": "687ec30d-1c10-4030-95b9-5baaa028adda",
   "metadata": {
    "tags": []
   },
   "source": [
    "## RFC + Oversampling"
   ]
  },
  {
   "cell_type": "code",
   "execution_count": 14,
   "id": "192b040d-4f65-4372-99d6-a847a91eec5f",
   "metadata": {},
   "outputs": [
    {
     "name": "stdout",
     "output_type": "stream",
     "text": [
      "Counter({1: 114667, 0: 114667})\n"
     ]
    }
   ],
   "source": [
    "# instantiating the random over sampler \n",
    "ros = RandomOverSampler()\n",
    "# resampling X, y\n",
    "X_ros, y_ros = ros.fit_resample(X, y)\n",
    "# new class distribution \n",
    "print(Counter(y_ros))"
   ]
  },
  {
   "cell_type": "code",
   "execution_count": 15,
   "id": "2a7c9fce-8257-48db-8751-f07870569cec",
   "metadata": {},
   "outputs": [
    {
     "name": "stdout",
     "output_type": "stream",
     "text": [
      "              precision    recall  f1-score   support\n",
      "\n",
      "           0       0.63      0.57      0.60     23040\n",
      "           1       0.60      0.66      0.63     22827\n",
      "\n",
      "    accuracy                           0.62     45867\n",
      "   macro avg       0.62      0.62      0.62     45867\n",
      "weighted avg       0.62      0.62      0.62     45867\n",
      "\n"
     ]
    }
   ],
   "source": [
    "# run model and generate classification report\n",
    "\n",
    "X_train, X_test, y_train, y_test = train_test_split(X_ros,y_ros,test_size=0.2, random_state = 42)\n",
    "\n",
    "model = RandomForestClassifier()\n",
    "model.fit(X_train, y_train)\n",
    "y_pred = model.predict(X_test)\n",
    "\n",
    "print(classification_report(y_test, y_pred))"
   ]
  },
  {
   "cell_type": "code",
   "execution_count": 16,
   "id": "492212b6-588e-4023-b224-530b9c41b031",
   "metadata": {},
   "outputs": [
    {
     "name": "stdout",
     "output_type": "stream",
     "text": [
      "Train ROC AUC Score: 0.67\n",
      "Test ROC AUC  Score: 0.66\n"
     ]
    }
   ],
   "source": [
    "# get ROC AUC scores\n",
    "\n",
    "train_probs = model.predict_proba(X_train)[:,1] \n",
    "probs = model.predict_proba(X_test)[:, 1]\n",
    "train_predictions = model.predict(X_train)\n",
    "\n",
    "print(f'Train ROC AUC Score: {round(roc_auc_score(y_train, train_probs),2)}')\n",
    "print(f'Test ROC AUC  Score: {round(roc_auc_score(y_test, probs),2)}')"
   ]
  },
  {
   "cell_type": "code",
   "execution_count": 17,
   "id": "79d34fdd-2201-428a-ae28-c9aac114af89",
   "metadata": {},
   "outputs": [
    {
     "name": "stdout",
     "output_type": "stream",
     "text": [
      "Baseline: {1.0} Test: {0.66} Train: {0.67}\n",
      "Baseline: {0.5} Test: {0.6} Train: {0.61}\n",
      "Baseline: {0.5} Test: {0.66} Train: {0.67}\n"
     ]
    },
    {
     "data": {
      "image/png": "[encoded data removed]",
      "text/plain": [
       "<Figure size 576x432 with 1 Axes>"
      ]
     },
     "metadata": {
      "needs_background": "light"
     },
     "output_type": "display_data"
    }
   ],
   "source": [
    "#https://towardsdatascience.com/my-random-forest-classifier-cheat-sheet-in-python-fedb84f8cf4f\n",
    "\n",
    "def evaluate_model(y_pred, probs,train_predictions, train_probs):\n",
    "    baseline = {}\n",
    "    baseline['recall']=recall_score(y_test,\n",
    "                    [1 for _ in range(len(y_test))])\n",
    "    baseline['precision'] = precision_score(y_test,\n",
    "                    [1 for _ in range(len(y_test))])\n",
    "    baseline['roc'] = 0.5\n",
    "    results = {}\n",
    "    results['recall'] = recall_score(y_test, y_pred)\n",
    "    results['precision'] = precision_score(y_test, y_pred)\n",
    "    results['roc'] = roc_auc_score(y_test, probs)\n",
    "    train_results = {}\n",
    "    train_results['recall'] = recall_score(y_train, train_predictions)\n",
    "    train_results['precision'] = precision_score(y_train, train_predictions)\n",
    "    train_results['roc'] = roc_auc_score(y_train, train_probs)\n",
    "    for metric in ['recall', 'precision', 'roc']:  \n",
    "          print('Baseline:', {round(baseline[metric], 2)}, \n",
    "                 'Test:', {round(results[metric], 2)}, \n",
    "                 'Train:', {round(train_results[metric], 2)})\n",
    "     # Calculate false positive rates and true positive rates\n",
    "    base_fpr, base_tpr, _ = roc_curve(y_test, [1 for _ in range(len(y_test))])\n",
    "    model_fpr, model_tpr, _ = roc_curve(y_test, probs)\n",
    "    plt.figure(figsize = (8, 6))\n",
    "    plt.rcParams['font.size'] = 16\n",
    "    # Plot both curves\n",
    "    plt.plot(base_fpr, base_tpr, 'b', label = 'baseline')\n",
    "    plt.plot(model_fpr, model_tpr, 'r', label = 'model')\n",
    "    plt.legend();\n",
    "    plt.xlabel('False Positive Rate');\n",
    "    plt.ylabel('True Positive Rate'); plt.title('ROC Curves');\n",
    "    plt.show();\n",
    "evaluate_model(y_pred,probs,train_predictions,train_probs)"
   ]
  },
  {
   "cell_type": "code",
   "execution_count": 18,
   "id": "c862e541-8ab3-4ded-91ca-9ec88c875847",
   "metadata": {},
   "outputs": [
    {
     "data": {
      "image/png": "[encoded data removed]",
      "text/plain": [
       "<Figure size 720x720 with 2 Axes>"
      ]
     },
     "metadata": {
      "needs_background": "light"
     },
     "output_type": "display_data"
    }
   ],
   "source": [
    "#https://towardsdatascience.com/my-random-forest-classifier-cheat-sheet-in-python-fedb84f8cf4f\n",
    "\n",
    "import itertools\n",
    "def plot_confusion_matrix(cm, classes, normalize = False,\n",
    "                          title='Confusion matrix',\n",
    "                          cmap=plt.cm.Blues):  \n",
    "    plt.figure(figsize = (10, 10))\n",
    "    plt.imshow(cm, interpolation='nearest', cmap=cmap)\n",
    "    plt.title(title, size = 24)\n",
    "    plt.colorbar(aspect=4)\n",
    "    tick_marks = np.arange(len(classes))\n",
    "    plt.xticks(tick_marks, classes, rotation=45, size = 14)\n",
    "    plt.yticks(tick_marks, classes, size = 14)\n",
    "    fmt = '.2f' if normalize else 'd'\n",
    "    thresh = cm.max() / 2.\n",
    "    # Label the plot\n",
    "    for i, j in itertools.product(range(cm.shape[0]),   range(cm.shape[1])):\n",
    "        plt.text(j, i, format(cm[i, j], fmt), \n",
    "                 fontsize = 20,\n",
    "                 horizontalalignment=\"center\",\n",
    "                 color=\"white\" if cm[i, j] > thresh else \"black\")\n",
    "    plt.grid(None)\n",
    "    plt.tight_layout()\n",
    "    plt.ylabel('True label', size = 18)\n",
    "    plt.xlabel('Predicted label', size = 18)\n",
    "\n",
    "# Let's plot it out\n",
    "cm = confusion_matrix(y_test, y_pred)\n",
    "plot_confusion_matrix(cm, classes = ['0 - Denier', '1 - Believer'],\n",
    "                      title = 'Confusion Matrix')"
   ]
  },
  {
   "cell_type": "markdown",
   "id": "7e0755f2-509e-4bea-bcb2-31d01da69a64",
   "metadata": {
    "tags": []
   },
   "source": [
    "## RFC Parameter Tuning"
   ]
  },
  {
   "cell_type": "code",
   "execution_count": 19,
   "id": "785a9d3d-1aad-4cfa-bea9-838183c11bd5",
   "metadata": {},
   "outputs": [
    {
     "data": {
      "text/plain": [
       "{'criterion': 'gini',\n",
       " 'max_depth': 8,\n",
       " 'max_features': 'sqrt',\n",
       " 'n_estimators': 500}"
      ]
     },
     "execution_count": 19,
     "metadata": {},
     "output_type": "execute_result"
    }
   ],
   "source": [
    "# train-test split (using oversampled dataset)\n",
    "\n",
    "X_train, X_test, y_train, y_test = train_test_split(X_ros,y_ros,test_size=0.2, random_state = 42)\n",
    "\n",
    "rf=RandomForestClassifier()\n",
    "\n",
    "param_grid = { \n",
    "    'n_estimators': [200, 500],\n",
    "    'max_features': ['auto', 'sqrt', 'log2'],\n",
    "    'max_depth' : [4,5,6,7,8],\n",
    "    'criterion' :['gini', 'entropy']\n",
    "}\n",
    "\n",
    "rf_grid = GridSearchCV(estimator=rf, param_grid=param_grid, cv=3)\n",
    "rf_grid.fit(X_train, y_train)\n",
    "rf_grid.best_params_"
   ]
  },
  {
   "cell_type": "markdown",
   "id": "8f1a5e43-93d8-4a2a-a179-3d0b9fedaa61",
   "metadata": {
    "tags": []
   },
   "source": [
    "## RFC Prediction and Feature Importance"
   ]
  },
  {
   "cell_type": "code",
   "execution_count": 20,
   "id": "bfde56ff-8453-47db-96fd-b2547afa8900",
   "metadata": {},
   "outputs": [
    {
     "name": "stdout",
     "output_type": "stream",
     "text": [
      "              precision    recall  f1-score   support\n",
      "\n",
      "           0       0.62      0.61      0.61     23040\n",
      "           1       0.61      0.62      0.61     22827\n",
      "\n",
      "    accuracy                           0.61     45867\n",
      "   macro avg       0.61      0.61      0.61     45867\n",
      "weighted avg       0.61      0.61      0.61     45867\n",
      "\n"
     ]
    }
   ],
   "source": [
    "# train model with best parameters\n",
    "\n",
    "best_model = RandomForestClassifier(criterion='gini',\n",
    "                                    max_depth=8,\n",
    "                                    max_features='sqrt',\n",
    "                                    n_estimators= 500)\n",
    "\n",
    "best_model.fit(X_train, y_train)\n",
    "y_pred = best_model.predict(X_test)\n",
    "print(classification_report(y_test, y_pred))"
   ]
  },
  {
   "cell_type": "code",
   "execution_count": 21,
   "id": "9ee7f42c-ee8a-4066-ad0a-93715bc38e82",
   "metadata": {},
   "outputs": [
    {
     "name": "stdout",
     "output_type": "stream",
     "text": [
      "Feature: 0, Score: 0.05218\n",
      "Feature: 1, Score: 0.04835\n",
      "Feature: 2, Score: 0.05262\n",
      "Feature: 3, Score: 0.07466\n",
      "Feature: 4, Score: 0.01684\n",
      "Feature: 5, Score: 0.10808\n",
      "Feature: 6, Score: 0.01932\n",
      "Feature: 7, Score: 0.14536\n",
      "Feature: 8, Score: 0.03712\n",
      "Feature: 9, Score: 0.03710\n",
      "Feature: 10, Score: 0.35323\n",
      "Feature: 11, Score: 0.05514\n"
     ]
    },
    {
     "data": {
      "image/png": "[encoded data removed]",
      "text/plain": [
       "<Figure size 432x288 with 1 Axes>"
      ]
     },
     "metadata": {
      "needs_background": "light"
     },
     "output_type": "display_data"
    }
   ],
   "source": [
    "# Find scores that show how important each feature is\n",
    "\n",
    "importance = best_model.feature_importances_\n",
    "\n",
    "importances_dict = {}\n",
    "\n",
    "for i,v in enumerate(importance):\n",
    "    print('Feature: %0d, Score: %.5f' % (i,v))\n",
    "    importances_dict[i] = v\n",
    "\n",
    "# plot feature importance\n",
    "plt.bar([x for x in range(len(importance))], importance)\n",
    "plt.show()"
   ]
  },
  {
   "cell_type": "code",
   "execution_count": 22,
   "id": "926095a2-2161-4cc9-b54a-0b46b9151736",
   "metadata": {},
   "outputs": [
    {
     "name": "stdout",
     "output_type": "stream",
     "text": [
      "[('democrats', 0.353),\n",
      " ('income_per_cap', 0.145),\n",
      " ('asian', 0.108),\n",
      " ('black', 0.075),\n",
      " ('voting_age_citizens', 0.055),\n",
      " ('white', 0.053),\n",
      " ('women', 0.052),\n",
      " ('hispanic', 0.048),\n",
      " ('poverty', 0.037),\n",
      " ('unemployment', 0.037),\n",
      " ('pacific', 0.019),\n",
      " ('native', 0.017)]\n"
     ]
    }
   ],
   "source": [
    "import pprint\n",
    "\n",
    "importance_dic = {}\n",
    "\n",
    "for feat, importance in zip(X.columns, best_model.feature_importances_):\n",
    "    importance_dic[feat] = round(importance,3)\n",
    "    \n",
    "pprint.pprint(sorted(importance_dic.items(), key = lambda x: x[1], reverse = True))"
   ]
  },
  {
   "cell_type": "code",
   "execution_count": 23,
   "id": "bb12abdb-e2e4-43d6-82d1-64de097e5307",
   "metadata": {},
   "outputs": [],
   "source": [
    "# import data again and this time remove the two worst performing variables (pacific and native)\n",
    "\n",
    "df = pd.read_pickle(\"../data/usa_classified_tweets.pkl\")"
   ]
  },
  {
   "cell_type": "code",
   "execution_count": 24,
   "id": "d60243f2-781b-480b-8937-ececfebddb21",
   "metadata": {},
   "outputs": [],
   "source": [
    "df = df.drop(columns=['id', 'text','location','total_pop', 'republicans',\n",
    "                     'native','pacific'])"
   ]
  },
  {
   "cell_type": "code",
   "execution_count": 25,
   "id": "ba3504e7-de59-4de7-bba4-870518c7d56e",
   "metadata": {},
   "outputs": [],
   "source": [
    "X = df.drop('believer_denier', axis=1)\n",
    "\n",
    "y = df['believer_denier']"
   ]
  },
  {
   "cell_type": "code",
   "execution_count": 26,
   "id": "22c68017-766a-4278-8180-7a067b526b26",
   "metadata": {},
   "outputs": [
    {
     "name": "stdout",
     "output_type": "stream",
     "text": [
      "Counter({1: 114667, 0: 114667})\n"
     ]
    }
   ],
   "source": [
    "# instantiating the random over sampler \n",
    "ros = RandomOverSampler()\n",
    "# resampling X, y\n",
    "X_ros, y_ros = ros.fit_resample(X, y)\n",
    "# new class distribution \n",
    "print(Counter(y_ros))"
   ]
  },
  {
   "cell_type": "code",
   "execution_count": 27,
   "id": "7eff5d87-7935-4394-9452-b0daa48d45c9",
   "metadata": {},
   "outputs": [
    {
     "name": "stdout",
     "output_type": "stream",
     "text": [
      "              precision    recall  f1-score   support\n",
      "\n",
      "           0       0.62      0.61      0.61     23040\n",
      "           1       0.61      0.62      0.61     22827\n",
      "\n",
      "    accuracy                           0.61     45867\n",
      "   macro avg       0.61      0.61      0.61     45867\n",
      "weighted avg       0.61      0.61      0.61     45867\n",
      "\n"
     ]
    }
   ],
   "source": [
    "# fit the model again to see if performance increased\n",
    "\n",
    "X_train, X_test, y_train, y_test = train_test_split(X_ros,y_ros,test_size=0.2, random_state = 42)\n",
    "\n",
    "best_model = RandomForestClassifier(criterion='entropy',\n",
    "                                    max_depth=8,\n",
    "                                    max_features='sqrt',\n",
    "                                    n_estimators= 200)\n",
    "\n",
    "best_model.fit(X_train, y_train)\n",
    "y_pred = best_model.predict(X_test)\n",
    "print(classification_report(y_test, y_pred))"
   ]
  },
  {
   "cell_type": "code",
   "execution_count": 28,
   "id": "4908dbaa-4744-47f8-8ab6-7d1fa38df269",
   "metadata": {},
   "outputs": [
    {
     "name": "stdout",
     "output_type": "stream",
     "text": [
      "[('democrats', 0.34),\n",
      " ('income_per_cap', 0.169),\n",
      " ('asian', 0.119),\n",
      " ('black', 0.077),\n",
      " ('white', 0.059),\n",
      " ('voting_age_citizens', 0.055),\n",
      " ('women', 0.049),\n",
      " ('hispanic', 0.049),\n",
      " ('unemployment', 0.042),\n",
      " ('poverty', 0.041)]\n"
     ]
    }
   ],
   "source": [
    "import pprint\n",
    "\n",
    "importance_dic = {}\n",
    "\n",
    "for feat, importance in zip(X.columns, best_model.feature_importances_):\n",
    "    importance_dic[feat] = round(importance,3)\n",
    "    \n",
    "pprint.pprint(sorted(importance_dic.items(), key = lambda x: x[1], reverse = True))"
   ]
  },
  {
   "cell_type": "markdown",
   "id": "f04c1e66-6b47-4c2f-a138-449ef6c2e56d",
   "metadata": {
    "tags": []
   },
   "source": [
    "# Support Vector Classifier (SVC)"
   ]
  },
  {
   "cell_type": "code",
   "execution_count": 29,
   "id": "6d191b48-062d-40da-bb8e-0bad5d2020c3",
   "metadata": {},
   "outputs": [],
   "source": [
    "# import data again\n",
    "\n",
    "df = pd.read_pickle(\"../data/usa_classified_tweets.pkl\")"
   ]
  },
  {
   "cell_type": "code",
   "execution_count": 30,
   "id": "750014b3-57c7-468d-9602-ad0cdd195408",
   "metadata": {},
   "outputs": [],
   "source": [
    "df = df.drop(columns=['id', 'text','location','total_pop', 'republicans'])"
   ]
  },
  {
   "cell_type": "code",
   "execution_count": 31,
   "id": "a15b297e-b946-4c77-b4f6-f54bdde3d4d9",
   "metadata": {},
   "outputs": [
    {
     "name": "stdout",
     "output_type": "stream",
     "text": [
      "<class 'pandas.core.frame.DataFrame'>\n",
      "RangeIndex: 150798 entries, 0 to 150797\n",
      "Data columns (total 13 columns):\n",
      " #   Column               Non-Null Count   Dtype  \n",
      "---  ------               --------------   -----  \n",
      " 0   women                150798 non-null  float64\n",
      " 1   hispanic             150798 non-null  float64\n",
      " 2   white                150798 non-null  float64\n",
      " 3   black                150798 non-null  float64\n",
      " 4   native               150798 non-null  float64\n",
      " 5   asian                150798 non-null  float64\n",
      " 6   pacific              150798 non-null  float64\n",
      " 7   income_per_cap       150798 non-null  float64\n",
      " 8   poverty              150798 non-null  float64\n",
      " 9   unemployment         150798 non-null  float64\n",
      " 10  democrats            150798 non-null  float64\n",
      " 11  voting_age_citizens  150798 non-null  float64\n",
      " 12  believer_denier      150798 non-null  int64  \n",
      "dtypes: float64(12), int64(1)\n",
      "memory usage: 15.0 MB\n"
     ]
    }
   ],
   "source": [
    "df.info()"
   ]
  },
  {
   "cell_type": "code",
   "execution_count": 32,
   "id": "43a06fb6-21bc-40d6-8bdc-0e1b84aae6dc",
   "metadata": {},
   "outputs": [],
   "source": [
    "# separate X and y\n",
    "\n",
    "X = df.drop('believer_denier', axis=1)  \n",
    "y = df['believer_denier']"
   ]
  },
  {
   "cell_type": "code",
   "execution_count": 33,
   "id": "edf4245d-95f4-4405-8a09-66d1e0f7fcaf",
   "metadata": {},
   "outputs": [],
   "source": [
    "# scale X\n",
    "\n",
    "X = preprocessing.scale(X)"
   ]
  },
  {
   "cell_type": "code",
   "execution_count": 34,
   "id": "1dc4a0da-4ed1-4206-befe-5462e9b54b38",
   "metadata": {},
   "outputs": [
    {
     "name": "stdout",
     "output_type": "stream",
     "text": [
      "              precision    recall  f1-score   support\n",
      "\n",
      "           0       0.61      0.00      0.01      7171\n",
      "           1       0.76      1.00      0.87     22989\n",
      "\n",
      "    accuracy                           0.76     30160\n",
      "   macro avg       0.69      0.50      0.44     30160\n",
      "weighted avg       0.73      0.76      0.66     30160\n",
      "\n"
     ]
    }
   ],
   "source": [
    "# SVC with no data manipulation (64% accuracy)\n",
    "\n",
    "X_train, X_test, y_train, y_test = train_test_split(X,y,test_size=0.2, random_state = 42)\n",
    "\n",
    "classifier = SVC()\n",
    "classifier.fit(X_train, y_train)\n",
    "y_pred = classifier.predict(X_test)\n",
    "\n",
    "print(classification_report(y_test,y_pred))"
   ]
  },
  {
   "cell_type": "markdown",
   "id": "3d1ee533-f262-4491-b337-fd2b7bc19927",
   "metadata": {
    "tags": []
   },
   "source": [
    "## SVC + Random Undersampling\n"
   ]
  },
  {
   "cell_type": "code",
   "execution_count": 35,
   "id": "93e068f4-01d9-48af-8128-98611e1138a2",
   "metadata": {},
   "outputs": [
    {
     "name": "stdout",
     "output_type": "stream",
     "text": [
      "Counter({0: 36131, 1: 36131})\n"
     ]
    }
   ],
   "source": [
    "# initiating RandomUndersampler\n",
    "rus = RandomUnderSampler() \n",
    "# resampling X, y\n",
    "X_rus, y_rus = rus.fit_resample(X, y)\n",
    "# new class distribution\n",
    "print(Counter(y_rus))"
   ]
  },
  {
   "cell_type": "code",
   "execution_count": 36,
   "id": "af201980-5e05-4d99-adc5-7677bb08dd92",
   "metadata": {},
   "outputs": [
    {
     "name": "stdout",
     "output_type": "stream",
     "text": [
      "              precision    recall  f1-score   support\n",
      "\n",
      "           0       0.60      0.63      0.62      7201\n",
      "           1       0.62      0.59      0.60      7252\n",
      "\n",
      "    accuracy                           0.61     14453\n",
      "   macro avg       0.61      0.61      0.61     14453\n",
      "weighted avg       0.61      0.61      0.61     14453\n",
      "\n"
     ]
    }
   ],
   "source": [
    "# running classifier (61% accuracy)\n",
    "\n",
    "X_train, X_test, y_train, y_test = train_test_split(X_rus,y_rus,test_size=0.2, random_state = 42)\n",
    "\n",
    "classifier = SVC()\n",
    "classifier.fit(X_train, y_train)\n",
    "y_pred = classifier.predict(X_test)\n",
    "print(classification_report(y_test,y_pred))"
   ]
  },
  {
   "cell_type": "markdown",
   "id": "7669615e-2308-4ad8-af7d-72ed6a689d14",
   "metadata": {
    "tags": []
   },
   "source": [
    "## SVC + RandomOversampling"
   ]
  },
  {
   "cell_type": "code",
   "execution_count": 37,
   "id": "1befefdb-47b8-4bb8-a9ea-2c107c7ba81e",
   "metadata": {},
   "outputs": [
    {
     "name": "stdout",
     "output_type": "stream",
     "text": [
      "Counter({1: 114667, 0: 114667})\n"
     ]
    }
   ],
   "source": [
    "ros = RandomOverSampler()\n",
    "\n",
    "# resampling X, y\n",
    "X_ros, y_ros = ros.fit_resample(X, y)\n",
    "\n",
    "# new class distribution \n",
    "print(Counter(y_ros))"
   ]
  },
  {
   "cell_type": "code",
   "execution_count": 38,
   "id": "44ec0613-3721-4098-83c0-8ec3c67588db",
   "metadata": {},
   "outputs": [
    {
     "name": "stdout",
     "output_type": "stream",
     "text": [
      "              precision    recall  f1-score   support\n",
      "\n",
      "           0       0.60      0.63      0.62     22796\n",
      "           1       0.62      0.59      0.60     23071\n",
      "\n",
      "    accuracy                           0.61     45867\n",
      "   macro avg       0.61      0.61      0.61     45867\n",
      "weighted avg       0.61      0.61      0.61     45867\n",
      "\n"
     ]
    }
   ],
   "source": [
    "# running classifier\n",
    "\n",
    "X_train, X_test, y_train, y_test = train_test_split(X_ros, y_ros, test_size = 0.20)\n",
    "\n",
    "classifier = SVC()\n",
    "classifier.fit(X_train, y_train)\n",
    "y_pred = classifier.predict(X_test)\n",
    "\n",
    "print(classification_report(y_test,y_pred))"
   ]
  },
  {
   "cell_type": "markdown",
   "id": "6ff8273a-5392-4719-9054-0d0cc969c6d3",
   "metadata": {
    "tags": []
   },
   "source": [
    "## SVC Parameter Tuning"
   ]
  },
  {
   "cell_type": "code",
   "execution_count": 39,
   "id": "d3ca8f7c-014d-4b6a-9673-9d980a646c0a",
   "metadata": {},
   "outputs": [],
   "source": [
    "X_train, X_test, y_train, y_test = train_test_split(X_rus,y_rus,test_size=0.2, random_state = 42)"
   ]
  },
  {
   "cell_type": "code",
   "execution_count": 40,
   "id": "d8788161-51ab-4328-834d-1eea6804c2b5",
   "metadata": {},
   "outputs": [
    {
     "name": "stdout",
     "output_type": "stream",
     "text": [
      "Fitting 3 folds for each of 10 candidates, totalling 30 fits\n"
     ]
    },
    {
     "name": "stderr",
     "output_type": "stream",
     "text": [
      "[Parallel(n_jobs=1)]: Using backend SequentialBackend with 1 concurrent workers.\n",
      "[Parallel(n_jobs=1)]: Done  30 out of  30 | elapsed: 36.2min finished\n"
     ]
    },
    {
     "data": {
      "text/plain": [
       "RandomizedSearchCV(cv=3, estimator=SVC(),\n",
       "                   param_distributions={'C': [0.1, 1, 10, 100],\n",
       "                                        'gamma': [1, 0.1, 0.01, 0.001],\n",
       "                                        'kernel': ['rbf']},\n",
       "                   verbose=1)"
      ]
     },
     "execution_count": 40,
     "metadata": {},
     "output_type": "execute_result"
    }
   ],
   "source": [
    "from sklearn.model_selection import RandomizedSearchCV\n",
    "\n",
    "param_grid = {'C': [0.1,1, 10, 100], 'gamma': [1,0.1,0.01,0.001],\n",
    "              'kernel': ['rbf']}\n",
    "\n",
    "grid = RandomizedSearchCV(SVC(),param_distributions=param_grid,cv=3,verbose=1)\n",
    "grid.fit(X_train,y_train)"
   ]
  },
  {
   "cell_type": "code",
   "execution_count": 41,
   "id": "88eabb2e-7233-4887-9571-c3037fdb7451",
   "metadata": {},
   "outputs": [
    {
     "name": "stdout",
     "output_type": "stream",
     "text": [
      "SVC(C=0.1, gamma=1)\n"
     ]
    }
   ],
   "source": [
    "print(grid.best_estimator_)"
   ]
  },
  {
   "cell_type": "code",
   "execution_count": 42,
   "id": "5a281843-6cb2-45d2-be91-287a9b59c3e0",
   "metadata": {},
   "outputs": [
    {
     "name": "stdout",
     "output_type": "stream",
     "text": [
      "              precision    recall  f1-score   support\n",
      "\n",
      "           0       0.61      0.62      0.62      7201\n",
      "           1       0.62      0.60      0.61      7252\n",
      "\n",
      "    accuracy                           0.61     14453\n",
      "   macro avg       0.61      0.61      0.61     14453\n",
      "weighted avg       0.61      0.61      0.61     14453\n",
      "\n"
     ]
    }
   ],
   "source": [
    "# running classifier with best parameters\n",
    "\n",
    "classifier = SVC(C=0.1, gamma=1, kernel='rbf')\n",
    "classifier.fit(X_train, y_train)\n",
    "y_pred = classifier.predict(X_test)\n",
    "\n",
    "print(classification_report(y_test,y_pred))"
   ]
  },
  {
   "cell_type": "code",
   "execution_count": 45,
   "id": "aaadaee4-f612-4d1d-8dea-e4bf842152ab",
   "metadata": {},
   "outputs": [
    {
     "name": "stdout",
     "output_type": "stream",
     "text": [
      "<class 'pandas.core.frame.DataFrame'>\n",
      "RangeIndex: 150798 entries, 0 to 150797\n",
      "Data columns (total 13 columns):\n",
      " #   Column               Non-Null Count   Dtype  \n",
      "---  ------               --------------   -----  \n",
      " 0   women                150798 non-null  float64\n",
      " 1   hispanic             150798 non-null  float64\n",
      " 2   white                150798 non-null  float64\n",
      " 3   black                150798 non-null  float64\n",
      " 4   native               150798 non-null  float64\n",
      " 5   asian                150798 non-null  float64\n",
      " 6   pacific              150798 non-null  float64\n",
      " 7   income_per_cap       150798 non-null  float64\n",
      " 8   poverty              150798 non-null  float64\n",
      " 9   unemployment         150798 non-null  float64\n",
      " 10  democrats            150798 non-null  float64\n",
      " 11  voting_age_citizens  150798 non-null  float64\n",
      " 12  believer_denier      150798 non-null  int64  \n",
      "dtypes: float64(12), int64(1)\n",
      "memory usage: 15.0 MB\n"
     ]
    }
   ],
   "source": [
    "df.info()"
   ]
  },
  {
   "cell_type": "code",
   "execution_count": 46,
   "id": "8ed1996b-608e-47fb-9372-45df5580babf",
   "metadata": {},
   "outputs": [
    {
     "data": {
      "text/plain": [
       "Text(0.5, 0, 'Permutation Importance')"
      ]
     },
     "execution_count": 46,
     "metadata": {},
     "output_type": "execute_result"
    },
    {
     "data": {
      "image/png": "[encoded data removed]",
      "text/plain": [
       "<Figure size 432x288 with 1 Axes>"
      ]
     },
     "metadata": {
      "needs_background": "light"
     },
     "output_type": "display_data"
    }
   ],
   "source": [
    "#https://stackoverflow.com/questions/41592661/determining-the-most-contributing-features-for-svm-classifier-in-sklearn\n",
    "\n",
    "from sklearn.inspection import permutation_importance\n",
    "\n",
    "perm_importance = permutation_importance(classifier, X_test, y_test)\n",
    "\n",
    "feature_names = ['women','hispanic','white','black','native','asian','pacific',\n",
    "                 'income_per_cap','poverty', 'unemployment', 'democrats', 'voting_age_citizens',\n",
    "                 'believer_denier']\n",
    "features = np.array(feature_names)\n",
    "\n",
    "sorted_idx = perm_importance.importances_mean.argsort()\n",
    "plt.barh(features[sorted_idx], perm_importance.importances_mean[sorted_idx])\n",
    "plt.xlabel(\"Permutation Importance\")"
   ]
  },
  {
   "cell_type": "code",
   "execution_count": null,
   "id": "6c22af5d-675e-4f48-8827-64914ece2f33",
   "metadata": {},
   "outputs": [],
   "source": []
  }
 ],
 "metadata": {
  "kernelspec": {
   "display_name": "Python 3 (ipykernel)",
   "language": "python",
   "name": "python3"
  },
  "language_info": {
   "codemirror_mode": {
    "name": "ipython",
    "version": 3
   },
   "file_extension": ".py",
   "mimetype": "text/x-python",
   "name": "python",
   "nbconvert_exporter": "python",
   "pygments_lexer": "ipython3",
   "version": "3.8.11"
  }
 },
 "nbformat": 4,
 "nbformat_minor": 5
}
