{
 "cells": [
  {
   "cell_type": "code",
   "execution_count": null,
   "id": "ucawhpj_jlst",
   "metadata": {
    "id": "ucawhpj_jlst"
   },
   "outputs": [],
   "source": [
    "#!pip install pickle5\n",
    "#!pip install --upgrade pandas"
   ]
  },
  {
   "cell_type": "code",
   "execution_count": 2,
   "id": "lVYybHkJjraE",
   "metadata": {
    "colab": {
     "base_uri": "https://localhost:8080/"
    },
    "id": "lVYybHkJjraE",
    "outputId": "b659e809-f519-49f2-f1f1-0e8e6a8590ba"
   },
   "outputs": [
    {
     "name": "stdout",
     "output_type": "stream",
     "text": [
      "Mounted at /content/drive\n"
     ]
    }
   ],
   "source": [
    "#from google.colab import drive\n",
    "#drive.mount('/content/drive')"
   ]
  },
  {
   "cell_type": "markdown",
   "id": "00e70b52-182a-4a77-82dd-e89ed14be0b2",
   "metadata": {},
   "source": [
    "# Import Libraries & Data"
   ]
  },
  {
   "cell_type": "code",
   "execution_count": 1,
   "id": "b6329634-0988-4b8d-9c1b-39c1a8054a55",
   "metadata": {
    "colab": {
     "base_uri": "https://localhost:8080/"
    },
    "id": "b6329634-0988-4b8d-9c1b-39c1a8054a55",
    "outputId": "99e1cff0-cb77-458c-b613-489d53c031c0"
   },
   "outputs": [
    {
     "name": "stderr",
     "output_type": "stream",
     "text": [
      "[nltk_data] Downloading package stopwords to /Users/mac/nltk_data...\n",
      "[nltk_data]   Package stopwords is already up-to-date!\n"
     ]
    }
   ],
   "source": [
    "import pandas as pd\n",
    "import numpy as np\n",
    "import pickle\n",
    "import matplotlib.pyplot as plt\n",
    "import plotly.express as px\n",
    "import html\n",
    "import re\n",
    "import string\n",
    "import spacy\n",
    "import math\n",
    "\n",
    "import wordcloud\n",
    "from wordcloud import WordCloud, STOPWORDS, ImageColorGenerator\n",
    "\n",
    "import nltk\n",
    "from nltk import word_tokenize\n",
    "from nltk.tokenize import TweetTokenizer\n",
    "from nltk.corpus import stopwords, wordnet\n",
    "from nltk.stem import WordNetLemmatizer\n",
    "nltk.download('stopwords')\n",
    "\n",
    "from sklearn.pipeline import Pipeline\n",
    "from sklearn.linear_model import LogisticRegression\n",
    "from sklearn.model_selection import train_test_split, GridSearchCV\n",
    "from sklearn.feature_extraction.text import TfidfVectorizer, CountVectorizer, TfidfTransformer\n",
    "from sklearn.metrics import accuracy_score, f1_score, precision_score, recall_score\n",
    "from sklearn.metrics import confusion_matrix, ConfusionMatrixDisplay\n",
    "import os"
   ]
  },
  {
   "cell_type": "code",
   "execution_count": 2,
   "id": "zHDQnK3WjpAe",
   "metadata": {
    "colab": {
     "base_uri": "https://localhost:8080/"
    },
    "id": "zHDQnK3WjpAe",
    "outputId": "e36d9829-5462-4cdb-a040-dceb055a0144"
   },
   "outputs": [],
   "source": [
    "#print(pd.__version__)"
   ]
  },
  {
   "cell_type": "code",
   "execution_count": 2,
   "id": "64e99b75-b67c-4e7b-8d20-77ea79022edb",
   "metadata": {
    "id": "64e99b75-b67c-4e7b-8d20-77ea79022edb"
   },
   "outputs": [],
   "source": [
    "df = pd.read_pickle(\"../data/cleaned_lemmatized.pkl\")"
   ]
  },
  {
   "cell_type": "code",
   "execution_count": 3,
   "id": "14fec360-2649-4e99-a39e-760d17eaf5d8",
   "metadata": {},
   "outputs": [
    {
     "data": {
      "text/html": [
       "<div>\n",
       "<style scoped>\n",
       "    .dataframe tbody tr th:only-of-type {\n",
       "        vertical-align: middle;\n",
       "    }\n",
       "\n",
       "    .dataframe tbody tr th {\n",
       "        vertical-align: top;\n",
       "    }\n",
       "\n",
       "    .dataframe thead th {\n",
       "        text-align: right;\n",
       "    }\n",
       "</style>\n",
       "<table border=\"1\" class=\"dataframe\">\n",
       "  <thead>\n",
       "    <tr style=\"text-align: right;\">\n",
       "      <th></th>\n",
       "      <th>id</th>\n",
       "      <th>text</th>\n",
       "      <th>target</th>\n",
       "    </tr>\n",
       "  </thead>\n",
       "  <tbody>\n",
       "    <tr>\n",
       "      <th>0</th>\n",
       "      <td>1010598407596072962</td>\n",
       "      <td>icymi learn mandate rooftop solar power cause ...</td>\n",
       "      <td>0</td>\n",
       "    </tr>\n",
       "    <tr>\n",
       "      <th>1</th>\n",
       "      <td>1035418425047298049</td>\n",
       "      <td>nationalhurricanecenter hype storm convince cl...</td>\n",
       "      <td>0</td>\n",
       "    </tr>\n",
       "    <tr>\n",
       "      <th>2</th>\n",
       "      <td>968236700794175488</td>\n",
       "      <td>hey theresistance altleft antifa waronwomen fe...</td>\n",
       "      <td>0</td>\n",
       "    </tr>\n",
       "    <tr>\n",
       "      <th>3</th>\n",
       "      <td>968239413770760194</td>\n",
       "      <td>de jaren ge het globaal koeling compilation ne...</td>\n",
       "      <td>0</td>\n",
       "    </tr>\n",
       "    <tr>\n",
       "      <th>4</th>\n",
       "      <td>1067506402543964161</td>\n",
       "      <td>lovely little skybastard idonotconsent wedonot...</td>\n",
       "      <td>0</td>\n",
       "    </tr>\n",
       "    <tr>\n",
       "      <th>...</th>\n",
       "      <td>...</td>\n",
       "      <td>...</td>\n",
       "      <td>...</td>\n",
       "    </tr>\n",
       "    <tr>\n",
       "      <th>181013</th>\n",
       "      <td>1034131779647467520</td>\n",
       "      <td>mayor yes zev bus city bus clean quieter help ...</td>\n",
       "      <td>1</td>\n",
       "    </tr>\n",
       "    <tr>\n",
       "      <th>181014</th>\n",
       "      <td>959464906121777154</td>\n",
       "      <td>late william freimuth daily thank climatechang...</td>\n",
       "      <td>1</td>\n",
       "    </tr>\n",
       "    <tr>\n",
       "      <th>181015</th>\n",
       "      <td>952744691035914240</td>\n",
       "      <td>finally happen year ago lnp obstruction denial...</td>\n",
       "      <td>1</td>\n",
       "    </tr>\n",
       "    <tr>\n",
       "      <th>181016</th>\n",
       "      <td>1044531203154616320</td>\n",
       "      <td>present goal objective state play partner year...</td>\n",
       "      <td>1</td>\n",
       "    </tr>\n",
       "    <tr>\n",
       "      <th>181017</th>\n",
       "      <td>911915702688391168</td>\n",
       "      <td>late rally earth daily actonclimate california</td>\n",
       "      <td>1</td>\n",
       "    </tr>\n",
       "  </tbody>\n",
       "</table>\n",
       "<p>181018 rows × 3 columns</p>\n",
       "</div>"
      ],
      "text/plain": [
       "                         id  \\\n",
       "0       1010598407596072962   \n",
       "1       1035418425047298049   \n",
       "2        968236700794175488   \n",
       "3        968239413770760194   \n",
       "4       1067506402543964161   \n",
       "...                     ...   \n",
       "181013  1034131779647467520   \n",
       "181014   959464906121777154   \n",
       "181015   952744691035914240   \n",
       "181016  1044531203154616320   \n",
       "181017   911915702688391168   \n",
       "\n",
       "                                                     text  target  \n",
       "0       icymi learn mandate rooftop solar power cause ...       0  \n",
       "1       nationalhurricanecenter hype storm convince cl...       0  \n",
       "2       hey theresistance altleft antifa waronwomen fe...       0  \n",
       "3       de jaren ge het globaal koeling compilation ne...       0  \n",
       "4       lovely little skybastard idonotconsent wedonot...       0  \n",
       "...                                                   ...     ...  \n",
       "181013  mayor yes zev bus city bus clean quieter help ...       1  \n",
       "181014  late william freimuth daily thank climatechang...       1  \n",
       "181015  finally happen year ago lnp obstruction denial...       1  \n",
       "181016  present goal objective state play partner year...       1  \n",
       "181017     late rally earth daily actonclimate california       1  \n",
       "\n",
       "[181018 rows x 3 columns]"
      ]
     },
     "execution_count": 3,
     "metadata": {},
     "output_type": "execute_result"
    }
   ],
   "source": [
    "df"
   ]
  },
  {
   "cell_type": "code",
   "execution_count": 13,
   "id": "ZZ095x9rjuQA",
   "metadata": {
    "id": "ZZ095x9rjuQA"
   },
   "outputs": [],
   "source": [
    "# read df\n",
    "#with open('/content/drive/MyDrive/Thesis/training_dataset_undersampled', 'rb') as pickle_in:\n",
    "#    data = pickle.load(pickle_in)\n",
    "#    pickle_in.close()"
   ]
  },
  {
   "cell_type": "code",
   "execution_count": 4,
   "id": "228c5e15-60f0-4ba4-b32c-0331a5827c83",
   "metadata": {
    "id": "228c5e15-60f0-4ba4-b32c-0331a5827c83"
   },
   "outputs": [],
   "source": [
    "X = df['text']\n",
    "y = df['target']\n",
    "\n",
    "X_train, X_test, y_train, y_test = train_test_split(X, y, test_size=0.2, stratify=y, random_state=100)"
   ]
  },
  {
   "cell_type": "code",
   "execution_count": 5,
   "id": "33abd244-d0e4-4156-a5ab-ac57c8457a8f",
   "metadata": {
    "id": "33abd244-d0e4-4156-a5ab-ac57c8457a8f"
   },
   "outputs": [],
   "source": [
    "# make stopwords list\n",
    "\n",
    "definitive_hashtags = ['climatechangeisreal', 'actonclimate', 'extinctionrebellion', 'climateemergency', \n",
    "                 'climateactionnow', 'capitalism', 'public_health', 'climateaction', 'humanityextinction',\n",
    "                 'activism', 'noplanetb', 'savetheplanet', 'climateaction','climatechangeisfalse', \n",
    "                 'climatechangenotreal', 'climatechangehoax','globalwarminghoax', 'tcot', 'ccot', 'tlot', \n",
    "                 'pjnet', 'rednationrising', 'votered','libtard', 'libtards', 'maga', 'climatedeniers', \n",
    "                 'climatehoax', 'globalcooling','climatechangescam', 'climatehysteria', 'globalwarmingisahoax', \n",
    "                 'globalwarmingscam', 'globalcooling']\n",
    "\n",
    "stop_words = set(stopwords.words(\"english\"))\n",
    "stopwords_all = stop_words.union(definitive_hashtags)"
   ]
  },
  {
   "cell_type": "markdown",
   "id": "10ff7891-5fc4-4b0d-be77-9110afbd72b7",
   "metadata": {
    "id": "10ff7891-5fc4-4b0d-be77-9110afbd72b7",
    "jp-MarkdownHeadingCollapsed": true,
    "tags": []
   },
   "source": [
    "## Baseline Model (81.5% Accuracy)"
   ]
  },
  {
   "cell_type": "code",
   "execution_count": 7,
   "id": "96db3476-c256-4f53-a158-7b50da34acb6",
   "metadata": {
    "id": "96db3476-c256-4f53-a158-7b50da34acb6"
   },
   "outputs": [],
   "source": [
    "from sklearn.naive_bayes import MultinomialNB"
   ]
  },
  {
   "cell_type": "code",
   "execution_count": 8,
   "id": "a8879837-697f-4bf7-a011-cd328dcb9c2c",
   "metadata": {
    "colab": {
     "base_uri": "https://localhost:8080/"
    },
    "id": "a8879837-697f-4bf7-a011-cd328dcb9c2c",
    "outputId": "5412bab4-6cf9-4328-a11f-55de2dbca1c1"
   },
   "outputs": [
    {
     "name": "stdout",
     "output_type": "stream",
     "text": [
      "Accuracy: 81.455\n",
      "Precision: 82.763\n",
      "Recall: 86.486\n",
      "F1: 84.584\n"
     ]
    }
   ],
   "source": [
    "# create a count vectorizer\n",
    "vect = CountVectorizer(max_features=1000,stop_words=stopwords_all)\n",
    "\n",
    "# vectorize train and test sets\n",
    "xtrain_count = vect.fit_transform(X_train)\n",
    "xtest_count = vect.transform(X_test)\n",
    "\n",
    "# fit the training dataset on the NB classifier\n",
    "baseline = MultinomialNB()\n",
    "baseline.fit(xtrain_count, y_train)\n",
    "\n",
    "# predict the labels on test set and get evaluation scores\n",
    "baseline_pred = baseline.predict(xtest_count)\n",
    "\n",
    "accuracy_baseline = round(100*accuracy_score(y_test, baseline_pred),3)\n",
    "precision_baseline = round(100*precision_score(y_test, baseline_pred),3)\n",
    "recall_baseline = round(100*recall_score(y_test, baseline_pred),3)\n",
    "f1_baseline = round(2 * (precision_baseline * recall_baseline) / \n",
    "                    (precision_baseline + recall_baseline),3)\n",
    "\n",
    "# print evaluation metrics\n",
    "print('Accuracy:', accuracy_baseline)\n",
    "print('Precision:',precision_baseline)\n",
    "print('Recall:',recall_baseline)\n",
    "print('F1:',f1_baseline)"
   ]
  },
  {
   "cell_type": "code",
   "execution_count": 11,
   "id": "-qP21nZd3jMa",
   "metadata": {
    "colab": {
     "base_uri": "https://localhost:8080/"
    },
    "id": "-qP21nZd3jMa",
    "outputId": "b5a7add5-7aac-4d8d-c8a5-6961f6144a37"
   },
   "outputs": [
    {
     "data": {
      "text/plain": [
       "array([[18418,  2878],\n",
       "       [ 3836, 11072]])"
      ]
     },
     "execution_count": 11,
     "metadata": {},
     "output_type": "execute_result"
    }
   ],
   "source": [
    "confusion_matrix(y_test, baseline_pred, labels = [1,0])"
   ]
  },
  {
   "cell_type": "code",
   "execution_count": 12,
   "id": "83632a4d-5639-4918-87b4-5aba4464251a",
   "metadata": {
    "id": "83632a4d-5639-4918-87b4-5aba4464251a"
   },
   "outputs": [],
   "source": [
    "filename = 'BaselineNB_81.5%'\n",
    "pickle.dump(baseline, open(filename, 'wb'))"
   ]
  },
  {
   "cell_type": "markdown",
   "id": "75d7982f-95aa-4991-9a93-d1c9a8a55ed8",
   "metadata": {
    "id": "75d7982f-95aa-4991-9a93-d1c9a8a55ed8",
    "jp-MarkdownHeadingCollapsed": true,
    "tags": []
   },
   "source": [
    "## Logistic Regression + TF-IDF"
   ]
  },
  {
   "cell_type": "code",
   "execution_count": 57,
   "id": "0f6706ad-1b50-4357-8337-3b8fe6587d15",
   "metadata": {
    "id": "0f6706ad-1b50-4357-8337-3b8fe6587d15"
   },
   "outputs": [],
   "source": [
    "# TF-IDF ngram range = 1,3 (Accuracy 88.7%)\n",
    "\n",
    "vect = TfidfVectorizer(ngram_range=(1,3), max_df = 0.8, min_df = 3, stop_words=stopwords_all)\n",
    "\n",
    "model = LogisticRegression(max_iter=1000)"
   ]
  },
  {
   "cell_type": "code",
   "execution_count": 58,
   "id": "d7db0959-2c93-41ad-82e0-20e575b0307c",
   "metadata": {
    "colab": {
     "base_uri": "https://localhost:8080/"
    },
    "id": "d7db0959-2c93-41ad-82e0-20e575b0307c",
    "outputId": "0a945ed2-c6f8-40de-aa09-836207cd26a2"
   },
   "outputs": [
    {
     "name": "stdout",
     "output_type": "stream",
     "text": [
      "Accuracy: 88.606\n",
      "Precision: 88.478\n",
      "Recall: 92.703\n",
      "F1: 90.541\n"
     ]
    }
   ],
   "source": [
    "X_train_vec = vect.fit_transform(X_train)\n",
    "X_test_vec  = vect.transform(X_test)\n",
    "\n",
    "model.fit(X_train_vec, y_train);\n",
    "y_pred = model.predict(X_test_vec)\n",
    "\n",
    "precision = round(100*precision_score(y_test, y_pred),3)\n",
    "recall = round(100*recall_score(y_test, y_pred),3)\n",
    "f1 = round(2 * (precision * recall) / (precision + recall),3)\n",
    "accuracy = round(100*accuracy_score(y_test, y_pred),3)\n",
    "\n",
    "print('Accuracy:', accuracy)\n",
    "print('Precision:',precision)\n",
    "print('Recall:',recall)\n",
    "print('F1:',f1)"
   ]
  },
  {
   "cell_type": "code",
   "execution_count": 18,
   "id": "25c5f1dd-7257-464d-b05a-11c309877f58",
   "metadata": {
    "id": "25c5f1dd-7257-464d-b05a-11c309877f58"
   },
   "outputs": [],
   "source": [
    "# TF-IDF ngram range = 2,3 (Accuracy 80.3%)\n",
    "\n",
    "vect = TfidfVectorizer(ngram_range=(2,3), max_df = 0.8, min_df = 3, stop_words=stopwords_all)\n",
    "\n",
    "model = LogisticRegression(max_iter=1000)"
   ]
  },
  {
   "cell_type": "code",
   "execution_count": 19,
   "id": "30b57c0a-1a2f-40a5-92ff-08121fa6166c",
   "metadata": {
    "colab": {
     "base_uri": "https://localhost:8080/"
    },
    "id": "30b57c0a-1a2f-40a5-92ff-08121fa6166c",
    "outputId": "688b55ed-07d3-4a40-9bdb-bf3c90725787"
   },
   "outputs": [
    {
     "name": "stdout",
     "output_type": "stream",
     "text": [
      "Accuracy: 80.323\n",
      "Precision: 77.984\n",
      "Recall: 92.726\n",
      "F1: 84.718\n"
     ]
    }
   ],
   "source": [
    "X_train_vec = vect.fit_transform(X_train)\n",
    "X_test_vec  = vect.transform(X_test)\n",
    "\n",
    "model.fit(X_train_vec, y_train);\n",
    "y_pred = model.predict(X_test_vec)\n",
    "\n",
    "precision = round(100*precision_score(y_test, y_pred),3)\n",
    "recall = round(100*recall_score(y_test, y_pred),3)\n",
    "f1 = round(2 * (precision * recall) / (precision + recall),3)\n",
    "accuracy = round(100*accuracy_score(y_test, y_pred),3)\n",
    "\n",
    "print('Accuracy:', accuracy)\n",
    "print('Precision:',precision)\n",
    "print('Recall:',recall)\n",
    "print('F1:',f1)"
   ]
  },
  {
   "cell_type": "markdown",
   "id": "982b51c9-c908-410e-b263-5b88b1926a6e",
   "metadata": {
    "id": "982b51c9-c908-410e-b263-5b88b1926a6e",
    "jp-MarkdownHeadingCollapsed": true,
    "tags": []
   },
   "source": [
    "## Logistic Regression + CountVectorizer"
   ]
  },
  {
   "cell_type": "code",
   "execution_count": 13,
   "id": "40bd621f-0bc9-4107-beaa-16751b141943",
   "metadata": {
    "id": "40bd621f-0bc9-4107-beaa-16751b141943"
   },
   "outputs": [],
   "source": [
    "# Count Vectorizer ngram range = 2,3 (80% Accuracy)\n",
    "\n",
    "vect = CountVectorizer(ngram_range=(2,3),max_df = 0.8, min_df = 3, stop_words=stopwords_all)\n",
    "\n",
    "model = LogisticRegression(max_iter=1000)\n"
   ]
  },
  {
   "cell_type": "code",
   "execution_count": 14,
   "id": "c689e695-1685-487d-9c9d-ae476b787f67",
   "metadata": {
    "colab": {
     "base_uri": "https://localhost:8080/"
    },
    "id": "c689e695-1685-487d-9c9d-ae476b787f67",
    "outputId": "a0c9499a-9637-4344-922a-c49bc659262d"
   },
   "outputs": [
    {
     "name": "stdout",
     "output_type": "stream",
     "text": [
      "Accuracy: 80.422\n",
      "Precision: 79.129\n",
      "Recall: 90.618\n",
      "F1: 84.485\n"
     ]
    }
   ],
   "source": [
    "X_train_vec = vect.fit_transform(X_train)\n",
    "X_test_vec  = vect.transform(X_test)\n",
    "\n",
    "model.fit(X_train_vec, y_train);\n",
    "y_pred = model.predict(X_test_vec)\n",
    "\n",
    "precision = round(100*precision_score(y_test, y_pred),3)\n",
    "recall = round(100*recall_score(y_test, y_pred),3)\n",
    "f1 = round(2 * (precision * recall) / (precision + recall),3)\n",
    "accuracy = round(100*accuracy_score(y_test, y_pred),3)\n",
    "\n",
    "print('Accuracy:', accuracy)\n",
    "print('Precision:',precision)\n",
    "print('Recall:',recall)\n",
    "print('F1:',f1)"
   ]
  },
  {
   "cell_type": "code",
   "execution_count": 6,
   "id": "1cf0ea7c-8ade-41c2-a7ae-f3fbb286a95e",
   "metadata": {
    "id": "1cf0ea7c-8ade-41c2-a7ae-f3fbb286a95e"
   },
   "outputs": [],
   "source": [
    "# Count Vectorizer ngram range = 1,3 (BEST,89.2% Accuracy)\n",
    "\n",
    "vect = CountVectorizer(ngram_range=(1,3),max_df = 0.8, min_df = 3, stop_words=stopwords_all)\n",
    "\n",
    "model = LogisticRegression(max_iter=1000)"
   ]
  },
  {
   "cell_type": "code",
   "execution_count": 7,
   "id": "d11df0ca-3146-48ff-9c54-1b5b951d50b5",
   "metadata": {
    "colab": {
     "base_uri": "https://localhost:8080/"
    },
    "id": "d11df0ca-3146-48ff-9c54-1b5b951d50b5",
    "outputId": "30bd8e76-b90b-4712-e9c4-d2d60b5ce516"
   },
   "outputs": [
    {
     "name": "stdout",
     "output_type": "stream",
     "text": [
      "Accuracy: 88.927\n",
      "Precision: 89.622\n",
      "Recall: 91.806\n",
      "F1: 90.701\n"
     ]
    }
   ],
   "source": [
    "X_train_vec = vect.fit_transform(X_train)\n",
    "X_test_vec  = vect.transform(X_test)\n",
    "\n",
    "model.fit(X_train_vec, y_train);\n",
    "y_pred = model.predict(X_test_vec)\n",
    "\n",
    "precision = round(100*precision_score(y_test, y_pred),3)\n",
    "recall = round(100*recall_score(y_test, y_pred),3)\n",
    "f1 = round(2 * (precision * recall) / (precision + recall),3)\n",
    "accuracy = round(100*accuracy_score(y_test, y_pred),3)\n",
    "\n",
    "print('Accuracy:', accuracy)\n",
    "print('Precision:',precision)\n",
    "print('Recall:',recall)\n",
    "print('F1:',f1)"
   ]
  },
  {
   "cell_type": "code",
   "execution_count": 22,
   "id": "59941039-4be7-4854-8240-8fbff8f56d1e",
   "metadata": {},
   "outputs": [
    {
     "data": {
      "text/plain": [
       "1    21296\n",
       "0    14908\n",
       "Name: target, dtype: int64"
      ]
     },
     "execution_count": 22,
     "metadata": {},
     "output_type": "execute_result"
    }
   ],
   "source": [
    "y_test.value_counts()"
   ]
  },
  {
   "cell_type": "code",
   "execution_count": 24,
   "id": "9233c9cb-9c80-43c2-b225-f757b52d4afa",
   "metadata": {},
   "outputs": [
    {
     "data": {
      "text/plain": [
       "array([[19608,  1688],\n",
       "       [ 2239, 12669]])"
      ]
     },
     "execution_count": 24,
     "metadata": {},
     "output_type": "execute_result"
    }
   ],
   "source": [
    "confusion_matrix(y_test,y_pred,labels=[1,0])"
   ]
  },
  {
   "cell_type": "code",
   "execution_count": 25,
   "id": "02931249-36db-4f99-bebd-6aa2c7585d15",
   "metadata": {},
   "outputs": [],
   "source": [
    "filename = 'LR_89.2%'\n",
    "pickle.dump(model, open(filename, 'wb'))"
   ]
  },
  {
   "cell_type": "markdown",
   "id": "d3053f29-f392-4119-9974-b6093735d055",
   "metadata": {},
   "source": [
    "## Logistic Regression Grid Search"
   ]
  },
  {
   "cell_type": "code",
   "execution_count": 22,
   "id": "c185dd0e-b568-4b1e-97c0-87ed98b1e08a",
   "metadata": {},
   "outputs": [],
   "source": [
    "from warnings import filterwarnings\n",
    "filterwarnings('ignore')"
   ]
  },
  {
   "cell_type": "code",
   "execution_count": 24,
   "id": "87a18cb8-eab4-4d2d-87ad-214798b68161",
   "metadata": {},
   "outputs": [
    {
     "name": "stdout",
     "output_type": "stream",
     "text": [
      "Best Parameters are: {'C': 0.01, 'penalty': 'l2', 'solver': 'lbfgs'}\n",
      "accuracy = 0.8536625787205834\n",
      "precision =  0.8475408411539799\n",
      "recall =  0.9159936138241923\n",
      "f1 score =  0.8804387073478968\n"
     ]
    }
   ],
   "source": [
    "# GridSearch for best parameters\n",
    "\n",
    "logit_params = {'penalty': ['none', 'l2'], 'solver': ['lbfgs'], 'C': [0.00001,0.0001,0.001,0.01,0.1,1,10,100,1000]}\n",
    "\n",
    "gs_logit = GridSearchCV(LogisticRegression(), logit_params, cv=3, scoring='f1')\n",
    "gs_logit.fit(X_train_vec, y_train)\n",
    "y_true, y_pred = y_test, gs_logit.predict(X_test_vec)\n",
    "\n",
    "print('Best Parameters are:', gs_logit.best_params_)\n",
    "print('accuracy =', accuracy_score(y_true, y_pred))\n",
    "print('precision = ', precision_score(y_true, y_pred))\n",
    "print('recall = ', recall_score(y_true, y_pred))\n",
    "print('f1 score = ', f1_score(y_true, y_pred))"
   ]
  },
  {
   "cell_type": "code",
   "execution_count": 6,
   "id": "990ef2b4-7ebc-4917-b4d8-63963480c9d1",
   "metadata": {},
   "outputs": [],
   "source": [
    "# train model with optimal parameters\n",
    "\n",
    "vect = CountVectorizer(ngram_range=(1,3),max_df = 0.8, min_df = 3, stop_words=stopwords_all)\n",
    "\n",
    "model = LogisticRegression(max_iter=1000, solver='lbfgs', penalty='l2', C=0.01)"
   ]
  },
  {
   "cell_type": "code",
   "execution_count": 7,
   "id": "28197d6e-6e2e-4ada-875c-f7fc9fca4b00",
   "metadata": {},
   "outputs": [
    {
     "name": "stdout",
     "output_type": "stream",
     "text": [
      "Accuracy: 85.366\n",
      "Precision: 84.754\n",
      "Recall: 91.599\n",
      "F1: 88.044\n"
     ]
    }
   ],
   "source": [
    "X_train_vec = vect.fit_transform(X_train)\n",
    "X_test_vec  = vect.transform(X_test)\n",
    "\n",
    "model.fit(X_train_vec, y_train);\n",
    "y_pred = model.predict(X_test_vec)\n",
    "\n",
    "precision = round(100*precision_score(y_test, y_pred),3)\n",
    "recall = round(100*recall_score(y_test, y_pred),3)\n",
    "f1 = round(2 * (precision * recall) / (precision + recall),3)\n",
    "accuracy = round(100*accuracy_score(y_test, y_pred),3)\n",
    "\n",
    "print('Accuracy:', accuracy)\n",
    "print('Precision:',precision)\n",
    "print('Recall:',recall)\n",
    "print('F1:',f1)"
   ]
  },
  {
   "cell_type": "markdown",
   "id": "8919c507-64d5-4b8b-b218-eefe141a27ae",
   "metadata": {
    "tags": []
   },
   "source": [
    "## Classifying Unseen Data"
   ]
  },
  {
   "cell_type": "code",
   "execution_count": 9,
   "id": "25620131-3ec6-4aaa-8d79-46a8bae2c97f",
   "metadata": {},
   "outputs": [],
   "source": [
    "# load unseen dataset & assign to X\n",
    "\n",
    "usa = pd.read_pickle(\"../usa_tweets_demo.pkl\")\n",
    "X = usa['text']"
   ]
  },
  {
   "cell_type": "code",
   "execution_count": 10,
   "id": "f7b8d0a2-0128-43a3-8125-5cf83678a3d2",
   "metadata": {},
   "outputs": [],
   "source": [
    "# vectorize X\n",
    "\n",
    "X_vec_pred = vect.transform(X)"
   ]
  },
  {
   "cell_type": "code",
   "execution_count": 11,
   "id": "ba8c9931-bc35-49db-b70f-9e8eb367b19a",
   "metadata": {},
   "outputs": [],
   "source": [
    "# predict probabilities for the new data\n",
    "\n",
    "y_pred = model.predict_proba(X_vec_pred)"
   ]
  },
  {
   "cell_type": "code",
   "execution_count": 12,
   "id": "7412992e-b337-4667-8dfa-e00743892842",
   "metadata": {},
   "outputs": [],
   "source": [
    "# classify data based on 0.5 threshold\n",
    "\n",
    "believer_denier_preds = []\n",
    "\n",
    "for i in y_pred:\n",
    "    if i[1] < 0.5:\n",
    "        believer_denier_preds.append(0)\n",
    "    else:\n",
    "        believer_denier_preds.append(1)"
   ]
  },
  {
   "cell_type": "code",
   "execution_count": 31,
   "id": "e90fe179-f084-4079-9761-c8f0bc207103",
   "metadata": {},
   "outputs": [
    {
     "data": {
      "text/plain": [
       "1    111470\n",
       "0     57990\n",
       "Name: believer_denier, dtype: int64"
      ]
     },
     "execution_count": 31,
     "metadata": {},
     "output_type": "execute_result"
    }
   ],
   "source": [
    "# add classifications to the dataset\n",
    "\n",
    "usa['believer_denier'] = believer_denier_preds\n",
    "usa['believer_denier'].value_counts()"
   ]
  },
  {
   "cell_type": "code",
   "execution_count": 13,
   "id": "fc730909-4ede-499d-98e0-b80d5bd433f6",
   "metadata": {},
   "outputs": [
    {
     "data": {
      "text/plain": [
       "1    100749\n",
       "0     52196\n",
       "Name: believer_denier, dtype: int64"
      ]
     },
     "execution_count": 13,
     "metadata": {},
     "output_type": "execute_result"
    }
   ],
   "source": [
    "# add classifications to the dataset\n",
    "\n",
    "usa['believer_denier'] = believer_denier_preds\n",
    "usa['believer_denier'].value_counts()"
   ]
  },
  {
   "cell_type": "code",
   "execution_count": 14,
   "id": "d04e50d7-34bc-4d69-9543-0bf5566b3b1a",
   "metadata": {},
   "outputs": [
    {
     "data": {
      "text/html": [
       "<div>\n",
       "<style scoped>\n",
       "    .dataframe tbody tr th:only-of-type {\n",
       "        vertical-align: middle;\n",
       "    }\n",
       "\n",
       "    .dataframe tbody tr th {\n",
       "        vertical-align: top;\n",
       "    }\n",
       "\n",
       "    .dataframe thead th {\n",
       "        text-align: right;\n",
       "    }\n",
       "</style>\n",
       "<table border=\"1\" class=\"dataframe\">\n",
       "  <thead>\n",
       "    <tr style=\"text-align: right;\">\n",
       "      <th></th>\n",
       "      <th>text</th>\n",
       "      <th>believer_denier</th>\n",
       "    </tr>\n",
       "  </thead>\n",
       "  <tbody>\n",
       "    <tr>\n",
       "      <th>0</th>\n",
       "      <td>ll juice left carrot tonight fresh juice morni...</td>\n",
       "      <td>0</td>\n",
       "    </tr>\n",
       "    <tr>\n",
       "      <th>1</th>\n",
       "      <td>climate fact course warm year concern learn cl...</td>\n",
       "      <td>1</td>\n",
       "    </tr>\n",
       "    <tr>\n",
       "      <th>2</th>\n",
       "      <td>well start plant gogreen eco optoutside actonc...</td>\n",
       "      <td>1</td>\n",
       "    </tr>\n",
       "    <tr>\n",
       "      <th>3</th>\n",
       "      <td>planet great winner world move ahead actonclim...</td>\n",
       "      <td>1</td>\n",
       "    </tr>\n",
       "    <tr>\n",
       "      <th>4</th>\n",
       "      <td>climatechange challenge urban challenge watch ...</td>\n",
       "      <td>1</td>\n",
       "    </tr>\n",
       "    <tr>\n",
       "      <th>...</th>\n",
       "      <td>...</td>\n",
       "      <td>...</td>\n",
       "    </tr>\n",
       "    <tr>\n",
       "      <th>152940</th>\n",
       "      <td>savage energy partner record break fiscal quar...</td>\n",
       "      <td>1</td>\n",
       "    </tr>\n",
       "    <tr>\n",
       "      <th>152941</th>\n",
       "      <td>hard tell snakeoil chemtrail globalwarmingisah...</td>\n",
       "      <td>0</td>\n",
       "    </tr>\n",
       "    <tr>\n",
       "      <th>152942</th>\n",
       "      <td>standard winter hurricane warn part florida yi...</td>\n",
       "      <td>1</td>\n",
       "    </tr>\n",
       "    <tr>\n",
       "      <th>152943</th>\n",
       "      <td>happy new yeaя fan globalwarmingisahoax hoax f...</td>\n",
       "      <td>0</td>\n",
       "    </tr>\n",
       "    <tr>\n",
       "      <th>152944</th>\n",
       "      <td>september buffalo globalwarmingisahoax</td>\n",
       "      <td>1</td>\n",
       "    </tr>\n",
       "  </tbody>\n",
       "</table>\n",
       "<p>152945 rows × 2 columns</p>\n",
       "</div>"
      ],
      "text/plain": [
       "                                                     text  believer_denier\n",
       "0       ll juice left carrot tonight fresh juice morni...                0\n",
       "1       climate fact course warm year concern learn cl...                1\n",
       "2       well start plant gogreen eco optoutside actonc...                1\n",
       "3       planet great winner world move ahead actonclim...                1\n",
       "4       climatechange challenge urban challenge watch ...                1\n",
       "...                                                   ...              ...\n",
       "152940  savage energy partner record break fiscal quar...                1\n",
       "152941  hard tell snakeoil chemtrail globalwarmingisah...                0\n",
       "152942  standard winter hurricane warn part florida yi...                1\n",
       "152943  happy new yeaя fan globalwarmingisahoax hoax f...                0\n",
       "152944             september buffalo globalwarmingisahoax                1\n",
       "\n",
       "[152945 rows x 2 columns]"
      ]
     },
     "execution_count": 14,
     "metadata": {},
     "output_type": "execute_result"
    }
   ],
   "source": [
    "usa[['text','believer_denier']]"
   ]
  },
  {
   "cell_type": "code",
   "execution_count": 39,
   "id": "6e29128a-43f2-4c66-88ce-9990d53bf424",
   "metadata": {},
   "outputs": [],
   "source": [
    "# sanity check classifications\n",
    "\n",
    "believers = usa.loc[usa['believer_denier'] == 1]\n",
    "believers = believers.reset_index(drop=True)\n",
    "\n",
    "deniers = usa.loc[usa['believer_denier'] == 0]\n",
    "deniers = deniers.reset_index(drop=True)"
   ]
  },
  {
   "cell_type": "code",
   "execution_count": 59,
   "id": "9e10447f-999a-4947-9cd0-502315934ca0",
   "metadata": {},
   "outputs": [
    {
     "data": {
      "text/plain": [
       "'bike firstnight firstnightmonterey mayor clyde roberson monterey commit renewable energy roberson say paris accord happynewyear actonclimate climatechange'"
      ]
     },
     "execution_count": 59,
     "metadata": {},
     "output_type": "execute_result"
    }
   ],
   "source": [
    "believers['text'][1]"
   ]
  },
  {
   "cell_type": "code",
   "execution_count": 67,
   "id": "745760df-5473-4997-ad80-9618cab56954",
   "metadata": {},
   "outputs": [
    {
     "data": {
      "text/plain": [
       "'climate change real start work solution instead get stick argue sciencehate conspiracylove family member aka holiday climatechangeisreal'"
      ]
     },
     "execution_count": 67,
     "metadata": {},
     "output_type": "execute_result"
    }
   ],
   "source": [
    "believers['text'][13]"
   ]
  },
  {
   "cell_type": "code",
   "execution_count": 61,
   "id": "d416a681-3733-4701-bd55-0163dcf610a8",
   "metadata": {},
   "outputs": [
    {
     "data": {
      "text/plain": [
       "'love fail tweet rest think global warming newsworthy frigid day brrrrrrr maga'"
      ]
     },
     "execution_count": 61,
     "metadata": {},
     "output_type": "execute_result"
    }
   ],
   "source": [
    "deniers['text'][50]"
   ]
  },
  {
   "cell_type": "code",
   "execution_count": 51,
   "id": "e2ebdce3-af5f-4b6a-9264-6d81f085311a",
   "metadata": {},
   "outputs": [
    {
     "data": {
      "text/plain": [
       "'wowcow global warmingcoolingclimate changetcot climatechange hoax'"
      ]
     },
     "execution_count": 51,
     "metadata": {},
     "output_type": "execute_result"
    }
   ],
   "source": [
    "deniers['text'][12]"
   ]
  },
  {
   "cell_type": "code",
   "execution_count": 16,
   "id": "ca5c3d23-2de5-4fad-9d50-cf1d6ae2e33c",
   "metadata": {},
   "outputs": [],
   "source": [
    "# save classified dataset\n",
    "\n",
    "usa.to_pickle(\"../data/usa_classified_tweets.pkl\")"
   ]
  },
  {
   "cell_type": "code",
   "execution_count": null,
   "id": "37656257-76ad-4277-9e43-dce99cd76afa",
   "metadata": {},
   "outputs": [],
   "source": []
  }
 ],
 "metadata": {
  "accelerator": "GPU",
  "colab": {
   "collapsed_sections": [],
   "name": "Preprocessing + LR.ipynb",
   "provenance": []
  },
  "kernelspec": {
   "display_name": "Python 3 (ipykernel)",
   "language": "python",
   "name": "python3"
  },
  "language_info": {
   "codemirror_mode": {
    "name": "ipython",
    "version": 3
   },
   "file_extension": ".py",
   "mimetype": "text/x-python",
   "name": "python",
   "nbconvert_exporter": "python",
   "pygments_lexer": "ipython3",
   "version": "3.8.11"
  }
 },
 "nbformat": 4,
 "nbformat_minor": 5
}
